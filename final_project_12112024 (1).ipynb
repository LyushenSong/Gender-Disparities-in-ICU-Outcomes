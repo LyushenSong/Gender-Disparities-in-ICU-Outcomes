{
 "cells": [
  {
   "cell_type": "markdown",
   "id": "8d5b2675-5894-4a0b-80c3-ff27545cd2f2",
   "metadata": {},
   "source": [
    "# BA878 Gender Disparities in ICU Outcomes"
   ]
  },
  {
   "cell_type": "code",
   "execution_count": 24,
   "id": "026ca65a-8440-46ed-b437-f22a7822d734",
   "metadata": {
    "tags": []
   },
   "outputs": [],
   "source": [
    "#!pip install lifelines"
   ]
  },
  {
   "cell_type": "code",
   "execution_count": 25,
   "id": "6d705f7a-72c9-479c-95e4-02b6d05cda40",
   "metadata": {
    "tags": []
   },
   "outputs": [],
   "source": [
    "import matplotlib.pyplot as plt\n",
    "import seaborn as sns\n",
    "from lifelines import KaplanMeierFitter\n",
    "\n",
    "import pandas as pd\n",
    "import numpy as np\n",
    "\n",
    "from google.cloud import bigquery\n",
    "\n",
    "from sklearn.impute import KNNImputer\n",
    "from sklearn.linear_model import LogisticRegression\n",
    "from sklearn.neighbors import NearestNeighbors\n",
    "\n",
    "from scipy.stats import chi2_contingency\n",
    "from scipy.stats import mannwhitneyu\n",
    "from lifelines import CoxPHFitter\n",
    "from scipy import stats\n",
    "from scipy.stats import fisher_exact, chi2_contingency\n",
    "\n",
    "\n",
    "# Initialize a BigQuery client\n",
    "client = bigquery.Client(project='ba878-project')"
   ]
  },
  {
   "cell_type": "code",
   "execution_count": 26,
   "id": "d63f5fbc-1c84-4ee0-9ca7-1b0178a93fcd",
   "metadata": {
    "tags": []
   },
   "outputs": [
    {
     "data": {
      "text/html": [
       "<div>\n",
       "<style scoped>\n",
       "    .dataframe tbody tr th:only-of-type {\n",
       "        vertical-align: middle;\n",
       "    }\n",
       "\n",
       "    .dataframe tbody tr th {\n",
       "        vertical-align: top;\n",
       "    }\n",
       "\n",
       "    .dataframe thead th {\n",
       "        text-align: right;\n",
       "    }\n",
       "</style>\n",
       "<table border=\"1\" class=\"dataframe\">\n",
       "  <thead>\n",
       "    <tr style=\"text-align: right;\">\n",
       "      <th></th>\n",
       "      <th>subject_id</th>\n",
       "      <th>hadm_id</th>\n",
       "      <th>age</th>\n",
       "      <th>gender</th>\n",
       "      <th>bmi</th>\n",
       "      <th>charlson_comorbidity_index</th>\n",
       "      <th>apsiii</th>\n",
       "      <th>days_to_death</th>\n",
       "      <th>death_within_28_days</th>\n",
       "      <th>death_within_365_days</th>\n",
       "      <th>...</th>\n",
       "      <th>admission_temperature</th>\n",
       "      <th>admission_temperature_c</th>\n",
       "      <th>admission_mean_blood_pressure</th>\n",
       "      <th>max_heart_rate_24h</th>\n",
       "      <th>arterial_ph</th>\n",
       "      <th>hemoglobin_g_dl</th>\n",
       "      <th>first_gcs_total</th>\n",
       "      <th>bun_mg_dl</th>\n",
       "      <th>creatinine_mg_dl</th>\n",
       "      <th>bilirubin_mg_dl</th>\n",
       "    </tr>\n",
       "  </thead>\n",
       "  <tbody>\n",
       "    <tr>\n",
       "      <th>0</th>\n",
       "      <td>11466140</td>\n",
       "      <td>23594972</td>\n",
       "      <td>67</td>\n",
       "      <td>M</td>\n",
       "      <td>30.9</td>\n",
       "      <td>&lt;NA&gt;</td>\n",
       "      <td>&lt;NA&gt;</td>\n",
       "      <td>99999</td>\n",
       "      <td>0</td>\n",
       "      <td>0</td>\n",
       "      <td>...</td>\n",
       "      <td>NaN</td>\n",
       "      <td>NaN</td>\n",
       "      <td>NaN</td>\n",
       "      <td>76.0</td>\n",
       "      <td>NaN</td>\n",
       "      <td>NaN</td>\n",
       "      <td>5.0</td>\n",
       "      <td>NaN</td>\n",
       "      <td>NaN</td>\n",
       "      <td>NaN</td>\n",
       "    </tr>\n",
       "    <tr>\n",
       "      <th>1</th>\n",
       "      <td>14371035</td>\n",
       "      <td>27960021</td>\n",
       "      <td>54</td>\n",
       "      <td>F</td>\n",
       "      <td>28.7</td>\n",
       "      <td>&lt;NA&gt;</td>\n",
       "      <td>&lt;NA&gt;</td>\n",
       "      <td>99999</td>\n",
       "      <td>0</td>\n",
       "      <td>0</td>\n",
       "      <td>...</td>\n",
       "      <td>NaN</td>\n",
       "      <td>NaN</td>\n",
       "      <td>NaN</td>\n",
       "      <td>112.0</td>\n",
       "      <td>NaN</td>\n",
       "      <td>NaN</td>\n",
       "      <td>3.0</td>\n",
       "      <td>NaN</td>\n",
       "      <td>NaN</td>\n",
       "      <td>NaN</td>\n",
       "    </tr>\n",
       "    <tr>\n",
       "      <th>2</th>\n",
       "      <td>10691194</td>\n",
       "      <td>24438843</td>\n",
       "      <td>74</td>\n",
       "      <td>F</td>\n",
       "      <td>25.9</td>\n",
       "      <td>&lt;NA&gt;</td>\n",
       "      <td>&lt;NA&gt;</td>\n",
       "      <td>99999</td>\n",
       "      <td>0</td>\n",
       "      <td>0</td>\n",
       "      <td>...</td>\n",
       "      <td>NaN</td>\n",
       "      <td>NaN</td>\n",
       "      <td>NaN</td>\n",
       "      <td>98.0</td>\n",
       "      <td>NaN</td>\n",
       "      <td>NaN</td>\n",
       "      <td>NaN</td>\n",
       "      <td>NaN</td>\n",
       "      <td>NaN</td>\n",
       "      <td>NaN</td>\n",
       "    </tr>\n",
       "    <tr>\n",
       "      <th>3</th>\n",
       "      <td>19730381</td>\n",
       "      <td>23854430</td>\n",
       "      <td>56</td>\n",
       "      <td>M</td>\n",
       "      <td>29.5</td>\n",
       "      <td>&lt;NA&gt;</td>\n",
       "      <td>&lt;NA&gt;</td>\n",
       "      <td>99999</td>\n",
       "      <td>0</td>\n",
       "      <td>0</td>\n",
       "      <td>...</td>\n",
       "      <td>NaN</td>\n",
       "      <td>NaN</td>\n",
       "      <td>67.0</td>\n",
       "      <td>103.0</td>\n",
       "      <td>NaN</td>\n",
       "      <td>NaN</td>\n",
       "      <td>3.0</td>\n",
       "      <td>NaN</td>\n",
       "      <td>NaN</td>\n",
       "      <td>NaN</td>\n",
       "    </tr>\n",
       "    <tr>\n",
       "      <th>4</th>\n",
       "      <td>11618742</td>\n",
       "      <td>27083914</td>\n",
       "      <td>72</td>\n",
       "      <td>M</td>\n",
       "      <td>NaN</td>\n",
       "      <td>&lt;NA&gt;</td>\n",
       "      <td>&lt;NA&gt;</td>\n",
       "      <td>99999</td>\n",
       "      <td>0</td>\n",
       "      <td>0</td>\n",
       "      <td>...</td>\n",
       "      <td>NaN</td>\n",
       "      <td>NaN</td>\n",
       "      <td>NaN</td>\n",
       "      <td>NaN</td>\n",
       "      <td>NaN</td>\n",
       "      <td>NaN</td>\n",
       "      <td>NaN</td>\n",
       "      <td>NaN</td>\n",
       "      <td>NaN</td>\n",
       "      <td>NaN</td>\n",
       "    </tr>\n",
       "  </tbody>\n",
       "</table>\n",
       "<p>5 rows × 49 columns</p>\n",
       "</div>"
      ],
      "text/plain": [
       "   subject_id   hadm_id  age gender   bmi  charlson_comorbidity_index  apsiii  \\\n",
       "0    11466140  23594972   67      M  30.9                        <NA>    <NA>   \n",
       "1    14371035  27960021   54      F  28.7                        <NA>    <NA>   \n",
       "2    10691194  24438843   74      F  25.9                        <NA>    <NA>   \n",
       "3    19730381  23854430   56      M  29.5                        <NA>    <NA>   \n",
       "4    11618742  27083914   72      M   NaN                        <NA>    <NA>   \n",
       "\n",
       "   days_to_death  death_within_28_days  death_within_365_days  ...  \\\n",
       "0          99999                     0                      0  ...   \n",
       "1          99999                     0                      0  ...   \n",
       "2          99999                     0                      0  ...   \n",
       "3          99999                     0                      0  ...   \n",
       "4          99999                     0                      0  ...   \n",
       "\n",
       "   admission_temperature  admission_temperature_c  \\\n",
       "0                    NaN                      NaN   \n",
       "1                    NaN                      NaN   \n",
       "2                    NaN                      NaN   \n",
       "3                    NaN                      NaN   \n",
       "4                    NaN                      NaN   \n",
       "\n",
       "   admission_mean_blood_pressure  max_heart_rate_24h  arterial_ph  \\\n",
       "0                            NaN                76.0          NaN   \n",
       "1                            NaN               112.0          NaN   \n",
       "2                            NaN                98.0          NaN   \n",
       "3                           67.0               103.0          NaN   \n",
       "4                            NaN                 NaN          NaN   \n",
       "\n",
       "   hemoglobin_g_dl  first_gcs_total  bun_mg_dl  creatinine_mg_dl  \\\n",
       "0              NaN              5.0        NaN               NaN   \n",
       "1              NaN              3.0        NaN               NaN   \n",
       "2              NaN              NaN        NaN               NaN   \n",
       "3              NaN              3.0        NaN               NaN   \n",
       "4              NaN              NaN        NaN               NaN   \n",
       "\n",
       "   bilirubin_mg_dl  \n",
       "0              NaN  \n",
       "1              NaN  \n",
       "2              NaN  \n",
       "3              NaN  \n",
       "4              NaN  \n",
       "\n",
       "[5 rows x 49 columns]"
      ]
     },
     "execution_count": 26,
     "metadata": {},
     "output_type": "execute_result"
    }
   ],
   "source": [
    "table_ref = client.dataset('MIMIC_4').table('WIP_final_df')\n",
    "\n",
    "# Fetch the table schema (optional, for verification)\n",
    "table = client.get_table(table_ref)\n",
    "\n",
    "# Load all data from the table into a DataFrame\n",
    "df_final = client.list_rows(table).to_dataframe()\n",
    "\n",
    "df_final.head()"
   ]
  },
  {
   "cell_type": "markdown",
   "id": "8ae0c618-f7fa-4c65-b49e-d1da4af9a238",
   "metadata": {},
   "source": [
    "# Data Cleaning"
   ]
  },
  {
   "cell_type": "markdown",
   "id": "cc51cb4a-2536-474a-a88e-f0e840a7fd03",
   "metadata": {},
   "source": [
    "Dropping columns with systematic missing pattern"
   ]
  },
  {
   "cell_type": "code",
   "execution_count": 27,
   "id": "231d1bf4-762e-452c-a617-a93b353036e1",
   "metadata": {
    "tags": []
   },
   "outputs": [],
   "source": [
    "df_final = df_final.dropna(subset=['had_invasive_ventilation', 'had_vasopressor_use', 'std_sofa'], axis=0)"
   ]
  },
  {
   "cell_type": "code",
   "execution_count": 28,
   "id": "3cb6632e-d86e-4515-b424-43b583a93d6b",
   "metadata": {
    "tags": []
   },
   "outputs": [
    {
     "data": {
      "text/plain": [
       "subject_id                                  0\n",
       "hadm_id                                     0\n",
       "age                                         0\n",
       "gender                                      0\n",
       "bmi                                      2089\n",
       "charlson_comorbidity_index                  0\n",
       "apsiii                                      0\n",
       "days_to_death                               0\n",
       "death_within_28_days                        0\n",
       "death_within_365_days                       0\n",
       "has_hypertension                            0\n",
       "had_invasive_ventilation                    0\n",
       "had_noninvasive_ventilation                 0\n",
       "had_vasopressor_use                         0\n",
       "has_diabetes                                0\n",
       "has_dyslipidaemia                           0\n",
       "has_coronary_heart_disease                  0\n",
       "has_severe_valvular_heart_disease           0\n",
       "has_heart_failure                           0\n",
       "has_peripheral_vascular_disease             0\n",
       "has_prior_stroke                            0\n",
       "had_rrt                                     0\n",
       "has_copd                                    0\n",
       "has_chronic_kidney_disease                  0\n",
       "sofa_slope                                  0\n",
       "median_sofa                                 0\n",
       "std_sofa                                    0\n",
       "has_chronic_liver_disease                   0\n",
       "has_active_malignant_tumor                  0\n",
       "has_hiv                                     0\n",
       "has_loss_of_autonomy                        0\n",
       "has_cognitive_dysfunction                   0\n",
       "has_respiratory_disorder_at_admission       0\n",
       "has_sepsis_at_admission                     0\n",
       "has_trauma_at_admission                     0\n",
       "has_neurological_disease_at_admission       0\n",
       "has_cardiac_arrest_at_admission             0\n",
       "has_cardiogenic_shock_at_admission          0\n",
       "has_hemorrhagic_shock_at_admission          0\n",
       "admission_temperature                     143\n",
       "admission_temperature_c                   143\n",
       "admission_mean_blood_pressure            3260\n",
       "max_heart_rate_24h                         13\n",
       "arterial_ph                              1472\n",
       "hemoglobin_g_dl                            61\n",
       "first_gcs_total                            29\n",
       "bun_mg_dl                                  59\n",
       "creatinine_mg_dl                           61\n",
       "bilirubin_mg_dl                          1972\n",
       "dtype: int64"
      ]
     },
     "execution_count": 28,
     "metadata": {},
     "output_type": "execute_result"
    }
   ],
   "source": [
    "df_final.isnull().sum()"
   ]
  },
  {
   "cell_type": "code",
   "execution_count": 29,
   "id": "51087267-807f-49f4-b521-d3969c48f9a0",
   "metadata": {
    "tags": []
   },
   "outputs": [],
   "source": [
    "merged_df=df_final.copy()"
   ]
  },
  {
   "cell_type": "markdown",
   "id": "81e66c02-d8d0-4c5e-82d4-6ed9ff1b982b",
   "metadata": {},
   "source": [
    "#### Imputation"
   ]
  },
  {
   "cell_type": "code",
   "execution_count": 30,
   "id": "db3b0869-22b4-4220-af03-658fb9b1dd59",
   "metadata": {
    "tags": []
   },
   "outputs": [
    {
     "name": "stdout",
     "output_type": "stream",
     "text": [
      "subject_id                                  0\n",
      "hadm_id                                     0\n",
      "age                                         0\n",
      "gender                                      0\n",
      "bmi                                         0\n",
      "charlson_comorbidity_index                  0\n",
      "apsiii                                      0\n",
      "days_to_death                               0\n",
      "death_within_28_days                        0\n",
      "death_within_365_days                       0\n",
      "has_hypertension                            0\n",
      "had_invasive_ventilation                    0\n",
      "had_noninvasive_ventilation                 0\n",
      "had_vasopressor_use                         0\n",
      "has_diabetes                                0\n",
      "has_dyslipidaemia                           0\n",
      "has_coronary_heart_disease                  0\n",
      "has_severe_valvular_heart_disease           0\n",
      "has_heart_failure                           0\n",
      "has_peripheral_vascular_disease             0\n",
      "has_prior_stroke                            0\n",
      "had_rrt                                     0\n",
      "has_copd                                    0\n",
      "has_chronic_kidney_disease                  0\n",
      "sofa_slope                                  0\n",
      "median_sofa                                 0\n",
      "std_sofa                                    0\n",
      "has_chronic_liver_disease                   0\n",
      "has_active_malignant_tumor                  0\n",
      "has_hiv                                     0\n",
      "has_loss_of_autonomy                        0\n",
      "has_cognitive_dysfunction                   0\n",
      "has_respiratory_disorder_at_admission       0\n",
      "has_sepsis_at_admission                     0\n",
      "has_trauma_at_admission                     0\n",
      "has_neurological_disease_at_admission       0\n",
      "has_cardiac_arrest_at_admission             0\n",
      "has_cardiogenic_shock_at_admission          0\n",
      "has_hemorrhagic_shock_at_admission          0\n",
      "admission_temperature                       0\n",
      "admission_temperature_c                     0\n",
      "admission_mean_blood_pressure            3260\n",
      "max_heart_rate_24h                          0\n",
      "arterial_ph                                 0\n",
      "hemoglobin_g_dl                             0\n",
      "first_gcs_total                             0\n",
      "bun_mg_dl                                   0\n",
      "creatinine_mg_dl                            0\n",
      "bilirubin_mg_dl                          1972\n",
      "dtype: int64\n"
     ]
    }
   ],
   "source": [
    "# Select only the columns to impute\n",
    "columns_to_impute = ['bmi', 'admission_temperature', 'admission_temperature_c', 'max_heart_rate_24h', 'arterial_ph', 'hemoglobin_g_dl', 'first_gcs_total', 'bun_mg_dl', 'creatinine_mg_dl']\n",
    "imputer = KNNImputer(n_neighbors=5)  # You can adjust n_neighbors as needed\n",
    "\n",
    "# Apply the imputer only to the selected columns\n",
    "merged_df[columns_to_impute] = imputer.fit_transform(merged_df[columns_to_impute])\n",
    "\n",
    "print(merged_df.isnull().sum())  # Check if there are any remaining missing values"
   ]
  },
  {
   "cell_type": "markdown",
   "id": "dbeb4491-172c-492b-ba42-2b880d4b9764",
   "metadata": {},
   "source": [
    "Dropping columns with large missing values"
   ]
  },
  {
   "cell_type": "code",
   "execution_count": 31,
   "id": "4466c40b-9735-4454-a7f8-c1fdd3a50c4f",
   "metadata": {
    "tags": []
   },
   "outputs": [],
   "source": [
    "merged_df.drop(['admission_mean_blood_pressure', 'bilirubin_mg_dl', 'bmi'], axis= 1, inplace= True)"
   ]
  },
  {
   "cell_type": "code",
   "execution_count": 32,
   "id": "de45ccd3-593b-4068-81f5-c30a2ac9b897",
   "metadata": {
    "tags": []
   },
   "outputs": [
    {
     "data": {
      "text/plain": [
       "subject_id                               0\n",
       "hadm_id                                  0\n",
       "age                                      0\n",
       "gender                                   0\n",
       "charlson_comorbidity_index               0\n",
       "apsiii                                   0\n",
       "days_to_death                            0\n",
       "death_within_28_days                     0\n",
       "death_within_365_days                    0\n",
       "has_hypertension                         0\n",
       "had_invasive_ventilation                 0\n",
       "had_noninvasive_ventilation              0\n",
       "had_vasopressor_use                      0\n",
       "has_diabetes                             0\n",
       "has_dyslipidaemia                        0\n",
       "has_coronary_heart_disease               0\n",
       "has_severe_valvular_heart_disease        0\n",
       "has_heart_failure                        0\n",
       "has_peripheral_vascular_disease          0\n",
       "has_prior_stroke                         0\n",
       "had_rrt                                  0\n",
       "has_copd                                 0\n",
       "has_chronic_kidney_disease               0\n",
       "sofa_slope                               0\n",
       "median_sofa                              0\n",
       "std_sofa                                 0\n",
       "has_chronic_liver_disease                0\n",
       "has_active_malignant_tumor               0\n",
       "has_hiv                                  0\n",
       "has_loss_of_autonomy                     0\n",
       "has_cognitive_dysfunction                0\n",
       "has_respiratory_disorder_at_admission    0\n",
       "has_sepsis_at_admission                  0\n",
       "has_trauma_at_admission                  0\n",
       "has_neurological_disease_at_admission    0\n",
       "has_cardiac_arrest_at_admission          0\n",
       "has_cardiogenic_shock_at_admission       0\n",
       "has_hemorrhagic_shock_at_admission       0\n",
       "admission_temperature                    0\n",
       "admission_temperature_c                  0\n",
       "max_heart_rate_24h                       0\n",
       "arterial_ph                              0\n",
       "hemoglobin_g_dl                          0\n",
       "first_gcs_total                          0\n",
       "bun_mg_dl                                0\n",
       "creatinine_mg_dl                         0\n",
       "dtype: int64"
      ]
     },
     "execution_count": 32,
     "metadata": {},
     "output_type": "execute_result"
    }
   ],
   "source": [
    "merged_df.isna().sum()"
   ]
  },
  {
   "cell_type": "markdown",
   "id": "3035b67b-f67d-4adf-abb0-df7f719f02b3",
   "metadata": {},
   "source": [
    "Removing incorrect records"
   ]
  },
  {
   "cell_type": "code",
   "execution_count": 33,
   "id": "96bb0df3-027d-43d1-ac4c-7219d91f190a",
   "metadata": {
    "tags": []
   },
   "outputs": [
    {
     "name": "stdout",
     "output_type": "stream",
     "text": [
      "Number of negative values in 'days_to_death': 2\n"
     ]
    }
   ],
   "source": [
    "# Count the number of negative values in 'days_to_death'\n",
    "negative_count = (merged_df['days_to_death'] < 0).sum()\n",
    "\n",
    "print(f\"Number of negative values in 'days_to_death': {negative_count}\")"
   ]
  },
  {
   "cell_type": "code",
   "execution_count": 34,
   "id": "3e13eed5-649d-494c-a9f2-6c97783537f3",
   "metadata": {
    "tags": []
   },
   "outputs": [],
   "source": [
    "merged_df = merged_df[merged_df['days_to_death'] >= 0]"
   ]
  },
  {
   "cell_type": "markdown",
   "id": "0bbee29d-60f5-4d09-b931-d082d9f445bf",
   "metadata": {
    "tags": []
   },
   "source": [
    "# Statistical Testings"
   ]
  },
  {
   "cell_type": "markdown",
   "id": "9d5e7337-e4e9-44bb-a201-84c599dce8f4",
   "metadata": {},
   "source": [
    "Checking for gender split"
   ]
  },
  {
   "cell_type": "code",
   "execution_count": 35,
   "id": "f9b5aab5-168f-4379-a55e-a25f28aab0c5",
   "metadata": {
    "tags": []
   },
   "outputs": [
    {
     "name": "stdout",
     "output_type": "stream",
     "text": [
      "gender\n",
      "M    4411\n",
      "F    3767\n",
      "Name: count, dtype: int64\n"
     ]
    }
   ],
   "source": [
    "# Count the occurrences of each unique value in the 'gender' column\n",
    "gender_counts = merged_df['gender'].value_counts()\n",
    "\n",
    "# Display the counts\n",
    "print(gender_counts)"
   ]
  },
  {
   "cell_type": "markdown",
   "id": "fb5b9493-8745-4e8b-85c0-f977c34ec78c",
   "metadata": {},
   "source": [
    "### Chi-Square for Categorical Value Testings"
   ]
  },
  {
   "cell_type": "markdown",
   "id": "dc7711b0-19a5-4757-aeab-8fc71e1aa679",
   "metadata": {
    "tags": []
   },
   "source": [
    "#### Gender and Death within One-year"
   ]
  },
  {
   "cell_type": "code",
   "execution_count": 36,
   "id": "a7c90b34-c231-4e9d-84f5-21525f299d69",
   "metadata": {
    "tags": []
   },
   "outputs": [
    {
     "name": "stdout",
     "output_type": "stream",
     "text": [
      "Chi-square statistic: 0.06508828744860037\n",
      "P-value: 0.7986272794954256\n",
      "Degrees of freedom: 1\n",
      "The result is not statistically significant. Fail to reject the null hypothesis.\n"
     ]
    }
   ],
   "source": [
    "contingency_table2 = pd.crosstab(merged_df['gender'], merged_df['death_within_365_days'])\n",
    "\n",
    "# Perform Chi-square test\n",
    "chi2_stat, p_value, dof, expected = chi2_contingency(contingency_table2)\n",
    "\n",
    "# Print results\n",
    "print(f\"Chi-square statistic: {chi2_stat}\")\n",
    "print(f\"P-value: {p_value}\")\n",
    "print(f\"Degrees of freedom: {dof}\")\n",
    "\n",
    "# Set significance level\n",
    "alpha = 0.05\n",
    "\n",
    "# Determine if p-value is significant\n",
    "if p_value <= alpha:\n",
    "    print(\"The result is statistically significant. Reject the null hypothesis.\")\n",
    "else:\n",
    "    print(\"The result is not statistically significant. Fail to reject the null hypothesis.\")"
   ]
  },
  {
   "cell_type": "markdown",
   "id": "d48f5b32-72c4-4c99-b9c9-270228358d39",
   "metadata": {
    "tags": []
   },
   "source": [
    "#### Gender and Death within 28 Days"
   ]
  },
  {
   "cell_type": "code",
   "execution_count": 37,
   "id": "37ebb946-cca9-458c-8434-63973942fe32",
   "metadata": {
    "tags": []
   },
   "outputs": [
    {
     "name": "stdout",
     "output_type": "stream",
     "text": [
      "Chi-square statistic: 0.43896144593060593\n",
      "P-value: 0.507624147548221\n",
      "The result is not statistically significant. Fail to reject the null hypothesis.\n"
     ]
    }
   ],
   "source": [
    "contingency_table = pd.crosstab(merged_df['gender'], merged_df['death_within_28_days'])\n",
    "\n",
    "# Perform Chi-square test\n",
    "chi2_stat, p_value, dof, expected = chi2_contingency(contingency_table)\n",
    "\n",
    "print(f\"Chi-square statistic: {chi2_stat}\")\n",
    "print(f\"P-value: {p_value}\")\n",
    "if p_value <= 0.05:\n",
    "    print(\"The result is statistically significant. Reject the null hypothesis.\")\n",
    "else:\n",
    "    print(\"The result is not statistically significant. Fail to reject the null hypothesis.\")"
   ]
  },
  {
   "cell_type": "markdown",
   "id": "8cdf40d4-e076-4d29-bc8b-4205ab08001d",
   "metadata": {},
   "source": [
    "### Mann-Whitney U test"
   ]
  },
  {
   "cell_type": "markdown",
   "id": "b917b03f-96dd-4361-8c6c-c3bd09b57a56",
   "metadata": {},
   "source": [
    "#### Gender and Death within One-year"
   ]
  },
  {
   "cell_type": "code",
   "execution_count": 38,
   "id": "38727a52-143b-413f-a623-ac6b2524a1a0",
   "metadata": {
    "tags": []
   },
   "outputs": [],
   "source": [
    "male_group_365 = merged_df[merged_df['gender'] == 'M']['death_within_365_days']\n",
    "female_group_365 = merged_df[merged_df['gender'] == 'F']['death_within_365_days']"
   ]
  },
  {
   "cell_type": "code",
   "execution_count": 39,
   "id": "ff7b27a5-f193-493a-9e3e-0e65f7636da6",
   "metadata": {
    "tags": []
   },
   "outputs": [
    {
     "name": "stdout",
     "output_type": "stream",
     "text": [
      "Statistic: 8282661.0, p-value: 0.7814883949939475\n"
     ]
    }
   ],
   "source": [
    "stat, p = mannwhitneyu(male_group_365, female_group_365, alternative='two-sided')\n",
    "print(f\"Statistic: {stat}, p-value: {p}\")"
   ]
  },
  {
   "cell_type": "markdown",
   "id": "2ef9e72c-2076-4eae-a4b8-8d111109438a",
   "metadata": {},
   "source": [
    "#### Gender and Death within 28 Days"
   ]
  },
  {
   "cell_type": "code",
   "execution_count": 40,
   "id": "98be42e9-fd8e-4231-a2ee-fce35249306d",
   "metadata": {
    "tags": []
   },
   "outputs": [],
   "source": [
    "male_group_28 = merged_df[merged_df['gender'] == 'M']['death_within_28_days']\n",
    "female_group_28 = merged_df[merged_df['gender'] == 'F']['death_within_28_days']"
   ]
  },
  {
   "cell_type": "code",
   "execution_count": 41,
   "id": "7c8177b4-a106-4182-81a7-bbddbd04c860",
   "metadata": {
    "tags": []
   },
   "outputs": [
    {
     "name": "stdout",
     "output_type": "stream",
     "text": [
      "Statistic: 8246427.0, p-value: 0.49321524998995014\n"
     ]
    }
   ],
   "source": [
    "stat, p = mannwhitneyu(male_group_28, female_group_28, alternative='two-sided')\n",
    "print(f\"Statistic: {stat}, p-value: {p}\")"
   ]
  },
  {
   "cell_type": "markdown",
   "id": "84c89db0-2bc6-410c-aa18-a023879b534f",
   "metadata": {
    "tags": []
   },
   "source": [
    "### Kaplan-Meier Plotting"
   ]
  },
  {
   "cell_type": "code",
   "execution_count": 42,
   "id": "67de5883-c00b-4f27-897c-34a65bcdc869",
   "metadata": {
    "tags": []
   },
   "outputs": [],
   "source": [
    "male_df = merged_df[merged_df['gender'] == 'M']\n",
    "female_df = merged_df[merged_df['gender'] == 'F']"
   ]
  },
  {
   "cell_type": "code",
   "execution_count": 43,
   "id": "6ec0d4a3-e724-4042-ae1d-b53d8eb6bf64",
   "metadata": {
    "tags": []
   },
   "outputs": [
    {
     "data": {
      "text/plain": [
       "count          8178.0\n",
       "mean     42385.377721\n",
       "std      49366.471831\n",
       "min               0.0\n",
       "25%               9.0\n",
       "50%             163.0\n",
       "75%           99999.0\n",
       "max           99999.0\n",
       "Name: days_to_death, dtype: Float64"
      ]
     },
     "execution_count": 43,
     "metadata": {},
     "output_type": "execute_result"
    }
   ],
   "source": [
    "merged_df['days_to_death'].describe()"
   ]
  },
  {
   "cell_type": "code",
   "execution_count": 68,
   "id": "63ae1758-5eab-4bdc-b718-9746485e96fd",
   "metadata": {
    "tags": []
   },
   "outputs": [
    {
     "data": {
      "image/png": "[encoded data removed]",
      "text/plain": [
       "<Figure size 1000x600 with 1 Axes>"
      ]
     },
     "metadata": {},
     "output_type": "display_data"
    }
   ],
   "source": [
    "# Ensure correct data types\n",
    "merged_df.loc[:, 'days_to_death'] = pd.to_numeric(merged_df['days_to_death'], errors='coerce')\n",
    "merged_df.loc[:, 'death_within_365_days'] = merged_df['death_within_365_days'].astype(int)\n",
    "\n",
    "# Initialize Kaplan-Meier fitter\n",
    "kmf_male = KaplanMeierFitter()\n",
    "kmf_female = KaplanMeierFitter()\n",
    "\n",
    "# Fit Kaplan-Meier model for males\n",
    "kmf_male.fit(durations=male_df['days_to_death'], event_observed=male_df['death_within_365_days'], label='Male')\n",
    "\n",
    "# Fit Kaplan-Meier model for females\n",
    "kmf_female.fit(durations=female_df['days_to_death'], event_observed=female_df['death_within_365_days'], label='Female')\n",
    "\n",
    "# Plot the survival curves with x-axis limited to 0-400 days\n",
    "plt.figure(figsize=(10, 6))\n",
    "kmf_male.plot_survival_function(ci_show=False)\n",
    "kmf_female.plot_survival_function(ci_show=False)\n",
    "\n",
    "# Customize plot\n",
    "plt.title('Kaplan-Meier Survival Curve by Gender (Death Within 365 Days)')\n",
    "plt.xlabel('Days')\n",
    "plt.ylabel('Survival Probability')\n",
    "plt.legend()\n",
    "plt.xlim(0, 400)\n",
    "plt.grid(True)\n",
    "plt.show()"
   ]
  },
  {
   "cell_type": "code",
   "execution_count": 69,
   "id": "efbb7f4d-792f-4f75-b865-7fbeb349be96",
   "metadata": {
    "tags": []
   },
   "outputs": [
    {
     "data": {
      "image/png": "[encoded data removed]",
      "text/plain": [
       "<Figure size 1000x600 with 1 Axes>"
      ]
     },
     "metadata": {},
     "output_type": "display_data"
    }
   ],
   "source": [
    "# Ensure correct data types\n",
    "merged_df.loc[:, 'days_to_death'] = pd.to_numeric(merged_df['days_to_death'], errors='coerce')\n",
    "merged_df.loc[:, 'death_within_28_days'] = merged_df['death_within_28_days'].astype(int)\n",
    "\n",
    "# Initialize Kaplan-Meier fitter\n",
    "kmf_male = KaplanMeierFitter()\n",
    "kmf_female = KaplanMeierFitter()\n",
    "\n",
    "# Fit Kaplan-Meier model for males\n",
    "kmf_male.fit(durations=male_df['days_to_death'], event_observed=male_df['death_within_28_days'], label='Male')\n",
    "\n",
    "# Fit Kaplan-Meier model for females\n",
    "kmf_female.fit(durations=female_df['days_to_death'], event_observed=female_df['death_within_28_days'], label='Female')\n",
    "\n",
    "# Plot the survival curves with x-axis limited to 0-400 days\n",
    "plt.figure(figsize=(10, 6))\n",
    "kmf_male.plot_survival_function(ci_show=False)\n",
    "kmf_female.plot_survival_function(ci_show=False)\n",
    "\n",
    "\n",
    "\n",
    "# Customize plot\n",
    "plt.title('Kaplan-Meier Survival Curve by Gender (Death Within 28 Days)')\n",
    "plt.xlabel('Days')\n",
    "plt.ylabel('Survival Probability')\n",
    "plt.legend()\n",
    "plt.xlim(0, 40)\n",
    "plt.grid(True)\n",
    "plt.show()"
   ]
  },
  {
   "cell_type": "markdown",
   "id": "20071923-fee5-4dd0-bd58-6ded9cac7820",
   "metadata": {},
   "source": [
    "### Log-Rank Test "
   ]
  },
  {
   "cell_type": "code",
   "execution_count": 93,
   "id": "ccb4a880-90e7-4497-b1c5-51316e6c581b",
   "metadata": {
    "tags": []
   },
   "outputs": [],
   "source": [
    "# Separate data into male and female groups\n",
    "male_group = df_final[df_final['gender'] == 'M']\n",
    "female_group = df_final[df_final['gender'] =='F']"
   ]
  },
  {
   "cell_type": "code",
   "execution_count": 95,
   "id": "e1bd5764-0194-4b8f-b2f9-84f507c8a7ba",
   "metadata": {
    "tags": []
   },
   "outputs": [
    {
     "data": {
      "text/html": [
       "<div>\n",
       "<style scoped>\n",
       "    .dataframe tbody tr th:only-of-type {\n",
       "        vertical-align: middle;\n",
       "    }\n",
       "\n",
       "    .dataframe tbody tr th {\n",
       "        vertical-align: top;\n",
       "    }\n",
       "\n",
       "    .dataframe thead th {\n",
       "        text-align: right;\n",
       "    }\n",
       "</style>\n",
       "<table border=\"1\" class=\"dataframe\">\n",
       "  <tbody>\n",
       "    <tr>\n",
       "      <th>t_0</th>\n",
       "      <td>-1</td>\n",
       "    </tr>\n",
       "    <tr>\n",
       "      <th>null_distribution</th>\n",
       "      <td>chi squared</td>\n",
       "    </tr>\n",
       "    <tr>\n",
       "      <th>degrees_of_freedom</th>\n",
       "      <td>1</td>\n",
       "    </tr>\n",
       "    <tr>\n",
       "      <th>test_name</th>\n",
       "      <td>logrank_test</td>\n",
       "    </tr>\n",
       "  </tbody>\n",
       "</table>\n",
       "</div><table border=\"1\" class=\"dataframe\">\n",
       "  <thead>\n",
       "    <tr style=\"text-align: right;\">\n",
       "      <th></th>\n",
       "      <th>test_statistic</th>\n",
       "      <th>p</th>\n",
       "      <th>-log2(p)</th>\n",
       "    </tr>\n",
       "  </thead>\n",
       "  <tbody>\n",
       "    <tr>\n",
       "      <th>0</th>\n",
       "      <td>0.35</td>\n",
       "      <td>0.55</td>\n",
       "      <td>0.85</td>\n",
       "    </tr>\n",
       "  </tbody>\n",
       "</table>"
      ],
      "text/latex": [
       "\\begin{tabular}{lrrr}\n",
       " & test_statistic & p & -log2(p) \\\\\n",
       "0 & 0.35 & 0.55 & 0.85 \\\\\n",
       "\\end{tabular}\n"
      ],
      "text/plain": [
       "<lifelines.StatisticalResult: logrank_test>\n",
       "               t_0 = -1\n",
       " null_distribution = chi squared\n",
       "degrees_of_freedom = 1\n",
       "         test_name = logrank_test\n",
       "\n",
       "---\n",
       " test_statistic    p  -log2(p)\n",
       "           0.35 0.55      0.85"
      ]
     },
     "metadata": {},
     "output_type": "display_data"
    }
   ],
   "source": [
    "from lifelines.statistics import logrank_test\n",
    "\n",
    "\n",
    "results = logrank_test(\n",
    "    durations_A=male_group['days_to_death'],\n",
    "    durations_B=female_group['days_to_death'],\n",
    "    event_observed_A=male_group['death_within_365_days'],\n",
    "    event_observed_B=female_group['death_within_365_days']\n",
    ")\n",
    "\n",
    "results.print_summary()\n"
   ]
  },
  {
   "cell_type": "markdown",
   "id": "08304d3c-02f0-427c-a026-fd6df5a5a393",
   "metadata": {
    "tags": []
   },
   "source": [
    "# Table 1 Creation"
   ]
  },
  {
   "cell_type": "code",
   "execution_count": 46,
   "id": "9c72f6ef-a5c3-44d0-a1f8-d053b3aac876",
   "metadata": {},
   "outputs": [],
   "source": [
    "merged_copy = merged_df.copy()\n",
    "\n",
    "#binning apsiii score\n",
    "apsiii_min = merged_copy['apsiii'].min()\n",
    "apsiii_max = merged_copy['apsiii'].max()\n",
    "\n",
    "merged_copy['apsiii_strata'] = pd.qcut(merged_copy['apsiii'], q=3).cat.codes"
   ]
  },
  {
   "cell_type": "code",
   "execution_count": 47,
   "id": "ca2dde67-cd7b-4645-9047-c520c1542eac",
   "metadata": {},
   "outputs": [],
   "source": [
    "merged_copy['days_to_death'] = pd.to_numeric(merged_copy['days_to_death'], errors='coerce')\n",
    "merged_copy['death_within_365_days'] = merged_copy['death_within_365_days'].astype(int)\n",
    "\n",
    "# Encode gender numerically (e.g., 0 = Male, 1 = Female)\n",
    "merged_copy['gender'] = merged_copy['gender'].map({'M': 0, 'F': 1})"
   ]
  },
  {
   "cell_type": "code",
   "execution_count": 48,
   "id": "0f3a4527-6cf5-440d-bb53-861bf3e0aeba",
   "metadata": {},
   "outputs": [],
   "source": [
    "merged_copy['endpoint_365'] = np.minimum(merged_copy['days_to_death'], 365)\n",
    "merged_copy['censored_365'] = (merged_copy['days_to_death'] <= 365).astype(int)\n",
    "\n",
    "#truncate for 28 days\n",
    "merged_copy['endpoint_28'] = np.minimum(merged_copy['days_to_death'], 28)\n",
    "merged_copy['censored_28'] = (merged_copy['days_to_death'] <= 28).astype(int)"
   ]
  },
  {
   "cell_type": "code",
   "execution_count": 49,
   "id": "f9c91035-9d2f-40a6-9d40-b8b718c9a6e8",
   "metadata": {
    "tags": []
   },
   "outputs": [],
   "source": [
    "merged_copy.to_csv('final_df.csv', index=False)"
   ]
  },
  {
   "cell_type": "code",
   "execution_count": 50,
   "id": "38f165c1-4b75-4630-972a-d50c649eaa4a",
   "metadata": {},
   "outputs": [],
   "source": [
    "continuous_vars = ['age', 'charlson_comorbidity_index', 'apsiii', 'days_to_death', 'sofa_slope', 'median_sofa', 'std_sofa', 'admission_temperature_c', 'max_heart_rate_24h', 'arterial_ph', 'hemoglobin_g_dl', 'first_gcs_total', 'bun_mg_dl', 'creatinine_mg_dl']\n",
    "\n",
    "categorical_vars = ['death_within_28_days', 'death_within_365_days', 'has_hypertension', 'had_invasive_ventilation', 'had_noninvasive_ventilation', 'had_vasopressor_use', 'has_diabetes', 'has_dyslipidaemia', 'has_coronary_heart_disease', 'has_severe_valvular_heart_disease', 'has_heart_failure', 'has_peripheral_vascular_disease', 'has_prior_stroke', 'had_rrt', 'has_copd', 'has_chronic_kidney_disease', 'has_chronic_liver_disease', 'has_active_malignant_tumor', 'has_hiv', 'has_loss_of_autonomy', 'has_cognitive_dysfunction', 'has_respiratory_disorder_at_admission', 'has_sepsis_at_admission', 'has_trauma_at_admission', 'has_neurological_disease_at_admission', 'has_cardiac_arrest_at_admission', 'has_cardiogenic_shock_at_admission', 'has_hemorrhagic_shock_at_admission', 'apsiii_strata']\n",
    "\n",
    "from scipy.stats import fisher_exact, chi2_contingency\n",
    "\n",
    "def calculate_stats(df, var, is_continuous):\n",
    "    female_data = merged_copy[merged_copy['gender']==1][var].dropna()\n",
    "    male_data = merged_copy[merged_copy['gender']==0][var].dropna()\n",
    "    \n",
    "    if is_continuous:\n",
    "        overall = f\"{merged_copy[var].median():.1f} [{merged_copy[var].quantile(0.25):.1f}-{merged_copy[var].quantile(0.75):.1f}]\"\n",
    "        female = f\"{female_data.median():.1f} [{female_data.quantile(0.25):.1f}-{female_data.quantile(0.75):.1f}]\" if len(female_data) > 0 else \"N/A\"\n",
    "        male = f\"{male_data.median():.1f} [{male_data.quantile(0.25):.1f}-{male_data.quantile(0.75):.1f}]\" if len(male_data) > 0 else \"N/A\"\n",
    "        \n",
    "        if len(female_data) > 0 and len(male_data) > 0:\n",
    "            _, p_value = stats.mannwhitneyu(female_data, male_data, alternative='two-sided')\n",
    "        else:\n",
    "            p_value = np.nan\n",
    "    else:\n",
    "        overall = f\"{df[var].sum()} ({merged_copy[var].mean()*100:.1f}%)\"\n",
    "        female = f\"{female_data.sum()} ({female_data.mean()*100:.1f}%)\" if len(female_data) > 0 else \"N/A\"\n",
    "        male = f\"{male_data.sum()} ({male_data.mean()*100:.1f}%)\" if len(male_data) > 0 else \"N/A\"\n",
    "        \n",
    "        contingency_table = pd.crosstab(df['gender'], df[var])\n",
    "        if contingency_table.shape == (2, 2):\n",
    "            _, p_value = fisher_exact(contingency_table)\n",
    "        elif contingency_table.shape[0] == 2 and contingency_table.shape[1] > 2:\n",
    "            _, p_value, _, _ = chi2_contingency(contingency_table)\n",
    "        else:\n",
    "            p_value = np.nan\n",
    "    \n",
    "    return pd.Series({'Overall': overall, 'Female': female, 'Male': male, 'P-value': f\"{p_value:.3f}\" if not np.isnan(p_value) else \"N/A\"})\n",
    "\n",
    "table1 = pd.DataFrame()\n",
    "\n",
    "for var in continuous_vars + categorical_vars:\n",
    "    new_row = calculate_stats(merged_copy, var, var in continuous_vars).to_frame().T\n",
    "    table1 = pd.concat([table1, new_row], ignore_index=True)\n",
    "\n",
    "table1.index = continuous_vars + categorical_vars\n",
    "table1['Variable'] = table1.index\n",
    "table1['Type'] = ['Continuous' if var in continuous_vars else 'Categorical' for var in table1.index]\n",
    "table1 = table1[['Variable', 'Type', 'Overall', 'Female', 'Male', 'P-value']]"
   ]
  },
  {
   "cell_type": "code",
   "execution_count": 51,
   "id": "34370214-3d69-407e-ba8d-4a4d956ad52d",
   "metadata": {
    "tags": []
   },
   "outputs": [
    {
     "data": {
      "text/html": [
       "<div>\n",
       "<style scoped>\n",
       "    .dataframe tbody tr th:only-of-type {\n",
       "        vertical-align: middle;\n",
       "    }\n",
       "\n",
       "    .dataframe tbody tr th {\n",
       "        vertical-align: top;\n",
       "    }\n",
       "\n",
       "    .dataframe thead th {\n",
       "        text-align: right;\n",
       "    }\n",
       "</style>\n",
       "<table border=\"1\" class=\"dataframe\">\n",
       "  <thead>\n",
       "    <tr style=\"text-align: right;\">\n",
       "      <th></th>\n",
       "      <th>Overall</th>\n",
       "      <th>Female</th>\n",
       "      <th>Male</th>\n",
       "      <th>P-value</th>\n",
       "    </tr>\n",
       "  </thead>\n",
       "  <tbody>\n",
       "    <tr>\n",
       "      <th>age</th>\n",
       "      <td>69.0 [58.0-78.0]</td>\n",
       "      <td>70.0 [59.0-79.0]</td>\n",
       "      <td>69.0 [57.0-78.0]</td>\n",
       "      <td>0.000</td>\n",
       "    </tr>\n",
       "    <tr>\n",
       "      <th>charlson_comorbidity_index</th>\n",
       "      <td>6.0 [4.0-8.0]</td>\n",
       "      <td>6.0 [4.0-8.0]</td>\n",
       "      <td>6.0 [4.0-8.0]</td>\n",
       "      <td>0.035</td>\n",
       "    </tr>\n",
       "    <tr>\n",
       "      <th>apsiii</th>\n",
       "      <td>51.0 [37.0-68.0]</td>\n",
       "      <td>51.0 [38.0-68.0]</td>\n",
       "      <td>51.0 [37.0-69.0]</td>\n",
       "      <td>0.987</td>\n",
       "    </tr>\n",
       "    <tr>\n",
       "      <th>days_to_death</th>\n",
       "      <td>163.0 [9.0-99999.0]</td>\n",
       "      <td>149.0 [9.0-99999.0]</td>\n",
       "      <td>171.0 [10.0-99999.0]</td>\n",
       "      <td>0.367</td>\n",
       "    </tr>\n",
       "    <tr>\n",
       "      <th>sofa_slope</th>\n",
       "      <td>-0.0 [-0.0-0.0]</td>\n",
       "      <td>-0.0 [-0.0-0.0]</td>\n",
       "      <td>-0.0 [-0.0-0.0]</td>\n",
       "      <td>0.611</td>\n",
       "    </tr>\n",
       "    <tr>\n",
       "      <th>median_sofa</th>\n",
       "      <td>4.0 [3.0-7.0]</td>\n",
       "      <td>4.0 [2.0-7.0]</td>\n",
       "      <td>5.0 [3.0-7.0]</td>\n",
       "      <td>0.000</td>\n",
       "    </tr>\n",
       "    <tr>\n",
       "      <th>std_sofa</th>\n",
       "      <td>1.8 [1.2-2.4]</td>\n",
       "      <td>1.7 [1.2-2.4]</td>\n",
       "      <td>1.8 [1.2-2.5]</td>\n",
       "      <td>0.003</td>\n",
       "    </tr>\n",
       "    <tr>\n",
       "      <th>admission_temperature_c</th>\n",
       "      <td>36.8 [36.4-37.2]</td>\n",
       "      <td>36.8 [36.4-37.2]</td>\n",
       "      <td>36.8 [36.4-37.2]</td>\n",
       "      <td>0.015</td>\n",
       "    </tr>\n",
       "    <tr>\n",
       "      <th>max_heart_rate_24h</th>\n",
       "      <td>104.0 [91.0-120.0]</td>\n",
       "      <td>105.0 [92.0-120.0]</td>\n",
       "      <td>104.0 [90.0-119.0]</td>\n",
       "      <td>0.001</td>\n",
       "    </tr>\n",
       "    <tr>\n",
       "      <th>arterial_ph</th>\n",
       "      <td>7.4 [7.3-7.4]</td>\n",
       "      <td>7.4 [7.3-7.4]</td>\n",
       "      <td>7.4 [7.3-7.4]</td>\n",
       "      <td>0.055</td>\n",
       "    </tr>\n",
       "    <tr>\n",
       "      <th>hemoglobin_g_dl</th>\n",
       "      <td>9.5 [8.5-10.7]</td>\n",
       "      <td>9.4 [8.5-10.4]</td>\n",
       "      <td>9.7 [8.6-11.0]</td>\n",
       "      <td>0.000</td>\n",
       "    </tr>\n",
       "    <tr>\n",
       "      <th>first_gcs_total</th>\n",
       "      <td>9.0 [4.0-15.0]</td>\n",
       "      <td>10.0 [5.0-15.0]</td>\n",
       "      <td>9.0 [3.0-15.0]</td>\n",
       "      <td>0.069</td>\n",
       "    </tr>\n",
       "    <tr>\n",
       "      <th>bun_mg_dl</th>\n",
       "      <td>26.4 [17.0-42.7]</td>\n",
       "      <td>24.0 [15.6-39.3]</td>\n",
       "      <td>28.7 [18.1-45.4]</td>\n",
       "      <td>0.000</td>\n",
       "    </tr>\n",
       "    <tr>\n",
       "      <th>creatinine_mg_dl</th>\n",
       "      <td>1.1 [0.8-2.0]</td>\n",
       "      <td>1.0 [0.7-1.7]</td>\n",
       "      <td>1.3 [0.8-2.2]</td>\n",
       "      <td>0.000</td>\n",
       "    </tr>\n",
       "    <tr>\n",
       "      <th>death_within_28_days</th>\n",
       "      <td>3215 (39.3%)</td>\n",
       "      <td>1496 (39.7%)</td>\n",
       "      <td>1719 (39.0%)</td>\n",
       "      <td>0.496</td>\n",
       "    </tr>\n",
       "    <tr>\n",
       "      <th>death_within_365_days</th>\n",
       "      <td>4463 (54.6%)</td>\n",
       "      <td>2062 (54.7%)</td>\n",
       "      <td>2401 (54.4%)</td>\n",
       "      <td>0.789</td>\n",
       "    </tr>\n",
       "    <tr>\n",
       "      <th>has_hypertension</th>\n",
       "      <td>5491 (67.1%)</td>\n",
       "      <td>2598 (69.0%)</td>\n",
       "      <td>2893 (65.6%)</td>\n",
       "      <td>0.001</td>\n",
       "    </tr>\n",
       "    <tr>\n",
       "      <th>had_invasive_ventilation</th>\n",
       "      <td>6923 (84.7%)</td>\n",
       "      <td>3140 (83.4%)</td>\n",
       "      <td>3783 (85.8%)</td>\n",
       "      <td>0.003</td>\n",
       "    </tr>\n",
       "    <tr>\n",
       "      <th>had_noninvasive_ventilation</th>\n",
       "      <td>806 (9.9%)</td>\n",
       "      <td>409 (10.9%)</td>\n",
       "      <td>397 (9.0%)</td>\n",
       "      <td>0.005</td>\n",
       "    </tr>\n",
       "    <tr>\n",
       "      <th>had_vasopressor_use</th>\n",
       "      <td>5188 (63.4%)</td>\n",
       "      <td>2319 (61.6%)</td>\n",
       "      <td>2869 (65.0%)</td>\n",
       "      <td>0.001</td>\n",
       "    </tr>\n",
       "    <tr>\n",
       "      <th>has_diabetes</th>\n",
       "      <td>2202 (26.9%)</td>\n",
       "      <td>1017 (27.0%)</td>\n",
       "      <td>1185 (26.9%)</td>\n",
       "      <td>0.901</td>\n",
       "    </tr>\n",
       "    <tr>\n",
       "      <th>has_dyslipidaemia</th>\n",
       "      <td>3917 (47.9%)</td>\n",
       "      <td>1786 (47.4%)</td>\n",
       "      <td>2131 (48.3%)</td>\n",
       "      <td>0.424</td>\n",
       "    </tr>\n",
       "    <tr>\n",
       "      <th>has_coronary_heart_disease</th>\n",
       "      <td>2400 (29.3%)</td>\n",
       "      <td>1014 (26.9%)</td>\n",
       "      <td>1386 (31.4%)</td>\n",
       "      <td>0.000</td>\n",
       "    </tr>\n",
       "    <tr>\n",
       "      <th>has_severe_valvular_heart_disease</th>\n",
       "      <td>372 (4.5%)</td>\n",
       "      <td>219 (5.8%)</td>\n",
       "      <td>153 (3.5%)</td>\n",
       "      <td>0.000</td>\n",
       "    </tr>\n",
       "    <tr>\n",
       "      <th>has_heart_failure</th>\n",
       "      <td>3496 (42.7%)</td>\n",
       "      <td>1627 (43.2%)</td>\n",
       "      <td>1869 (42.4%)</td>\n",
       "      <td>0.459</td>\n",
       "    </tr>\n",
       "    <tr>\n",
       "      <th>has_peripheral_vascular_disease</th>\n",
       "      <td>1519 (18.6%)</td>\n",
       "      <td>642 (17.0%)</td>\n",
       "      <td>877 (19.9%)</td>\n",
       "      <td>0.001</td>\n",
       "    </tr>\n",
       "    <tr>\n",
       "      <th>has_prior_stroke</th>\n",
       "      <td>1314 (16.1%)</td>\n",
       "      <td>628 (16.7%)</td>\n",
       "      <td>686 (15.6%)</td>\n",
       "      <td>0.174</td>\n",
       "    </tr>\n",
       "    <tr>\n",
       "      <th>had_rrt</th>\n",
       "      <td>843 (10.3%)</td>\n",
       "      <td>366 (9.7%)</td>\n",
       "      <td>477 (10.8%)</td>\n",
       "      <td>0.108</td>\n",
       "    </tr>\n",
       "    <tr>\n",
       "      <th>has_copd</th>\n",
       "      <td>1141 (14.0%)</td>\n",
       "      <td>539 (14.3%)</td>\n",
       "      <td>602 (13.6%)</td>\n",
       "      <td>0.405</td>\n",
       "    </tr>\n",
       "    <tr>\n",
       "      <th>has_chronic_kidney_disease</th>\n",
       "      <td>2701 (33.0%)</td>\n",
       "      <td>1098 (29.1%)</td>\n",
       "      <td>1603 (36.3%)</td>\n",
       "      <td>0.000</td>\n",
       "    </tr>\n",
       "    <tr>\n",
       "      <th>has_chronic_liver_disease</th>\n",
       "      <td>1006 (12.3%)</td>\n",
       "      <td>387 (10.3%)</td>\n",
       "      <td>619 (14.0%)</td>\n",
       "      <td>0.000</td>\n",
       "    </tr>\n",
       "    <tr>\n",
       "      <th>has_active_malignant_tumor</th>\n",
       "      <td>1045 (12.8%)</td>\n",
       "      <td>419 (11.1%)</td>\n",
       "      <td>626 (14.2%)</td>\n",
       "      <td>0.000</td>\n",
       "    </tr>\n",
       "    <tr>\n",
       "      <th>has_hiv</th>\n",
       "      <td>139 (1.7%)</td>\n",
       "      <td>39 (1.0%)</td>\n",
       "      <td>100 (2.3%)</td>\n",
       "      <td>0.000</td>\n",
       "    </tr>\n",
       "    <tr>\n",
       "      <th>has_loss_of_autonomy</th>\n",
       "      <td>76 (0.9%)</td>\n",
       "      <td>34 (0.9%)</td>\n",
       "      <td>42 (1.0%)</td>\n",
       "      <td>0.908</td>\n",
       "    </tr>\n",
       "    <tr>\n",
       "      <th>has_cognitive_dysfunction</th>\n",
       "      <td>568 (6.9%)</td>\n",
       "      <td>283 (7.5%)</td>\n",
       "      <td>285 (6.5%)</td>\n",
       "      <td>0.067</td>\n",
       "    </tr>\n",
       "    <tr>\n",
       "      <th>has_respiratory_disorder_at_admission</th>\n",
       "      <td>944 (11.5%)</td>\n",
       "      <td>466 (12.4%)</td>\n",
       "      <td>478 (10.8%)</td>\n",
       "      <td>0.031</td>\n",
       "    </tr>\n",
       "    <tr>\n",
       "      <th>has_sepsis_at_admission</th>\n",
       "      <td>700 (8.6%)</td>\n",
       "      <td>333 (8.8%)</td>\n",
       "      <td>367 (8.3%)</td>\n",
       "      <td>0.405</td>\n",
       "    </tr>\n",
       "    <tr>\n",
       "      <th>has_trauma_at_admission</th>\n",
       "      <td>262 (3.2%)</td>\n",
       "      <td>97 (2.6%)</td>\n",
       "      <td>165 (3.7%)</td>\n",
       "      <td>0.003</td>\n",
       "    </tr>\n",
       "    <tr>\n",
       "      <th>has_neurological_disease_at_admission</th>\n",
       "      <td>163 (2.0%)</td>\n",
       "      <td>77 (2.0%)</td>\n",
       "      <td>86 (1.9%)</td>\n",
       "      <td>0.812</td>\n",
       "    </tr>\n",
       "    <tr>\n",
       "      <th>has_cardiac_arrest_at_admission</th>\n",
       "      <td>40 (0.5%)</td>\n",
       "      <td>18 (0.5%)</td>\n",
       "      <td>22 (0.5%)</td>\n",
       "      <td>1.000</td>\n",
       "    </tr>\n",
       "    <tr>\n",
       "      <th>has_cardiogenic_shock_at_admission</th>\n",
       "      <td>1 (0.0%)</td>\n",
       "      <td>1 (0.0%)</td>\n",
       "      <td>0 (0.0%)</td>\n",
       "      <td>0.461</td>\n",
       "    </tr>\n",
       "    <tr>\n",
       "      <th>has_hemorrhagic_shock_at_admission</th>\n",
       "      <td>1 (0.0%)</td>\n",
       "      <td>0 (0.0%)</td>\n",
       "      <td>1 (0.0%)</td>\n",
       "      <td>1.000</td>\n",
       "    </tr>\n",
       "    <tr>\n",
       "      <th>apsiii_strata</th>\n",
       "      <td>8050 (98.4%)</td>\n",
       "      <td>3697 (98.1%)</td>\n",
       "      <td>4353 (98.7%)</td>\n",
       "      <td>0.622</td>\n",
       "    </tr>\n",
       "  </tbody>\n",
       "</table>\n",
       "</div>"
      ],
      "text/plain": [
       "                                                   Overall  \\\n",
       "age                                       69.0 [58.0-78.0]   \n",
       "charlson_comorbidity_index                   6.0 [4.0-8.0]   \n",
       "apsiii                                    51.0 [37.0-68.0]   \n",
       "days_to_death                          163.0 [9.0-99999.0]   \n",
       "sofa_slope                                 -0.0 [-0.0-0.0]   \n",
       "median_sofa                                  4.0 [3.0-7.0]   \n",
       "std_sofa                                     1.8 [1.2-2.4]   \n",
       "admission_temperature_c                   36.8 [36.4-37.2]   \n",
       "max_heart_rate_24h                      104.0 [91.0-120.0]   \n",
       "arterial_ph                                  7.4 [7.3-7.4]   \n",
       "hemoglobin_g_dl                             9.5 [8.5-10.7]   \n",
       "first_gcs_total                             9.0 [4.0-15.0]   \n",
       "bun_mg_dl                                 26.4 [17.0-42.7]   \n",
       "creatinine_mg_dl                             1.1 [0.8-2.0]   \n",
       "death_within_28_days                          3215 (39.3%)   \n",
       "death_within_365_days                         4463 (54.6%)   \n",
       "has_hypertension                              5491 (67.1%)   \n",
       "had_invasive_ventilation                      6923 (84.7%)   \n",
       "had_noninvasive_ventilation                     806 (9.9%)   \n",
       "had_vasopressor_use                           5188 (63.4%)   \n",
       "has_diabetes                                  2202 (26.9%)   \n",
       "has_dyslipidaemia                             3917 (47.9%)   \n",
       "has_coronary_heart_disease                    2400 (29.3%)   \n",
       "has_severe_valvular_heart_disease               372 (4.5%)   \n",
       "has_heart_failure                             3496 (42.7%)   \n",
       "has_peripheral_vascular_disease               1519 (18.6%)   \n",
       "has_prior_stroke                              1314 (16.1%)   \n",
       "had_rrt                                        843 (10.3%)   \n",
       "has_copd                                      1141 (14.0%)   \n",
       "has_chronic_kidney_disease                    2701 (33.0%)   \n",
       "has_chronic_liver_disease                     1006 (12.3%)   \n",
       "has_active_malignant_tumor                    1045 (12.8%)   \n",
       "has_hiv                                         139 (1.7%)   \n",
       "has_loss_of_autonomy                             76 (0.9%)   \n",
       "has_cognitive_dysfunction                       568 (6.9%)   \n",
       "has_respiratory_disorder_at_admission          944 (11.5%)   \n",
       "has_sepsis_at_admission                         700 (8.6%)   \n",
       "has_trauma_at_admission                         262 (3.2%)   \n",
       "has_neurological_disease_at_admission           163 (2.0%)   \n",
       "has_cardiac_arrest_at_admission                  40 (0.5%)   \n",
       "has_cardiogenic_shock_at_admission                1 (0.0%)   \n",
       "has_hemorrhagic_shock_at_admission                1 (0.0%)   \n",
       "apsiii_strata                                 8050 (98.4%)   \n",
       "\n",
       "                                                    Female  \\\n",
       "age                                       70.0 [59.0-79.0]   \n",
       "charlson_comorbidity_index                   6.0 [4.0-8.0]   \n",
       "apsiii                                    51.0 [38.0-68.0]   \n",
       "days_to_death                          149.0 [9.0-99999.0]   \n",
       "sofa_slope                                 -0.0 [-0.0-0.0]   \n",
       "median_sofa                                  4.0 [2.0-7.0]   \n",
       "std_sofa                                     1.7 [1.2-2.4]   \n",
       "admission_temperature_c                   36.8 [36.4-37.2]   \n",
       "max_heart_rate_24h                      105.0 [92.0-120.0]   \n",
       "arterial_ph                                  7.4 [7.3-7.4]   \n",
       "hemoglobin_g_dl                             9.4 [8.5-10.4]   \n",
       "first_gcs_total                            10.0 [5.0-15.0]   \n",
       "bun_mg_dl                                 24.0 [15.6-39.3]   \n",
       "creatinine_mg_dl                             1.0 [0.7-1.7]   \n",
       "death_within_28_days                          1496 (39.7%)   \n",
       "death_within_365_days                         2062 (54.7%)   \n",
       "has_hypertension                              2598 (69.0%)   \n",
       "had_invasive_ventilation                      3140 (83.4%)   \n",
       "had_noninvasive_ventilation                    409 (10.9%)   \n",
       "had_vasopressor_use                           2319 (61.6%)   \n",
       "has_diabetes                                  1017 (27.0%)   \n",
       "has_dyslipidaemia                             1786 (47.4%)   \n",
       "has_coronary_heart_disease                    1014 (26.9%)   \n",
       "has_severe_valvular_heart_disease               219 (5.8%)   \n",
       "has_heart_failure                             1627 (43.2%)   \n",
       "has_peripheral_vascular_disease                642 (17.0%)   \n",
       "has_prior_stroke                               628 (16.7%)   \n",
       "had_rrt                                         366 (9.7%)   \n",
       "has_copd                                       539 (14.3%)   \n",
       "has_chronic_kidney_disease                    1098 (29.1%)   \n",
       "has_chronic_liver_disease                      387 (10.3%)   \n",
       "has_active_malignant_tumor                     419 (11.1%)   \n",
       "has_hiv                                          39 (1.0%)   \n",
       "has_loss_of_autonomy                             34 (0.9%)   \n",
       "has_cognitive_dysfunction                       283 (7.5%)   \n",
       "has_respiratory_disorder_at_admission          466 (12.4%)   \n",
       "has_sepsis_at_admission                         333 (8.8%)   \n",
       "has_trauma_at_admission                          97 (2.6%)   \n",
       "has_neurological_disease_at_admission            77 (2.0%)   \n",
       "has_cardiac_arrest_at_admission                  18 (0.5%)   \n",
       "has_cardiogenic_shock_at_admission                1 (0.0%)   \n",
       "has_hemorrhagic_shock_at_admission                0 (0.0%)   \n",
       "apsiii_strata                                 3697 (98.1%)   \n",
       "\n",
       "                                                       Male P-value  \n",
       "age                                        69.0 [57.0-78.0]   0.000  \n",
       "charlson_comorbidity_index                    6.0 [4.0-8.0]   0.035  \n",
       "apsiii                                     51.0 [37.0-69.0]   0.987  \n",
       "days_to_death                          171.0 [10.0-99999.0]   0.367  \n",
       "sofa_slope                                  -0.0 [-0.0-0.0]   0.611  \n",
       "median_sofa                                   5.0 [3.0-7.0]   0.000  \n",
       "std_sofa                                      1.8 [1.2-2.5]   0.003  \n",
       "admission_temperature_c                    36.8 [36.4-37.2]   0.015  \n",
       "max_heart_rate_24h                       104.0 [90.0-119.0]   0.001  \n",
       "arterial_ph                                   7.4 [7.3-7.4]   0.055  \n",
       "hemoglobin_g_dl                              9.7 [8.6-11.0]   0.000  \n",
       "first_gcs_total                              9.0 [3.0-15.0]   0.069  \n",
       "bun_mg_dl                                  28.7 [18.1-45.4]   0.000  \n",
       "creatinine_mg_dl                              1.3 [0.8-2.2]   0.000  \n",
       "death_within_28_days                           1719 (39.0%)   0.496  \n",
       "death_within_365_days                          2401 (54.4%)   0.789  \n",
       "has_hypertension                               2893 (65.6%)   0.001  \n",
       "had_invasive_ventilation                       3783 (85.8%)   0.003  \n",
       "had_noninvasive_ventilation                      397 (9.0%)   0.005  \n",
       "had_vasopressor_use                            2869 (65.0%)   0.001  \n",
       "has_diabetes                                   1185 (26.9%)   0.901  \n",
       "has_dyslipidaemia                              2131 (48.3%)   0.424  \n",
       "has_coronary_heart_disease                     1386 (31.4%)   0.000  \n",
       "has_severe_valvular_heart_disease                153 (3.5%)   0.000  \n",
       "has_heart_failure                              1869 (42.4%)   0.459  \n",
       "has_peripheral_vascular_disease                 877 (19.9%)   0.001  \n",
       "has_prior_stroke                                686 (15.6%)   0.174  \n",
       "had_rrt                                         477 (10.8%)   0.108  \n",
       "has_copd                                        602 (13.6%)   0.405  \n",
       "has_chronic_kidney_disease                     1603 (36.3%)   0.000  \n",
       "has_chronic_liver_disease                       619 (14.0%)   0.000  \n",
       "has_active_malignant_tumor                      626 (14.2%)   0.000  \n",
       "has_hiv                                          100 (2.3%)   0.000  \n",
       "has_loss_of_autonomy                              42 (1.0%)   0.908  \n",
       "has_cognitive_dysfunction                        285 (6.5%)   0.067  \n",
       "has_respiratory_disorder_at_admission           478 (10.8%)   0.031  \n",
       "has_sepsis_at_admission                          367 (8.3%)   0.405  \n",
       "has_trauma_at_admission                          165 (3.7%)   0.003  \n",
       "has_neurological_disease_at_admission             86 (1.9%)   0.812  \n",
       "has_cardiac_arrest_at_admission                   22 (0.5%)   1.000  \n",
       "has_cardiogenic_shock_at_admission                 0 (0.0%)   0.461  \n",
       "has_hemorrhagic_shock_at_admission                 1 (0.0%)   1.000  \n",
       "apsiii_strata                                  4353 (98.7%)   0.622  "
      ]
     },
     "execution_count": 51,
     "metadata": {},
     "output_type": "execute_result"
    }
   ],
   "source": [
    "table1[['Overall', 'Female', 'Male', 'P-value']]"
   ]
  },
  {
   "cell_type": "markdown",
   "id": "78e24b01-44cd-447a-b2cc-ca80f403db7e",
   "metadata": {
    "tags": []
   },
   "source": [
    "# One-year End Point"
   ]
  },
  {
   "cell_type": "markdown",
   "id": "12b1dec0-2c53-46ad-b966-4d6e541907fc",
   "metadata": {},
   "source": [
    "## One-year Cox Proportional Hazard - Unadjusted"
   ]
  },
  {
   "cell_type": "code",
   "execution_count": 52,
   "id": "392812a3-124a-4756-836e-3721ee32c9b7",
   "metadata": {
    "tags": []
   },
   "outputs": [
    {
     "data": {
      "text/html": [
       "<div>\n",
       "<style scoped>\n",
       "    .dataframe tbody tr th:only-of-type {\n",
       "        vertical-align: middle;\n",
       "    }\n",
       "\n",
       "    .dataframe tbody tr th {\n",
       "        vertical-align: top;\n",
       "    }\n",
       "\n",
       "    .dataframe thead th {\n",
       "        text-align: right;\n",
       "    }\n",
       "</style>\n",
       "<table border=\"1\" class=\"dataframe\">\n",
       "  <thead>\n",
       "    <tr style=\"text-align: right;\">\n",
       "      <th></th>\n",
       "      <th>coef</th>\n",
       "      <th>exp(coef)</th>\n",
       "      <th>se(coef)</th>\n",
       "      <th>coef lower 95%</th>\n",
       "      <th>coef upper 95%</th>\n",
       "      <th>exp(coef) lower 95%</th>\n",
       "      <th>exp(coef) upper 95%</th>\n",
       "      <th>cmp to</th>\n",
       "      <th>z</th>\n",
       "      <th>p</th>\n",
       "      <th>-log2(p)</th>\n",
       "    </tr>\n",
       "    <tr>\n",
       "      <th>covariate</th>\n",
       "      <th></th>\n",
       "      <th></th>\n",
       "      <th></th>\n",
       "      <th></th>\n",
       "      <th></th>\n",
       "      <th></th>\n",
       "      <th></th>\n",
       "      <th></th>\n",
       "      <th></th>\n",
       "      <th></th>\n",
       "      <th></th>\n",
       "    </tr>\n",
       "  </thead>\n",
       "  <tbody>\n",
       "    <tr>\n",
       "      <th>gender</th>\n",
       "      <td>0.018878</td>\n",
       "      <td>1.019057</td>\n",
       "      <td>0.030024</td>\n",
       "      <td>-0.039969</td>\n",
       "      <td>0.077725</td>\n",
       "      <td>0.960819</td>\n",
       "      <td>1.080825</td>\n",
       "      <td>0.0</td>\n",
       "      <td>0.628748</td>\n",
       "      <td>0.529514</td>\n",
       "      <td>0.91726</td>\n",
       "    </tr>\n",
       "  </tbody>\n",
       "</table>\n",
       "</div>"
      ],
      "text/plain": [
       "               coef  exp(coef)  se(coef)  coef lower 95%  coef upper 95%  \\\n",
       "covariate                                                                  \n",
       "gender     0.018878   1.019057  0.030024       -0.039969        0.077725   \n",
       "\n",
       "           exp(coef) lower 95%  exp(coef) upper 95%  cmp to         z  \\\n",
       "covariate                                                               \n",
       "gender                0.960819             1.080825     0.0  0.628748   \n",
       "\n",
       "                  p  -log2(p)  \n",
       "covariate                      \n",
       "gender     0.529514   0.91726  "
      ]
     },
     "execution_count": 52,
     "metadata": {},
     "output_type": "execute_result"
    }
   ],
   "source": [
    "cph = CoxPHFitter()\n",
    "\n",
    "cph.fit(\n",
    "    merged_copy[['gender', 'endpoint_365', 'censored_365']],\n",
    "    duration_col='endpoint_365',\n",
    "    event_col='censored_365',\n",
    ")\n",
    "cph.summary"
   ]
  },
  {
   "cell_type": "code",
   "execution_count": 53,
   "id": "b0ccc9ea-15e4-41cb-8d20-8931b8296cf9",
   "metadata": {
    "tags": []
   },
   "outputs": [
    {
     "data": {
      "text/plain": [
       "covariate\n",
       "gender    1.019057\n",
       "Name: exp(coef), dtype: float64"
      ]
     },
     "execution_count": 53,
     "metadata": {},
     "output_type": "execute_result"
    }
   ],
   "source": [
    "cph.hazard_ratios_"
   ]
  },
  {
   "cell_type": "code",
   "execution_count": 54,
   "id": "4bedf0eb-0f65-4a45-b46e-8806f9b42837",
   "metadata": {
    "tags": []
   },
   "outputs": [
    {
     "data": {
      "text/plain": [
       "baseline cumulative hazard    0.782765\n",
       "Name: 365.0, dtype: float64"
      ]
     },
     "execution_count": 54,
     "metadata": {},
     "output_type": "execute_result"
    }
   ],
   "source": [
    "cph.baseline_cumulative_hazard_.iloc[-1,:]"
   ]
  },
  {
   "cell_type": "code",
   "execution_count": 55,
   "id": "ee419032-9f37-4953-b13f-5edab9c2bcb4",
   "metadata": {
    "tags": []
   },
   "outputs": [
    {
     "name": "stdout",
     "output_type": "stream",
     "text": [
      "Proportional hazard assumption looks okay.\n"
     ]
    },
    {
     "data": {
      "text/plain": [
       "[]"
      ]
     },
     "execution_count": 55,
     "metadata": {},
     "output_type": "execute_result"
    }
   ],
   "source": [
    "cph.check_assumptions(merged_copy[['gender', 'endpoint_365', 'censored_365']]\n",
    "                      ,p_value_threshold=0.05)"
   ]
  },
  {
   "cell_type": "markdown",
   "id": "23bed1f9-626d-4d51-b6fa-3a6362d769bd",
   "metadata": {
    "tags": []
   },
   "source": [
    "## One-year Cox Proportional Hazard - Adjusted"
   ]
  },
  {
   "cell_type": "code",
   "execution_count": 56,
   "id": "06d0a56b-9bdd-4ab2-9de7-5795bc5ec755",
   "metadata": {
    "tags": []
   },
   "outputs": [
    {
     "data": {
      "text/html": [
       "<div>\n",
       "<style scoped>\n",
       "    .dataframe tbody tr th:only-of-type {\n",
       "        vertical-align: middle;\n",
       "    }\n",
       "\n",
       "    .dataframe tbody tr th {\n",
       "        vertical-align: top;\n",
       "    }\n",
       "\n",
       "    .dataframe thead th {\n",
       "        text-align: right;\n",
       "    }\n",
       "</style>\n",
       "<table border=\"1\" class=\"dataframe\">\n",
       "  <thead>\n",
       "    <tr style=\"text-align: right;\">\n",
       "      <th></th>\n",
       "      <th>coef</th>\n",
       "      <th>exp(coef)</th>\n",
       "      <th>se(coef)</th>\n",
       "      <th>coef lower 95%</th>\n",
       "      <th>coef upper 95%</th>\n",
       "      <th>exp(coef) lower 95%</th>\n",
       "      <th>exp(coef) upper 95%</th>\n",
       "      <th>cmp to</th>\n",
       "      <th>z</th>\n",
       "      <th>p</th>\n",
       "      <th>-log2(p)</th>\n",
       "    </tr>\n",
       "    <tr>\n",
       "      <th>covariate</th>\n",
       "      <th></th>\n",
       "      <th></th>\n",
       "      <th></th>\n",
       "      <th></th>\n",
       "      <th></th>\n",
       "      <th></th>\n",
       "      <th></th>\n",
       "      <th></th>\n",
       "      <th></th>\n",
       "      <th></th>\n",
       "      <th></th>\n",
       "    </tr>\n",
       "  </thead>\n",
       "  <tbody>\n",
       "    <tr>\n",
       "      <th>apsiii_strata</th>\n",
       "      <td>0.981341</td>\n",
       "      <td>2.668032</td>\n",
       "      <td>0.148832</td>\n",
       "      <td>0.689636</td>\n",
       "      <td>1.273046</td>\n",
       "      <td>1.992990</td>\n",
       "      <td>3.571716</td>\n",
       "      <td>0.0</td>\n",
       "      <td>6.593623</td>\n",
       "      <td>4.292194e-11</td>\n",
       "      <td>34.439494</td>\n",
       "    </tr>\n",
       "    <tr>\n",
       "      <th>charlson_comorbidity_index</th>\n",
       "      <td>0.192699</td>\n",
       "      <td>1.212517</td>\n",
       "      <td>0.024811</td>\n",
       "      <td>0.144069</td>\n",
       "      <td>0.241328</td>\n",
       "      <td>1.154964</td>\n",
       "      <td>1.272939</td>\n",
       "      <td>0.0</td>\n",
       "      <td>7.766524</td>\n",
       "      <td>8.066906e-15</td>\n",
       "      <td>46.816906</td>\n",
       "    </tr>\n",
       "    <tr>\n",
       "      <th>std_sofa</th>\n",
       "      <td>0.270751</td>\n",
       "      <td>1.310949</td>\n",
       "      <td>0.103205</td>\n",
       "      <td>0.068473</td>\n",
       "      <td>0.473029</td>\n",
       "      <td>1.070872</td>\n",
       "      <td>1.604848</td>\n",
       "      <td>0.0</td>\n",
       "      <td>2.623431</td>\n",
       "      <td>8.704915e-03</td>\n",
       "      <td>6.843954</td>\n",
       "    </tr>\n",
       "    <tr>\n",
       "      <th>gender</th>\n",
       "      <td>-0.152148</td>\n",
       "      <td>0.858861</td>\n",
       "      <td>0.272452</td>\n",
       "      <td>-0.686144</td>\n",
       "      <td>0.381848</td>\n",
       "      <td>0.503514</td>\n",
       "      <td>1.464990</td>\n",
       "      <td>0.0</td>\n",
       "      <td>-0.558440</td>\n",
       "      <td>5.765443e-01</td>\n",
       "      <td>0.794497</td>\n",
       "    </tr>\n",
       "    <tr>\n",
       "      <th>apsiii_strata:charlson_comorbidity_index</th>\n",
       "      <td>-0.065332</td>\n",
       "      <td>0.936757</td>\n",
       "      <td>0.020159</td>\n",
       "      <td>-0.104843</td>\n",
       "      <td>-0.025820</td>\n",
       "      <td>0.900466</td>\n",
       "      <td>0.974510</td>\n",
       "      <td>0.0</td>\n",
       "      <td>-3.240766</td>\n",
       "      <td>1.192089e-03</td>\n",
       "      <td>9.712292</td>\n",
       "    </tr>\n",
       "    <tr>\n",
       "      <th>apsiii_strata:std_sofa</th>\n",
       "      <td>-0.134364</td>\n",
       "      <td>0.874271</td>\n",
       "      <td>0.070871</td>\n",
       "      <td>-0.273270</td>\n",
       "      <td>0.004541</td>\n",
       "      <td>0.760888</td>\n",
       "      <td>1.004551</td>\n",
       "      <td>0.0</td>\n",
       "      <td>-1.895894</td>\n",
       "      <td>5.797410e-02</td>\n",
       "      <td>4.108448</td>\n",
       "    </tr>\n",
       "    <tr>\n",
       "      <th>charlson_comorbidity_index:std_sofa</th>\n",
       "      <td>-0.012487</td>\n",
       "      <td>0.987591</td>\n",
       "      <td>0.014395</td>\n",
       "      <td>-0.040700</td>\n",
       "      <td>0.015727</td>\n",
       "      <td>0.960117</td>\n",
       "      <td>1.015851</td>\n",
       "      <td>0.0</td>\n",
       "      <td>-0.867449</td>\n",
       "      <td>3.856961e-01</td>\n",
       "      <td>1.374463</td>\n",
       "    </tr>\n",
       "    <tr>\n",
       "      <th>apsiii_strata:gender</th>\n",
       "      <td>-0.086862</td>\n",
       "      <td>0.916804</td>\n",
       "      <td>0.220722</td>\n",
       "      <td>-0.519470</td>\n",
       "      <td>0.345746</td>\n",
       "      <td>0.594836</td>\n",
       "      <td>1.413044</td>\n",
       "      <td>0.0</td>\n",
       "      <td>-0.393533</td>\n",
       "      <td>6.939256e-01</td>\n",
       "      <td>0.527147</td>\n",
       "    </tr>\n",
       "    <tr>\n",
       "      <th>charlson_comorbidity_index:gender</th>\n",
       "      <td>0.042002</td>\n",
       "      <td>1.042897</td>\n",
       "      <td>0.039309</td>\n",
       "      <td>-0.035042</td>\n",
       "      <td>0.119047</td>\n",
       "      <td>0.965565</td>\n",
       "      <td>1.126422</td>\n",
       "      <td>0.0</td>\n",
       "      <td>1.068510</td>\n",
       "      <td>2.852906e-01</td>\n",
       "      <td>1.809496</td>\n",
       "    </tr>\n",
       "    <tr>\n",
       "      <th>std_sofa:gender</th>\n",
       "      <td>0.131118</td>\n",
       "      <td>1.140103</td>\n",
       "      <td>0.154795</td>\n",
       "      <td>-0.172273</td>\n",
       "      <td>0.434510</td>\n",
       "      <td>0.841749</td>\n",
       "      <td>1.544207</td>\n",
       "      <td>0.0</td>\n",
       "      <td>0.847049</td>\n",
       "      <td>3.969680e-01</td>\n",
       "      <td>1.332905</td>\n",
       "    </tr>\n",
       "    <tr>\n",
       "      <th>apsiii_strata:charlson_comorbidity_index:std_sofa</th>\n",
       "      <td>0.012760</td>\n",
       "      <td>1.012842</td>\n",
       "      <td>0.009854</td>\n",
       "      <td>-0.006554</td>\n",
       "      <td>0.032074</td>\n",
       "      <td>0.993467</td>\n",
       "      <td>1.032594</td>\n",
       "      <td>0.0</td>\n",
       "      <td>1.294852</td>\n",
       "      <td>1.953713e-01</td>\n",
       "      <td>2.355709</td>\n",
       "    </tr>\n",
       "    <tr>\n",
       "      <th>apsiii_strata:charlson_comorbidity_index:gender</th>\n",
       "      <td>-0.008870</td>\n",
       "      <td>0.991170</td>\n",
       "      <td>0.031347</td>\n",
       "      <td>-0.070309</td>\n",
       "      <td>0.052569</td>\n",
       "      <td>0.932106</td>\n",
       "      <td>1.053976</td>\n",
       "      <td>0.0</td>\n",
       "      <td>-0.282951</td>\n",
       "      <td>7.772147e-01</td>\n",
       "      <td>0.363615</td>\n",
       "    </tr>\n",
       "    <tr>\n",
       "      <th>apsiii_strata:std_sofa:gender</th>\n",
       "      <td>-0.006833</td>\n",
       "      <td>0.993190</td>\n",
       "      <td>0.105003</td>\n",
       "      <td>-0.212636</td>\n",
       "      <td>0.198970</td>\n",
       "      <td>0.808451</td>\n",
       "      <td>1.220145</td>\n",
       "      <td>0.0</td>\n",
       "      <td>-0.065073</td>\n",
       "      <td>9.481159e-01</td>\n",
       "      <td>0.076865</td>\n",
       "    </tr>\n",
       "    <tr>\n",
       "      <th>charlson_comorbidity_index:std_sofa:gender</th>\n",
       "      <td>-0.021632</td>\n",
       "      <td>0.978601</td>\n",
       "      <td>0.022701</td>\n",
       "      <td>-0.066125</td>\n",
       "      <td>0.022861</td>\n",
       "      <td>0.936014</td>\n",
       "      <td>1.023125</td>\n",
       "      <td>0.0</td>\n",
       "      <td>-0.952893</td>\n",
       "      <td>3.406441e-01</td>\n",
       "      <td>1.553663</td>\n",
       "    </tr>\n",
       "    <tr>\n",
       "      <th>apsiii_strata:charlson_comorbidity_index:std_sofa:gender</th>\n",
       "      <td>0.008303</td>\n",
       "      <td>1.008338</td>\n",
       "      <td>0.015312</td>\n",
       "      <td>-0.021709</td>\n",
       "      <td>0.038315</td>\n",
       "      <td>0.978525</td>\n",
       "      <td>1.039058</td>\n",
       "      <td>0.0</td>\n",
       "      <td>0.542247</td>\n",
       "      <td>5.876482e-01</td>\n",
       "      <td>0.766975</td>\n",
       "    </tr>\n",
       "  </tbody>\n",
       "</table>\n",
       "</div>"
      ],
      "text/plain": [
       "                                                        coef  exp(coef)  \\\n",
       "covariate                                                                 \n",
       "apsiii_strata                                       0.981341   2.668032   \n",
       "charlson_comorbidity_index                          0.192699   1.212517   \n",
       "std_sofa                                            0.270751   1.310949   \n",
       "gender                                             -0.152148   0.858861   \n",
       "apsiii_strata:charlson_comorbidity_index           -0.065332   0.936757   \n",
       "apsiii_strata:std_sofa                             -0.134364   0.874271   \n",
       "charlson_comorbidity_index:std_sofa                -0.012487   0.987591   \n",
       "apsiii_strata:gender                               -0.086862   0.916804   \n",
       "charlson_comorbidity_index:gender                   0.042002   1.042897   \n",
       "std_sofa:gender                                     0.131118   1.140103   \n",
       "apsiii_strata:charlson_comorbidity_index:std_sofa   0.012760   1.012842   \n",
       "apsiii_strata:charlson_comorbidity_index:gender    -0.008870   0.991170   \n",
       "apsiii_strata:std_sofa:gender                      -0.006833   0.993190   \n",
       "charlson_comorbidity_index:std_sofa:gender         -0.021632   0.978601   \n",
       "apsiii_strata:charlson_comorbidity_index:std_so...  0.008303   1.008338   \n",
       "\n",
       "                                                    se(coef)  coef lower 95%  \\\n",
       "covariate                                                                      \n",
       "apsiii_strata                                       0.148832        0.689636   \n",
       "charlson_comorbidity_index                          0.024811        0.144069   \n",
       "std_sofa                                            0.103205        0.068473   \n",
       "gender                                              0.272452       -0.686144   \n",
       "apsiii_strata:charlson_comorbidity_index            0.020159       -0.104843   \n",
       "apsiii_strata:std_sofa                              0.070871       -0.273270   \n",
       "charlson_comorbidity_index:std_sofa                 0.014395       -0.040700   \n",
       "apsiii_strata:gender                                0.220722       -0.519470   \n",
       "charlson_comorbidity_index:gender                   0.039309       -0.035042   \n",
       "std_sofa:gender                                     0.154795       -0.172273   \n",
       "apsiii_strata:charlson_comorbidity_index:std_sofa   0.009854       -0.006554   \n",
       "apsiii_strata:charlson_comorbidity_index:gender     0.031347       -0.070309   \n",
       "apsiii_strata:std_sofa:gender                       0.105003       -0.212636   \n",
       "charlson_comorbidity_index:std_sofa:gender          0.022701       -0.066125   \n",
       "apsiii_strata:charlson_comorbidity_index:std_so...  0.015312       -0.021709   \n",
       "\n",
       "                                                    coef upper 95%  \\\n",
       "covariate                                                            \n",
       "apsiii_strata                                             1.273046   \n",
       "charlson_comorbidity_index                                0.241328   \n",
       "std_sofa                                                  0.473029   \n",
       "gender                                                    0.381848   \n",
       "apsiii_strata:charlson_comorbidity_index                 -0.025820   \n",
       "apsiii_strata:std_sofa                                    0.004541   \n",
       "charlson_comorbidity_index:std_sofa                       0.015727   \n",
       "apsiii_strata:gender                                      0.345746   \n",
       "charlson_comorbidity_index:gender                         0.119047   \n",
       "std_sofa:gender                                           0.434510   \n",
       "apsiii_strata:charlson_comorbidity_index:std_sofa         0.032074   \n",
       "apsiii_strata:charlson_comorbidity_index:gender           0.052569   \n",
       "apsiii_strata:std_sofa:gender                             0.198970   \n",
       "charlson_comorbidity_index:std_sofa:gender                0.022861   \n",
       "apsiii_strata:charlson_comorbidity_index:std_so...        0.038315   \n",
       "\n",
       "                                                    exp(coef) lower 95%  \\\n",
       "covariate                                                                 \n",
       "apsiii_strata                                                  1.992990   \n",
       "charlson_comorbidity_index                                     1.154964   \n",
       "std_sofa                                                       1.070872   \n",
       "gender                                                         0.503514   \n",
       "apsiii_strata:charlson_comorbidity_index                       0.900466   \n",
       "apsiii_strata:std_sofa                                         0.760888   \n",
       "charlson_comorbidity_index:std_sofa                            0.960117   \n",
       "apsiii_strata:gender                                           0.594836   \n",
       "charlson_comorbidity_index:gender                              0.965565   \n",
       "std_sofa:gender                                                0.841749   \n",
       "apsiii_strata:charlson_comorbidity_index:std_sofa              0.993467   \n",
       "apsiii_strata:charlson_comorbidity_index:gender                0.932106   \n",
       "apsiii_strata:std_sofa:gender                                  0.808451   \n",
       "charlson_comorbidity_index:std_sofa:gender                     0.936014   \n",
       "apsiii_strata:charlson_comorbidity_index:std_so...             0.978525   \n",
       "\n",
       "                                                    exp(coef) upper 95%  \\\n",
       "covariate                                                                 \n",
       "apsiii_strata                                                  3.571716   \n",
       "charlson_comorbidity_index                                     1.272939   \n",
       "std_sofa                                                       1.604848   \n",
       "gender                                                         1.464990   \n",
       "apsiii_strata:charlson_comorbidity_index                       0.974510   \n",
       "apsiii_strata:std_sofa                                         1.004551   \n",
       "charlson_comorbidity_index:std_sofa                            1.015851   \n",
       "apsiii_strata:gender                                           1.413044   \n",
       "charlson_comorbidity_index:gender                              1.126422   \n",
       "std_sofa:gender                                                1.544207   \n",
       "apsiii_strata:charlson_comorbidity_index:std_sofa              1.032594   \n",
       "apsiii_strata:charlson_comorbidity_index:gender                1.053976   \n",
       "apsiii_strata:std_sofa:gender                                  1.220145   \n",
       "charlson_comorbidity_index:std_sofa:gender                     1.023125   \n",
       "apsiii_strata:charlson_comorbidity_index:std_so...             1.039058   \n",
       "\n",
       "                                                    cmp to         z  \\\n",
       "covariate                                                              \n",
       "apsiii_strata                                          0.0  6.593623   \n",
       "charlson_comorbidity_index                             0.0  7.766524   \n",
       "std_sofa                                               0.0  2.623431   \n",
       "gender                                                 0.0 -0.558440   \n",
       "apsiii_strata:charlson_comorbidity_index               0.0 -3.240766   \n",
       "apsiii_strata:std_sofa                                 0.0 -1.895894   \n",
       "charlson_comorbidity_index:std_sofa                    0.0 -0.867449   \n",
       "apsiii_strata:gender                                   0.0 -0.393533   \n",
       "charlson_comorbidity_index:gender                      0.0  1.068510   \n",
       "std_sofa:gender                                        0.0  0.847049   \n",
       "apsiii_strata:charlson_comorbidity_index:std_sofa      0.0  1.294852   \n",
       "apsiii_strata:charlson_comorbidity_index:gender        0.0 -0.282951   \n",
       "apsiii_strata:std_sofa:gender                          0.0 -0.065073   \n",
       "charlson_comorbidity_index:std_sofa:gender             0.0 -0.952893   \n",
       "apsiii_strata:charlson_comorbidity_index:std_so...     0.0  0.542247   \n",
       "\n",
       "                                                               p   -log2(p)  \n",
       "covariate                                                                    \n",
       "apsiii_strata                                       4.292194e-11  34.439494  \n",
       "charlson_comorbidity_index                          8.066906e-15  46.816906  \n",
       "std_sofa                                            8.704915e-03   6.843954  \n",
       "gender                                              5.765443e-01   0.794497  \n",
       "apsiii_strata:charlson_comorbidity_index            1.192089e-03   9.712292  \n",
       "apsiii_strata:std_sofa                              5.797410e-02   4.108448  \n",
       "charlson_comorbidity_index:std_sofa                 3.856961e-01   1.374463  \n",
       "apsiii_strata:gender                                6.939256e-01   0.527147  \n",
       "charlson_comorbidity_index:gender                   2.852906e-01   1.809496  \n",
       "std_sofa:gender                                     3.969680e-01   1.332905  \n",
       "apsiii_strata:charlson_comorbidity_index:std_sofa   1.953713e-01   2.355709  \n",
       "apsiii_strata:charlson_comorbidity_index:gender     7.772147e-01   0.363615  \n",
       "apsiii_strata:std_sofa:gender                       9.481159e-01   0.076865  \n",
       "charlson_comorbidity_index:std_sofa:gender          3.406441e-01   1.553663  \n",
       "apsiii_strata:charlson_comorbidity_index:std_so...  5.876482e-01   0.766975  "
      ]
     },
     "execution_count": 56,
     "metadata": {},
     "output_type": "execute_result"
    }
   ],
   "source": [
    "cph_aj = CoxPHFitter()\n",
    "cph_aj.fit(merged_copy[['gender', 'charlson_comorbidity_index', 'apsiii_strata', 'endpoint_365', 'censored_365', 'std_sofa']],  \n",
    "           duration_col='endpoint_365',\n",
    "           event_col='censored_365',\n",
    "           formula=\"apsiii_strata * charlson_comorbidity_index * std_sofa  * gender\"\n",
    "          )\n",
    "\n",
    "cph_aj.summary"
   ]
  },
  {
   "cell_type": "code",
   "execution_count": 57,
   "id": "f223530f-ec7b-41bf-9d0b-605ca46be09c",
   "metadata": {
    "tags": []
   },
   "outputs": [
    {
     "data": {
      "text/plain": [
       "covariate\n",
       "apsiii_strata                                               2.668032\n",
       "charlson_comorbidity_index                                  1.212517\n",
       "std_sofa                                                    1.310949\n",
       "gender                                                      0.858861\n",
       "apsiii_strata:charlson_comorbidity_index                    0.936757\n",
       "apsiii_strata:std_sofa                                      0.874271\n",
       "charlson_comorbidity_index:std_sofa                         0.987591\n",
       "apsiii_strata:gender                                        0.916804\n",
       "charlson_comorbidity_index:gender                           1.042897\n",
       "std_sofa:gender                                             1.140103\n",
       "apsiii_strata:charlson_comorbidity_index:std_sofa           1.012842\n",
       "apsiii_strata:charlson_comorbidity_index:gender             0.991170\n",
       "apsiii_strata:std_sofa:gender                               0.993190\n",
       "charlson_comorbidity_index:std_sofa:gender                  0.978601\n",
       "apsiii_strata:charlson_comorbidity_index:std_sofa:gender    1.008338\n",
       "Name: exp(coef), dtype: float64"
      ]
     },
     "execution_count": 57,
     "metadata": {},
     "output_type": "execute_result"
    }
   ],
   "source": [
    "cph_aj.hazard_ratios_"
   ]
  },
  {
   "cell_type": "code",
   "execution_count": 58,
   "id": "af8aa668-d80e-45e2-aa35-e019f0a38317",
   "metadata": {
    "tags": []
   },
   "outputs": [
    {
     "name": "stdout",
     "output_type": "stream",
     "text": [
      "Proportional hazard assumption looks okay.\n"
     ]
    },
    {
     "data": {
      "text/plain": [
       "[]"
      ]
     },
     "execution_count": 58,
     "metadata": {},
     "output_type": "execute_result"
    }
   ],
   "source": [
    "cph_aj.check_assumptions(merged_copy[['gender', 'charlson_comorbidity_index', 'apsiii_strata', 'endpoint_365', 'censored_365', 'std_sofa']], p_value_threshold=0.05)"
   ]
  },
  {
   "cell_type": "code",
   "execution_count": 59,
   "id": "b784008e-14ee-44dd-89f2-32dca954e3b6",
   "metadata": {
    "tags": []
   },
   "outputs": [
    {
     "data": {
      "text/plain": [
       "baseline cumulative hazard    0.744136\n",
       "Name: 365.0, dtype: float64"
      ]
     },
     "execution_count": 59,
     "metadata": {},
     "output_type": "execute_result"
    }
   ],
   "source": [
    "cph_aj.baseline_cumulative_hazard_.iloc[-1,:]"
   ]
  },
  {
   "cell_type": "markdown",
   "id": "7969ad04-42aa-4a7c-a05c-ee082dde50dc",
   "metadata": {},
   "source": [
    "## One-year Cox Proportional Hazard - Propensity Score Matching "
   ]
  },
  {
   "cell_type": "markdown",
   "id": "2f6310da-b24c-4681-b5a5-6cdb65400d2e",
   "metadata": {},
   "source": [
    "#### Method#1: Propensity Cohort Creation"
   ]
  },
  {
   "cell_type": "code",
   "execution_count": 60,
   "id": "51aab841-e5dc-425f-b834-3d2e4f477fea",
   "metadata": {
    "tags": []
   },
   "outputs": [
    {
     "data": {
      "text/plain": [
       "Index(['age', 'charlson_comorbidity_index', 'apsiii', 'has_hypertension',\n",
       "       'had_invasive_ventilation', 'had_noninvasive_ventilation',\n",
       "       'had_vasopressor_use', 'has_diabetes', 'has_dyslipidaemia',\n",
       "       'has_coronary_heart_disease', 'has_severe_valvular_heart_disease',\n",
       "       'has_heart_failure', 'has_peripheral_vascular_disease',\n",
       "       'has_prior_stroke', 'had_rrt', 'has_copd', 'has_chronic_kidney_disease',\n",
       "       'sofa_slope', 'median_sofa', 'std_sofa', 'has_chronic_liver_disease',\n",
       "       'has_active_malignant_tumor', 'has_hiv', 'has_loss_of_autonomy',\n",
       "       'has_cognitive_dysfunction', 'has_respiratory_disorder_at_admission',\n",
       "       'has_sepsis_at_admission', 'has_trauma_at_admission',\n",
       "       'has_neurological_disease_at_admission',\n",
       "       'has_cardiac_arrest_at_admission', 'has_cardiogenic_shock_at_admission',\n",
       "       'has_hemorrhagic_shock_at_admission', 'admission_temperature',\n",
       "       'admission_temperature_c', 'max_heart_rate_24h', 'arterial_ph',\n",
       "       'hemoglobin_g_dl', 'first_gcs_total', 'bun_mg_dl', 'creatinine_mg_dl',\n",
       "       'apsiii_strata'],\n",
       "      dtype='object')"
      ]
     },
     "execution_count": 60,
     "metadata": {},
     "output_type": "execute_result"
    }
   ],
   "source": [
    "treatment = merged_copy['gender']\n",
    "covariates = merged_copy.drop(columns=['gender', 'days_to_death', 'death_within_28_days', 'death_within_365_days',\n",
    "                                       'subject_id', 'hadm_id','endpoint_365', 'censored_365', 'endpoint_28','censored_28'])\n",
    "covariates.columns"
   ]
  },
  {
   "cell_type": "code",
   "execution_count": 61,
   "id": "eb19135c-1708-453e-abd6-2622129bf558",
   "metadata": {
    "tags": []
   },
   "outputs": [
    {
     "name": "stderr",
     "output_type": "stream",
     "text": [
      "/opt/conda/lib/python3.10/site-packages/sklearn/linear_model/_logistic.py:469: ConvergenceWarning: lbfgs failed to converge (status=1):\n",
      "STOP: TOTAL NO. of ITERATIONS REACHED LIMIT.\n",
      "\n",
      "Increase the number of iterations (max_iter) or scale the data as shown in:\n",
      "    https://scikit-learn.org/stable/modules/preprocessing.html\n",
      "Please also refer to the documentation for alternative solver options:\n",
      "    https://scikit-learn.org/stable/modules/linear_model.html#logistic-regression\n",
      "  n_iter_i = _check_optimize_result(\n"
     ]
    }
   ],
   "source": [
    "covariates = covariates.apply(pd.to_numeric, errors='coerce')  # Convert to numeric\n",
    "\n",
    "# Fit logistic regression to estimate propensity scores\n",
    "log_reg = LogisticRegression(max_iter=1000)\n",
    "log_reg.fit(covariates, treatment)\n",
    "\n",
    "# Add propensity scores to the DataFrame\n",
    "merged_copy['propensity_score'] = log_reg.predict_proba(covariates)[:, 1]\n",
    "\n",
    "# Separate treated and untreated groups\n",
    "treated = merged_copy[merged_copy['gender'] == 1]\n",
    "untreated = merged_copy[merged_copy['gender'] == 0]\n",
    "\n",
    "# Set fixed caliper value\n",
    "caliper = 0.2 \n",
    "nn = NearestNeighbors(n_neighbors=1)\n",
    "nn.fit(untreated[['propensity_score']])  # Fit on the untreated group\n",
    "\n",
    "# Find the nearest neighbors\n",
    "distances, indices = nn.kneighbors(treated[['propensity_score']])\n",
    "\n",
    "# Apply the caliper and filter out pairs that exceed the caliper\n",
    "matched_treated_indices = []\n",
    "matched_untreated_indices = []\n",
    "\n",
    "for i, (distance, idx) in enumerate(zip(distances.flatten(), indices.flatten())):\n",
    "    if distance <= caliper: \n",
    "        matched_treated_indices.append(treated.index[i])\n",
    "        matched_untreated_indices.append(untreated.index[idx])\n",
    "\n",
    "# Create matched pairs\n",
    "matched_treated = treated.loc[matched_treated_indices].reset_index(drop=True)\n",
    "matched_untreated = untreated.loc[matched_untreated_indices].reset_index(drop=True)\n",
    "\n",
    "# Combine matched pairs into a new DataFrame\n",
    "matched_df = pd.concat([matched_treated, matched_untreated], axis=0).reset_index(drop=True)"
   ]
  },
  {
   "cell_type": "code",
   "execution_count": 62,
   "id": "55b72e08-beb2-4799-9f57-d1c158e559f9",
   "metadata": {
    "tags": []
   },
   "outputs": [
    {
     "data": {
      "text/plain": [
       "(7534, 52)"
      ]
     },
     "execution_count": 62,
     "metadata": {},
     "output_type": "execute_result"
    }
   ],
   "source": [
    "matched_df.shape"
   ]
  },
  {
   "cell_type": "code",
   "execution_count": 63,
   "id": "047de3ce-ce03-43d6-8520-6e121f7c231d",
   "metadata": {
    "tags": []
   },
   "outputs": [
    {
     "data": {
      "text/html": [
       "<div>\n",
       "<style scoped>\n",
       "    .dataframe tbody tr th:only-of-type {\n",
       "        vertical-align: middle;\n",
       "    }\n",
       "\n",
       "    .dataframe tbody tr th {\n",
       "        vertical-align: top;\n",
       "    }\n",
       "\n",
       "    .dataframe thead th {\n",
       "        text-align: right;\n",
       "    }\n",
       "</style>\n",
       "<table border=\"1\" class=\"dataframe\">\n",
       "  <thead>\n",
       "    <tr style=\"text-align: right;\">\n",
       "      <th></th>\n",
       "      <th>coef</th>\n",
       "      <th>exp(coef)</th>\n",
       "      <th>se(coef)</th>\n",
       "      <th>coef lower 95%</th>\n",
       "      <th>coef upper 95%</th>\n",
       "      <th>exp(coef) lower 95%</th>\n",
       "      <th>exp(coef) upper 95%</th>\n",
       "      <th>cmp to</th>\n",
       "      <th>z</th>\n",
       "      <th>p</th>\n",
       "      <th>-log2(p)</th>\n",
       "    </tr>\n",
       "    <tr>\n",
       "      <th>covariate</th>\n",
       "      <th></th>\n",
       "      <th></th>\n",
       "      <th></th>\n",
       "      <th></th>\n",
       "      <th></th>\n",
       "      <th></th>\n",
       "      <th></th>\n",
       "      <th></th>\n",
       "      <th></th>\n",
       "      <th></th>\n",
       "      <th></th>\n",
       "    </tr>\n",
       "  </thead>\n",
       "  <tbody>\n",
       "    <tr>\n",
       "      <th>gender</th>\n",
       "      <td>0.039676</td>\n",
       "      <td>1.040474</td>\n",
       "      <td>0.031275</td>\n",
       "      <td>-0.021621</td>\n",
       "      <td>0.100973</td>\n",
       "      <td>0.978611</td>\n",
       "      <td>1.106247</td>\n",
       "      <td>0.0</td>\n",
       "      <td>1.268638</td>\n",
       "      <td>0.20457</td>\n",
       "      <td>2.289333</td>\n",
       "    </tr>\n",
       "  </tbody>\n",
       "</table>\n",
       "</div>"
      ],
      "text/plain": [
       "               coef  exp(coef)  se(coef)  coef lower 95%  coef upper 95%  \\\n",
       "covariate                                                                  \n",
       "gender     0.039676   1.040474  0.031275       -0.021621        0.100973   \n",
       "\n",
       "           exp(coef) lower 95%  exp(coef) upper 95%  cmp to         z  \\\n",
       "covariate                                                               \n",
       "gender                0.978611             1.106247     0.0  1.268638   \n",
       "\n",
       "                 p  -log2(p)  \n",
       "covariate                     \n",
       "gender     0.20457  2.289333  "
      ]
     },
     "execution_count": 63,
     "metadata": {},
     "output_type": "execute_result"
    }
   ],
   "source": [
    "cph_pm = CoxPHFitter()\n",
    "cph_pm.fit(matched_df[['gender','endpoint_365', 'censored_365']]\n",
    "           , duration_col='endpoint_365'\n",
    "           , event_col='censored_365')\n",
    "\n",
    "cph_pm.summary"
   ]
  },
  {
   "cell_type": "code",
   "execution_count": 64,
   "id": "fa58090f-be3e-4ba3-9b7e-c78468ce6e79",
   "metadata": {
    "tags": []
   },
   "outputs": [
    {
     "data": {
      "text/plain": [
       "covariate\n",
       "gender    1.040474\n",
       "Name: exp(coef), dtype: float64"
      ]
     },
     "execution_count": 64,
     "metadata": {},
     "output_type": "execute_result"
    }
   ],
   "source": [
    "cph_pm.hazard_ratios_"
   ]
  },
  {
   "cell_type": "code",
   "execution_count": 65,
   "id": "a49a81ea-f700-4b27-b8c5-2a3541ce8f1f",
   "metadata": {
    "tags": []
   },
   "outputs": [
    {
     "data": {
      "text/plain": [
       "baseline cumulative hazard    0.776588\n",
       "Name: 365.0, dtype: float64"
      ]
     },
     "execution_count": 65,
     "metadata": {},
     "output_type": "execute_result"
    }
   ],
   "source": [
    "cph_pm.baseline_cumulative_hazard_.iloc[-1,:]"
   ]
  },
  {
   "cell_type": "markdown",
   "id": "36e4d4e7-c39c-459f-9b55-cb10b51160f2",
   "metadata": {},
   "source": [
    "**This regression, although didn't pass the assumptions, showed relatively proportional trends in survival rate among men and women.**"
   ]
  },
  {
   "cell_type": "code",
   "execution_count": 66,
   "id": "627929f6-1ce0-43e0-99e1-4da4a4a6c7d5",
   "metadata": {
    "tags": []
   },
   "outputs": [
    {
     "name": "stdout",
     "output_type": "stream",
     "text": [
      "The ``p_value_threshold`` is set at 0.05. Even under the null hypothesis of no violations, some\n",
      "covariates will be below the threshold by chance. This is compounded when there are many covariates.\n",
      "Similarly, when there are lots of observations, even minor deviances from the proportional hazard\n",
      "assumption will be flagged.\n",
      "\n",
      "With that in mind, it's best to use a combination of statistical tests and visual tests to determine\n",
      "the most serious violations. Produce visual plots using ``check_assumptions(..., show_plots=True)``\n",
      "and looking for non-constant lines. See link [A] below for a full example.\n",
      "\n"
     ]
    },
    {
     "data": {
      "text/html": [
       "<div>\n",
       "<style scoped>\n",
       "    .dataframe tbody tr th:only-of-type {\n",
       "        vertical-align: middle;\n",
       "    }\n",
       "\n",
       "    .dataframe tbody tr th {\n",
       "        vertical-align: top;\n",
       "    }\n",
       "\n",
       "    .dataframe thead th {\n",
       "        text-align: right;\n",
       "    }\n",
       "</style>\n",
       "<table border=\"1\" class=\"dataframe\">\n",
       "  <tbody>\n",
       "    <tr>\n",
       "      <th>null_distribution</th>\n",
       "      <td>chi squared</td>\n",
       "    </tr>\n",
       "    <tr>\n",
       "      <th>degrees_of_freedom</th>\n",
       "      <td>1</td>\n",
       "    </tr>\n",
       "    <tr>\n",
       "      <th>model</th>\n",
       "      <td>&lt;lifelines.CoxPHFitter: fitted with 7534 total...</td>\n",
       "    </tr>\n",
       "    <tr>\n",
       "      <th>test_name</th>\n",
       "      <td>proportional_hazard_test</td>\n",
       "    </tr>\n",
       "  </tbody>\n",
       "</table>\n",
       "</div><table border=\"1\" class=\"dataframe\">\n",
       "  <thead>\n",
       "    <tr style=\"text-align: right;\">\n",
       "      <th></th>\n",
       "      <th></th>\n",
       "      <th>test_statistic</th>\n",
       "      <th>p</th>\n",
       "      <th>-log2(p)</th>\n",
       "    </tr>\n",
       "  </thead>\n",
       "  <tbody>\n",
       "    <tr>\n",
       "      <th rowspan=\"2\" valign=\"top\">gender</th>\n",
       "      <th>km</th>\n",
       "      <td>4.05</td>\n",
       "      <td>0.04</td>\n",
       "      <td>4.50</td>\n",
       "    </tr>\n",
       "    <tr>\n",
       "      <th>rank</th>\n",
       "      <td>12.84</td>\n",
       "      <td>&lt;0.005</td>\n",
       "      <td>11.52</td>\n",
       "    </tr>\n",
       "  </tbody>\n",
       "</table>"
      ],
      "text/latex": [
       "\\begin{tabular}{llrrr}\n",
       " &  & test_statistic & p & -log2(p) \\\\\n",
       "\\multirow[c]{2}{*}{gender} & km & 4.05 & 0.04 & 4.50 \\\\\n",
       " & rank & 12.84 & 0.00 & 11.52 \\\\\n",
       "\\end{tabular}\n"
      ],
      "text/plain": [
       "<lifelines.StatisticalResult: proportional_hazard_test>\n",
       " null_distribution = chi squared\n",
       "degrees_of_freedom = 1\n",
       "             model = <lifelines.CoxPHFitter: fitted with 7534 total observations, 3444 right-censored observations>\n",
       "         test_name = proportional_hazard_test\n",
       "\n",
       "---\n",
       "             test_statistic      p  -log2(p)\n",
       "gender km              4.05   0.04      4.50\n",
       "       rank           12.84 <0.005     11.52"
      ]
     },
     "metadata": {},
     "output_type": "display_data"
    },
    {
     "name": "stdout",
     "output_type": "stream",
     "text": [
      "\n",
      "\n",
      "1. Variable 'gender' failed the non-proportional test: p-value is 0.0003.\n",
      "\n",
      "   Advice: with so few unique values (only 2), you can include `strata=['gender', ...]` in the call\n",
      "in `.fit`. See documentation in link [E] below.\n",
      "\n",
      "---\n",
      "[A]  https://lifelines.readthedocs.io/en/latest/jupyter_notebooks/Proportional%20hazard%20assumption.html\n",
      "[B]  https://lifelines.readthedocs.io/en/latest/jupyter_notebooks/Proportional%20hazard%20assumption.html#Bin-variable-and-stratify-on-it\n",
      "[C]  https://lifelines.readthedocs.io/en/latest/jupyter_notebooks/Proportional%20hazard%20assumption.html#Introduce-time-varying-covariates\n",
      "[D]  https://lifelines.readthedocs.io/en/latest/jupyter_notebooks/Proportional%20hazard%20assumption.html#Modify-the-functional-form\n",
      "[E]  https://lifelines.readthedocs.io/en/latest/jupyter_notebooks/Proportional%20hazard%20assumption.html#Stratification\n",
      "\n"
     ]
    },
    {
     "data": {
      "text/plain": [
       "[]"
      ]
     },
     "execution_count": 66,
     "metadata": {},
     "output_type": "execute_result"
    }
   ],
   "source": [
    "cph_pm.check_assumptions(matched_df[['gender','endpoint_365', 'censored_365']]\n",
    "                         , p_value_threshold=0.05)"
   ]
  },
  {
   "cell_type": "code",
   "execution_count": 67,
   "id": "5f68bb91-8534-461c-b3e7-f02b087ca0ad",
   "metadata": {
    "tags": []
   },
   "outputs": [
    {
     "data": {
      "image/png": "[encoded data removed]",
      "text/plain": [
       "<Figure size 640x480 with 1 Axes>"
      ]
     },
     "metadata": {},
     "output_type": "display_data"
    }
   ],
   "source": [
    "cph_pm.plot_partial_effects_on_outcome(covariates='gender', values=[0, 1], cmap='coolwarm')\n",
    "plt.title('Survival Curves by Gender')\n",
    "plt.xlim(0,400)\n",
    "plt.ylim(0,1)\n",
    "plt.legend(['Male (0)', 'Female (1)'], title=\"Gender\")\n",
    "plt.xlabel('Days')\n",
    "plt.ylabel('Probability of Survival')\n",
    "plt.show()"
   ]
  },
  {
   "cell_type": "markdown",
   "id": "60a9a2a3-3f8d-4bc6-9059-8a096acba407",
   "metadata": {
    "tags": []
   },
   "source": [
    "#### Method#2: Propensity Score Creation"
   ]
  },
  {
   "cell_type": "code",
   "execution_count": 139,
   "id": "df3238c3-2572-4d7e-9aae-b8929f56edd5",
   "metadata": {
    "tags": []
   },
   "outputs": [
    {
     "name": "stderr",
     "output_type": "stream",
     "text": [
      "/opt/conda/lib/python3.10/site-packages/sklearn/linear_model/_logistic.py:469: ConvergenceWarning: lbfgs failed to converge (status=1):\n",
      "STOP: TOTAL NO. of ITERATIONS REACHED LIMIT.\n",
      "\n",
      "Increase the number of iterations (max_iter) or scale the data as shown in:\n",
      "    https://scikit-learn.org/stable/modules/preprocessing.html\n",
      "Please also refer to the documentation for alternative solver options:\n",
      "    https://scikit-learn.org/stable/modules/linear_model.html#logistic-regression\n",
      "  n_iter_i = _check_optimize_result(\n"
     ]
    }
   ],
   "source": [
    "# Define treatment and covariates\n",
    "treatment = merged_copy['gender']\n",
    "covariates = merged_copy.drop(columns=['gender', 'days_to_death', 'death_within_28_days', 'death_within_365_days',\n",
    "                                       'subject_id', 'hadm_id','endpoint_365', 'censored_365', 'endpoint_28','censored_28'])\n",
    "# Fit a logistic regression model to compute the propensity scores\n",
    "model = LogisticRegression(max_iter=1000)\n",
    "model.fit(covariates, treatment)\n",
    "\n",
    "# Get the propensity scores\n",
    "propensity_scores = model.predict_proba(covariates)[:, 1]\n",
    "\n",
    "# Now you can match based on propensity scores (e.g., using nearest neighbor matching)\n",
    "nn = NearestNeighbors(n_neighbors=1)\n",
    "nn.fit(propensity_scores.reshape(-1, 1))  # Reshape to ensure correct input format\n",
    "distances, indices = nn.kneighbors(propensity_scores.reshape(-1, 1))\n",
    "\n",
    "# Retrieve matched pairs or other matching methods as needed\n",
    "matched_pairs = merged_copy.iloc[indices.flatten()]\n",
    "matched_pairs['propensity_score'] = propensity_scores[indices.flatten()]"
   ]
  },
  {
   "cell_type": "code",
   "execution_count": 140,
   "id": "640cfef4-f41d-4246-9707-f26c8fd5628e",
   "metadata": {
    "tags": []
   },
   "outputs": [
    {
     "data": {
      "text/html": [
       "<div>\n",
       "<style scoped>\n",
       "    .dataframe tbody tr th:only-of-type {\n",
       "        vertical-align: middle;\n",
       "    }\n",
       "\n",
       "    .dataframe tbody tr th {\n",
       "        vertical-align: top;\n",
       "    }\n",
       "\n",
       "    .dataframe thead th {\n",
       "        text-align: right;\n",
       "    }\n",
       "</style>\n",
       "<table border=\"1\" class=\"dataframe\">\n",
       "  <thead>\n",
       "    <tr style=\"text-align: right;\">\n",
       "      <th></th>\n",
       "      <th>coef</th>\n",
       "      <th>exp(coef)</th>\n",
       "      <th>se(coef)</th>\n",
       "      <th>coef lower 95%</th>\n",
       "      <th>coef upper 95%</th>\n",
       "      <th>exp(coef) lower 95%</th>\n",
       "      <th>exp(coef) upper 95%</th>\n",
       "      <th>cmp to</th>\n",
       "      <th>z</th>\n",
       "      <th>p</th>\n",
       "      <th>-log2(p)</th>\n",
       "    </tr>\n",
       "    <tr>\n",
       "      <th>covariate</th>\n",
       "      <th></th>\n",
       "      <th></th>\n",
       "      <th></th>\n",
       "      <th></th>\n",
       "      <th></th>\n",
       "      <th></th>\n",
       "      <th></th>\n",
       "      <th></th>\n",
       "      <th></th>\n",
       "      <th></th>\n",
       "      <th></th>\n",
       "    </tr>\n",
       "  </thead>\n",
       "  <tbody>\n",
       "    <tr>\n",
       "      <th>gender</th>\n",
       "      <td>0.055031</td>\n",
       "      <td>1.056574</td>\n",
       "      <td>0.030331</td>\n",
       "      <td>-0.004416</td>\n",
       "      <td>0.114478</td>\n",
       "      <td>0.995594</td>\n",
       "      <td>1.121288</td>\n",
       "      <td>0.0</td>\n",
       "      <td>1.814366</td>\n",
       "      <td>6.962143e-02</td>\n",
       "      <td>3.844325</td>\n",
       "    </tr>\n",
       "    <tr>\n",
       "      <th>propensity_score</th>\n",
       "      <td>-1.739837</td>\n",
       "      <td>0.175549</td>\n",
       "      <td>0.205619</td>\n",
       "      <td>-2.142843</td>\n",
       "      <td>-1.336831</td>\n",
       "      <td>0.117321</td>\n",
       "      <td>0.262677</td>\n",
       "      <td>0.0</td>\n",
       "      <td>-8.461453</td>\n",
       "      <td>2.640656e-17</td>\n",
       "      <td>55.071881</td>\n",
       "    </tr>\n",
       "  </tbody>\n",
       "</table>\n",
       "</div>"
      ],
      "text/plain": [
       "                      coef  exp(coef)  se(coef)  coef lower 95%  \\\n",
       "covariate                                                         \n",
       "gender            0.055031   1.056574  0.030331       -0.004416   \n",
       "propensity_score -1.739837   0.175549  0.205619       -2.142843   \n",
       "\n",
       "                  coef upper 95%  exp(coef) lower 95%  exp(coef) upper 95%  \\\n",
       "covariate                                                                    \n",
       "gender                  0.114478             0.995594             1.121288   \n",
       "propensity_score       -1.336831             0.117321             0.262677   \n",
       "\n",
       "                  cmp to         z             p   -log2(p)  \n",
       "covariate                                                    \n",
       "gender               0.0  1.814366  6.962143e-02   3.844325  \n",
       "propensity_score     0.0 -8.461453  2.640656e-17  55.071881  "
      ]
     },
     "execution_count": 140,
     "metadata": {},
     "output_type": "execute_result"
    }
   ],
   "source": [
    "cph_pm1 = CoxPHFitter()\n",
    "cph_pm1.fit(\n",
    "    matched_pairs[['gender', 'propensity_score', 'endpoint_365', 'censored_365']],\n",
    "    duration_col='endpoint_365',\n",
    "    event_col='censored_365'\n",
    ")\n",
    "\n",
    "cph_pm1.summary"
   ]
  },
  {
   "cell_type": "code",
   "execution_count": 141,
   "id": "5a13e569-bc3c-4b7d-9af8-5b4b7a928dff",
   "metadata": {
    "tags": []
   },
   "outputs": [
    {
     "data": {
      "text/plain": [
       "baseline cumulative hazard    0.782718\n",
       "Name: 365.0, dtype: float64"
      ]
     },
     "execution_count": 141,
     "metadata": {},
     "output_type": "execute_result"
    }
   ],
   "source": [
    "cph_pm1.baseline_cumulative_hazard_.iloc[-1,:]"
   ]
  },
  {
   "cell_type": "markdown",
   "id": "d853b9d6-9438-4b75-b7f9-b1c5909ced82",
   "metadata": {},
   "source": [
    "**This regression, although didn't pass the assumptions, showed relatively proportional trends in survival rate among men and women.**"
   ]
  },
  {
   "cell_type": "code",
   "execution_count": 142,
   "id": "7b237877-aab9-45a0-9ffc-7f2c3883809a",
   "metadata": {
    "tags": []
   },
   "outputs": [
    {
     "name": "stdout",
     "output_type": "stream",
     "text": [
      "The ``p_value_threshold`` is set at 0.05. Even under the null hypothesis of no violations, some\n",
      "covariates will be below the threshold by chance. This is compounded when there are many covariates.\n",
      "Similarly, when there are lots of observations, even minor deviances from the proportional hazard\n",
      "assumption will be flagged.\n",
      "\n",
      "With that in mind, it's best to use a combination of statistical tests and visual tests to determine\n",
      "the most serious violations. Produce visual plots using ``check_assumptions(..., show_plots=True)``\n",
      "and looking for non-constant lines. See link [A] below for a full example.\n",
      "\n"
     ]
    },
    {
     "data": {
      "text/html": [
       "<div>\n",
       "<style scoped>\n",
       "    .dataframe tbody tr th:only-of-type {\n",
       "        vertical-align: middle;\n",
       "    }\n",
       "\n",
       "    .dataframe tbody tr th {\n",
       "        vertical-align: top;\n",
       "    }\n",
       "\n",
       "    .dataframe thead th {\n",
       "        text-align: right;\n",
       "    }\n",
       "</style>\n",
       "<table border=\"1\" class=\"dataframe\">\n",
       "  <tbody>\n",
       "    <tr>\n",
       "      <th>null_distribution</th>\n",
       "      <td>chi squared</td>\n",
       "    </tr>\n",
       "    <tr>\n",
       "      <th>degrees_of_freedom</th>\n",
       "      <td>1</td>\n",
       "    </tr>\n",
       "    <tr>\n",
       "      <th>model</th>\n",
       "      <td>&lt;lifelines.CoxPHFitter: fitted with 8178 total...</td>\n",
       "    </tr>\n",
       "    <tr>\n",
       "      <th>test_name</th>\n",
       "      <td>proportional_hazard_test</td>\n",
       "    </tr>\n",
       "  </tbody>\n",
       "</table>\n",
       "</div><table border=\"1\" class=\"dataframe\">\n",
       "  <thead>\n",
       "    <tr style=\"text-align: right;\">\n",
       "      <th></th>\n",
       "      <th></th>\n",
       "      <th>test_statistic</th>\n",
       "      <th>p</th>\n",
       "      <th>-log2(p)</th>\n",
       "    </tr>\n",
       "  </thead>\n",
       "  <tbody>\n",
       "    <tr>\n",
       "      <th rowspan=\"2\" valign=\"top\">gender</th>\n",
       "      <th>km</th>\n",
       "      <td>5.25</td>\n",
       "      <td>0.02</td>\n",
       "      <td>5.51</td>\n",
       "    </tr>\n",
       "    <tr>\n",
       "      <th>rank</th>\n",
       "      <td>5.11</td>\n",
       "      <td>0.02</td>\n",
       "      <td>5.39</td>\n",
       "    </tr>\n",
       "    <tr>\n",
       "      <th rowspan=\"2\" valign=\"top\">propensity_score</th>\n",
       "      <th>km</th>\n",
       "      <td>29.78</td>\n",
       "      <td>&lt;0.005</td>\n",
       "      <td>24.30</td>\n",
       "    </tr>\n",
       "    <tr>\n",
       "      <th>rank</th>\n",
       "      <td>30.92</td>\n",
       "      <td>&lt;0.005</td>\n",
       "      <td>25.15</td>\n",
       "    </tr>\n",
       "  </tbody>\n",
       "</table>"
      ],
      "text/latex": [
       "\\begin{tabular}{llrrr}\n",
       " &  & test_statistic & p & -log2(p) \\\\\n",
       "\\multirow[c]{2}{*}{gender} & km & 5.25 & 0.02 & 5.51 \\\\\n",
       " & rank & 5.11 & 0.02 & 5.39 \\\\\n",
       "\\multirow[c]{2}{*}{propensity_score} & km & 29.78 & 0.00 & 24.30 \\\\\n",
       " & rank & 30.92 & 0.00 & 25.15 \\\\\n",
       "\\end{tabular}\n"
      ],
      "text/plain": [
       "<lifelines.StatisticalResult: proportional_hazard_test>\n",
       " null_distribution = chi squared\n",
       "degrees_of_freedom = 1\n",
       "             model = <lifelines.CoxPHFitter: fitted with 8178 total observations, 3715 right-censored observations>\n",
       "         test_name = proportional_hazard_test\n",
       "\n",
       "---\n",
       "                       test_statistic      p  -log2(p)\n",
       "gender           km              5.25   0.02      5.51\n",
       "                 rank            5.11   0.02      5.39\n",
       "propensity_score km             29.78 <0.005     24.30\n",
       "                 rank           30.92 <0.005     25.15"
      ]
     },
     "metadata": {},
     "output_type": "display_data"
    },
    {
     "name": "stdout",
     "output_type": "stream",
     "text": [
      "\n",
      "\n",
      "1. Variable 'gender' failed the non-proportional test: p-value is 0.0220.\n",
      "\n",
      "   Advice: with so few unique values (only 2), you can include `strata=['gender', ...]` in the call\n",
      "in `.fit`. See documentation in link [E] below.\n",
      "\n",
      "2. Variable 'propensity_score' failed the non-proportional test: p-value is <5e-05.\n",
      "\n",
      "   Advice 1: the functional form of the variable 'propensity_score' might be incorrect. That is,\n",
      "there may be non-linear terms missing. The proportional hazard test used is very sensitive to\n",
      "incorrect functional forms. See documentation in link [D] below on how to specify a functional form.\n",
      "\n",
      "   Advice 2: try binning the variable 'propensity_score' using pd.cut, and then specify it in\n",
      "`strata=['propensity_score', ...]` in the call in `.fit`. See documentation in link [B] below.\n",
      "\n",
      "   Advice 3: try adding an interaction term with your time variable. See documentation in link [C]\n",
      "below.\n",
      "\n",
      "\n",
      "---\n",
      "[A]  https://lifelines.readthedocs.io/en/latest/jupyter_notebooks/Proportional%20hazard%20assumption.html\n",
      "[B]  https://lifelines.readthedocs.io/en/latest/jupyter_notebooks/Proportional%20hazard%20assumption.html#Bin-variable-and-stratify-on-it\n",
      "[C]  https://lifelines.readthedocs.io/en/latest/jupyter_notebooks/Proportional%20hazard%20assumption.html#Introduce-time-varying-covariates\n",
      "[D]  https://lifelines.readthedocs.io/en/latest/jupyter_notebooks/Proportional%20hazard%20assumption.html#Modify-the-functional-form\n",
      "[E]  https://lifelines.readthedocs.io/en/latest/jupyter_notebooks/Proportional%20hazard%20assumption.html#Stratification\n",
      "\n"
     ]
    },
    {
     "data": {
      "text/plain": [
       "[]"
      ]
     },
     "execution_count": 142,
     "metadata": {},
     "output_type": "execute_result"
    }
   ],
   "source": [
    "cph_pm1.check_assumptions(matched_pairs[['gender', 'propensity_score', 'censored_365', 'endpoint_365']], p_value_threshold=0.05)"
   ]
  },
  {
   "cell_type": "code",
   "execution_count": 147,
   "id": "9e3a15c4-b95b-4f77-8461-58d861b1ae17",
   "metadata": {
    "tags": []
   },
   "outputs": [
    {
     "data": {
      "image/png": "[encoded data removed]",
      "text/plain": [
       "<Figure size 640x480 with 1 Axes>"
      ]
     },
     "metadata": {},
     "output_type": "display_data"
    }
   ],
   "source": [
    "cph_pm1.plot_partial_effects_on_outcome(covariates='gender', values=[0, 1], cmap='coolwarm')\n",
    "plt.title('Survival Curves by Gender')\n",
    "plt.xlim(0,400)\n",
    "plt.ylim(0,1)\n",
    "plt.legend(['Male (0)', 'Female (1)'], title=\"Gender\")\n",
    "plt.show()"
   ]
  },
  {
   "cell_type": "markdown",
   "id": "b3e5f029-24d9-4c6e-b441-eee2e6d6db06",
   "metadata": {
    "tags": []
   },
   "source": [
    "# 28-Days End Point"
   ]
  },
  {
   "cell_type": "markdown",
   "id": "648e733b-98e6-4ed6-b340-0c8f228cdcbd",
   "metadata": {},
   "source": [
    "## 28-days Cox Proportional Hazard - Unadjusted"
   ]
  },
  {
   "cell_type": "code",
   "execution_count": 148,
   "id": "660c85de-bddd-4b67-9e40-2bf8610af1dc",
   "metadata": {
    "tags": []
   },
   "outputs": [
    {
     "data": {
      "text/html": [
       "<div>\n",
       "<style scoped>\n",
       "    .dataframe tbody tr th:only-of-type {\n",
       "        vertical-align: middle;\n",
       "    }\n",
       "\n",
       "    .dataframe tbody tr th {\n",
       "        vertical-align: top;\n",
       "    }\n",
       "\n",
       "    .dataframe thead th {\n",
       "        text-align: right;\n",
       "    }\n",
       "</style>\n",
       "<table border=\"1\" class=\"dataframe\">\n",
       "  <thead>\n",
       "    <tr style=\"text-align: right;\">\n",
       "      <th></th>\n",
       "      <th>coef</th>\n",
       "      <th>exp(coef)</th>\n",
       "      <th>se(coef)</th>\n",
       "      <th>coef lower 95%</th>\n",
       "      <th>coef upper 95%</th>\n",
       "      <th>exp(coef) lower 95%</th>\n",
       "      <th>exp(coef) upper 95%</th>\n",
       "      <th>cmp to</th>\n",
       "      <th>z</th>\n",
       "      <th>p</th>\n",
       "      <th>-log2(p)</th>\n",
       "    </tr>\n",
       "    <tr>\n",
       "      <th>covariate</th>\n",
       "      <th></th>\n",
       "      <th></th>\n",
       "      <th></th>\n",
       "      <th></th>\n",
       "      <th></th>\n",
       "      <th></th>\n",
       "      <th></th>\n",
       "      <th></th>\n",
       "      <th></th>\n",
       "      <th></th>\n",
       "      <th></th>\n",
       "    </tr>\n",
       "  </thead>\n",
       "  <tbody>\n",
       "    <tr>\n",
       "      <th>gender</th>\n",
       "      <td>0.032915</td>\n",
       "      <td>1.033463</td>\n",
       "      <td>0.035358</td>\n",
       "      <td>-0.036386</td>\n",
       "      <td>0.102216</td>\n",
       "      <td>0.964268</td>\n",
       "      <td>1.107623</td>\n",
       "      <td>0.0</td>\n",
       "      <td>0.930909</td>\n",
       "      <td>0.351901</td>\n",
       "      <td>1.50676</td>\n",
       "    </tr>\n",
       "  </tbody>\n",
       "</table>\n",
       "</div>"
      ],
      "text/plain": [
       "               coef  exp(coef)  se(coef)  coef lower 95%  coef upper 95%  \\\n",
       "covariate                                                                  \n",
       "gender     0.032915   1.033463  0.035358       -0.036386        0.102216   \n",
       "\n",
       "           exp(coef) lower 95%  exp(coef) upper 95%  cmp to         z  \\\n",
       "covariate                                                               \n",
       "gender                0.964268             1.107623     0.0  0.930909   \n",
       "\n",
       "                  p  -log2(p)  \n",
       "covariate                      \n",
       "gender     0.351901   1.50676  "
      ]
     },
     "execution_count": 148,
     "metadata": {},
     "output_type": "execute_result"
    }
   ],
   "source": [
    "cph.fit(\n",
    "    merged_copy[['gender','endpoint_28', 'censored_28']],\n",
    "    duration_col='endpoint_28',\n",
    "    event_col='censored_28',\n",
    ")\n",
    "cph.summary"
   ]
  },
  {
   "cell_type": "code",
   "execution_count": 149,
   "id": "079cda85-4ffe-4fcb-9521-3fe578caee7b",
   "metadata": {
    "tags": []
   },
   "outputs": [
    {
     "data": {
      "text/plain": [
       "covariate\n",
       "gender    1.033463\n",
       "Name: exp(coef), dtype: float64"
      ]
     },
     "execution_count": 149,
     "metadata": {},
     "output_type": "execute_result"
    }
   ],
   "source": [
    "cph.hazard_ratios_"
   ]
  },
  {
   "cell_type": "code",
   "execution_count": 150,
   "id": "d5fcdd1f-a8ea-44cf-8a87-bf443d69fc33",
   "metadata": {
    "tags": []
   },
   "outputs": [
    {
     "data": {
      "text/plain": [
       "baseline cumulative hazard    0.493355\n",
       "Name: 28.0, dtype: float64"
      ]
     },
     "execution_count": 150,
     "metadata": {},
     "output_type": "execute_result"
    }
   ],
   "source": [
    "cph.baseline_cumulative_hazard_.iloc[-1,:]"
   ]
  },
  {
   "cell_type": "code",
   "execution_count": 151,
   "id": "9993a89c-5a83-4f6e-96bb-8954e75a13d3",
   "metadata": {
    "tags": []
   },
   "outputs": [
    {
     "name": "stdout",
     "output_type": "stream",
     "text": [
      "Proportional hazard assumption looks okay.\n"
     ]
    },
    {
     "data": {
      "text/plain": [
       "[]"
      ]
     },
     "execution_count": 151,
     "metadata": {},
     "output_type": "execute_result"
    }
   ],
   "source": [
    "cph.check_assumptions(merged_copy[['gender', 'endpoint_28', 'censored_28']]\n",
    "                      ,p_value_threshold=0.05)"
   ]
  },
  {
   "cell_type": "markdown",
   "id": "a632f5d8-8dbf-4849-82b0-6d93deff7609",
   "metadata": {},
   "source": [
    "## 28-days Cox Proportional Hazard - Adjusted"
   ]
  },
  {
   "cell_type": "code",
   "execution_count": 152,
   "id": "a284bc6b-ff60-40dd-b528-e9b2a2dcb42b",
   "metadata": {
    "tags": []
   },
   "outputs": [
    {
     "data": {
      "text/html": [
       "<div>\n",
       "<style scoped>\n",
       "    .dataframe tbody tr th:only-of-type {\n",
       "        vertical-align: middle;\n",
       "    }\n",
       "\n",
       "    .dataframe tbody tr th {\n",
       "        vertical-align: top;\n",
       "    }\n",
       "\n",
       "    .dataframe thead th {\n",
       "        text-align: right;\n",
       "    }\n",
       "</style>\n",
       "<table border=\"1\" class=\"dataframe\">\n",
       "  <thead>\n",
       "    <tr style=\"text-align: right;\">\n",
       "      <th></th>\n",
       "      <th>coef</th>\n",
       "      <th>exp(coef)</th>\n",
       "      <th>se(coef)</th>\n",
       "      <th>coef lower 95%</th>\n",
       "      <th>coef upper 95%</th>\n",
       "      <th>exp(coef) lower 95%</th>\n",
       "      <th>exp(coef) upper 95%</th>\n",
       "      <th>cmp to</th>\n",
       "      <th>z</th>\n",
       "      <th>p</th>\n",
       "      <th>-log2(p)</th>\n",
       "    </tr>\n",
       "    <tr>\n",
       "      <th>covariate</th>\n",
       "      <th></th>\n",
       "      <th></th>\n",
       "      <th></th>\n",
       "      <th></th>\n",
       "      <th></th>\n",
       "      <th></th>\n",
       "      <th></th>\n",
       "      <th></th>\n",
       "      <th></th>\n",
       "      <th></th>\n",
       "      <th></th>\n",
       "    </tr>\n",
       "  </thead>\n",
       "  <tbody>\n",
       "    <tr>\n",
       "      <th>gender</th>\n",
       "      <td>-0.074865</td>\n",
       "      <td>0.927869</td>\n",
       "      <td>0.359883</td>\n",
       "      <td>-0.780223</td>\n",
       "      <td>0.630494</td>\n",
       "      <td>0.458304</td>\n",
       "      <td>1.878538</td>\n",
       "      <td>0.0</td>\n",
       "      <td>-0.208025</td>\n",
       "      <td>8.352097e-01</td>\n",
       "      <td>0.259790</td>\n",
       "    </tr>\n",
       "    <tr>\n",
       "      <th>apsiii_strata</th>\n",
       "      <td>1.241965</td>\n",
       "      <td>3.462411</td>\n",
       "      <td>0.185126</td>\n",
       "      <td>0.879126</td>\n",
       "      <td>1.604805</td>\n",
       "      <td>2.408792</td>\n",
       "      <td>4.976887</td>\n",
       "      <td>0.0</td>\n",
       "      <td>6.708769</td>\n",
       "      <td>1.962726e-11</td>\n",
       "      <td>35.568351</td>\n",
       "    </tr>\n",
       "    <tr>\n",
       "      <th>charlson_comorbidity_index</th>\n",
       "      <td>0.193547</td>\n",
       "      <td>1.213546</td>\n",
       "      <td>0.032841</td>\n",
       "      <td>0.129180</td>\n",
       "      <td>0.257914</td>\n",
       "      <td>1.137895</td>\n",
       "      <td>1.294228</td>\n",
       "      <td>0.0</td>\n",
       "      <td>5.893469</td>\n",
       "      <td>3.781702e-09</td>\n",
       "      <td>27.978317</td>\n",
       "    </tr>\n",
       "    <tr>\n",
       "      <th>std_sofa</th>\n",
       "      <td>0.394838</td>\n",
       "      <td>1.484144</td>\n",
       "      <td>0.130348</td>\n",
       "      <td>0.139361</td>\n",
       "      <td>0.650315</td>\n",
       "      <td>1.149539</td>\n",
       "      <td>1.916145</td>\n",
       "      <td>0.0</td>\n",
       "      <td>3.029113</td>\n",
       "      <td>2.452727e-03</td>\n",
       "      <td>8.671398</td>\n",
       "    </tr>\n",
       "    <tr>\n",
       "      <th>gender:apsiii_strata</th>\n",
       "      <td>-0.107884</td>\n",
       "      <td>0.897732</td>\n",
       "      <td>0.273560</td>\n",
       "      <td>-0.644052</td>\n",
       "      <td>0.428284</td>\n",
       "      <td>0.525160</td>\n",
       "      <td>1.534622</td>\n",
       "      <td>0.0</td>\n",
       "      <td>-0.394370</td>\n",
       "      <td>6.933078e-01</td>\n",
       "      <td>0.528432</td>\n",
       "    </tr>\n",
       "    <tr>\n",
       "      <th>gender:charlson_comorbidity_index</th>\n",
       "      <td>0.031517</td>\n",
       "      <td>1.032019</td>\n",
       "      <td>0.051378</td>\n",
       "      <td>-0.069181</td>\n",
       "      <td>0.132215</td>\n",
       "      <td>0.933158</td>\n",
       "      <td>1.141354</td>\n",
       "      <td>0.0</td>\n",
       "      <td>0.613448</td>\n",
       "      <td>5.395801e-01</td>\n",
       "      <td>0.890091</td>\n",
       "    </tr>\n",
       "    <tr>\n",
       "      <th>apsiii_strata:charlson_comorbidity_index</th>\n",
       "      <td>-0.079589</td>\n",
       "      <td>0.923496</td>\n",
       "      <td>0.024950</td>\n",
       "      <td>-0.128491</td>\n",
       "      <td>-0.030687</td>\n",
       "      <td>0.879421</td>\n",
       "      <td>0.969779</td>\n",
       "      <td>0.0</td>\n",
       "      <td>-3.189907</td>\n",
       "      <td>1.423188e-03</td>\n",
       "      <td>9.456658</td>\n",
       "    </tr>\n",
       "    <tr>\n",
       "      <th>gender:std_sofa</th>\n",
       "      <td>0.215296</td>\n",
       "      <td>1.240228</td>\n",
       "      <td>0.190037</td>\n",
       "      <td>-0.157169</td>\n",
       "      <td>0.587760</td>\n",
       "      <td>0.854559</td>\n",
       "      <td>1.799953</td>\n",
       "      <td>0.0</td>\n",
       "      <td>1.132917</td>\n",
       "      <td>2.572492e-01</td>\n",
       "      <td>1.958761</td>\n",
       "    </tr>\n",
       "    <tr>\n",
       "      <th>apsiii_strata:std_sofa</th>\n",
       "      <td>-0.186201</td>\n",
       "      <td>0.830107</td>\n",
       "      <td>0.085815</td>\n",
       "      <td>-0.354396</td>\n",
       "      <td>-0.018006</td>\n",
       "      <td>0.701597</td>\n",
       "      <td>0.982155</td>\n",
       "      <td>0.0</td>\n",
       "      <td>-2.169785</td>\n",
       "      <td>3.002311e-02</td>\n",
       "      <td>5.057783</td>\n",
       "    </tr>\n",
       "    <tr>\n",
       "      <th>charlson_comorbidity_index:std_sofa</th>\n",
       "      <td>-0.011401</td>\n",
       "      <td>0.988664</td>\n",
       "      <td>0.017851</td>\n",
       "      <td>-0.046388</td>\n",
       "      <td>0.023586</td>\n",
       "      <td>0.954671</td>\n",
       "      <td>1.023867</td>\n",
       "      <td>0.0</td>\n",
       "      <td>-0.638676</td>\n",
       "      <td>5.230339e-01</td>\n",
       "      <td>0.935024</td>\n",
       "    </tr>\n",
       "    <tr>\n",
       "      <th>gender:apsiii_strata:charlson_comorbidity_index</th>\n",
       "      <td>-0.003817</td>\n",
       "      <td>0.996191</td>\n",
       "      <td>0.038771</td>\n",
       "      <td>-0.079807</td>\n",
       "      <td>0.072173</td>\n",
       "      <td>0.923295</td>\n",
       "      <td>1.074842</td>\n",
       "      <td>0.0</td>\n",
       "      <td>-0.098441</td>\n",
       "      <td>9.215819e-01</td>\n",
       "      <td>0.117816</td>\n",
       "    </tr>\n",
       "    <tr>\n",
       "      <th>gender:apsiii_strata:std_sofa</th>\n",
       "      <td>-0.051797</td>\n",
       "      <td>0.949521</td>\n",
       "      <td>0.125847</td>\n",
       "      <td>-0.298452</td>\n",
       "      <td>0.194858</td>\n",
       "      <td>0.741966</td>\n",
       "      <td>1.215138</td>\n",
       "      <td>0.0</td>\n",
       "      <td>-0.411591</td>\n",
       "      <td>6.806391e-01</td>\n",
       "      <td>0.555038</td>\n",
       "    </tr>\n",
       "    <tr>\n",
       "      <th>gender:charlson_comorbidity_index:std_sofa</th>\n",
       "      <td>-0.031508</td>\n",
       "      <td>0.968983</td>\n",
       "      <td>0.027765</td>\n",
       "      <td>-0.085926</td>\n",
       "      <td>0.022910</td>\n",
       "      <td>0.917662</td>\n",
       "      <td>1.023174</td>\n",
       "      <td>0.0</td>\n",
       "      <td>-1.134820</td>\n",
       "      <td>2.564509e-01</td>\n",
       "      <td>1.963245</td>\n",
       "    </tr>\n",
       "    <tr>\n",
       "      <th>apsiii_strata:charlson_comorbidity_index:std_sofa</th>\n",
       "      <td>0.014239</td>\n",
       "      <td>1.014341</td>\n",
       "      <td>0.011826</td>\n",
       "      <td>-0.008940</td>\n",
       "      <td>0.037418</td>\n",
       "      <td>0.991100</td>\n",
       "      <td>1.038127</td>\n",
       "      <td>0.0</td>\n",
       "      <td>1.204042</td>\n",
       "      <td>2.285732e-01</td>\n",
       "      <td>2.129272</td>\n",
       "    </tr>\n",
       "    <tr>\n",
       "      <th>gender:apsiii_strata:charlson_comorbidity_index:std_sofa</th>\n",
       "      <td>0.012534</td>\n",
       "      <td>1.012612</td>\n",
       "      <td>0.018329</td>\n",
       "      <td>-0.023392</td>\n",
       "      <td>0.048459</td>\n",
       "      <td>0.976880</td>\n",
       "      <td>1.049652</td>\n",
       "      <td>0.0</td>\n",
       "      <td>0.683792</td>\n",
       "      <td>4.941067e-01</td>\n",
       "      <td>1.017105</td>\n",
       "    </tr>\n",
       "  </tbody>\n",
       "</table>\n",
       "</div>"
      ],
      "text/plain": [
       "                                                        coef  exp(coef)  \\\n",
       "covariate                                                                 \n",
       "gender                                             -0.074865   0.927869   \n",
       "apsiii_strata                                       1.241965   3.462411   \n",
       "charlson_comorbidity_index                          0.193547   1.213546   \n",
       "std_sofa                                            0.394838   1.484144   \n",
       "gender:apsiii_strata                               -0.107884   0.897732   \n",
       "gender:charlson_comorbidity_index                   0.031517   1.032019   \n",
       "apsiii_strata:charlson_comorbidity_index           -0.079589   0.923496   \n",
       "gender:std_sofa                                     0.215296   1.240228   \n",
       "apsiii_strata:std_sofa                             -0.186201   0.830107   \n",
       "charlson_comorbidity_index:std_sofa                -0.011401   0.988664   \n",
       "gender:apsiii_strata:charlson_comorbidity_index    -0.003817   0.996191   \n",
       "gender:apsiii_strata:std_sofa                      -0.051797   0.949521   \n",
       "gender:charlson_comorbidity_index:std_sofa         -0.031508   0.968983   \n",
       "apsiii_strata:charlson_comorbidity_index:std_sofa   0.014239   1.014341   \n",
       "gender:apsiii_strata:charlson_comorbidity_index...  0.012534   1.012612   \n",
       "\n",
       "                                                    se(coef)  coef lower 95%  \\\n",
       "covariate                                                                      \n",
       "gender                                              0.359883       -0.780223   \n",
       "apsiii_strata                                       0.185126        0.879126   \n",
       "charlson_comorbidity_index                          0.032841        0.129180   \n",
       "std_sofa                                            0.130348        0.139361   \n",
       "gender:apsiii_strata                                0.273560       -0.644052   \n",
       "gender:charlson_comorbidity_index                   0.051378       -0.069181   \n",
       "apsiii_strata:charlson_comorbidity_index            0.024950       -0.128491   \n",
       "gender:std_sofa                                     0.190037       -0.157169   \n",
       "apsiii_strata:std_sofa                              0.085815       -0.354396   \n",
       "charlson_comorbidity_index:std_sofa                 0.017851       -0.046388   \n",
       "gender:apsiii_strata:charlson_comorbidity_index     0.038771       -0.079807   \n",
       "gender:apsiii_strata:std_sofa                       0.125847       -0.298452   \n",
       "gender:charlson_comorbidity_index:std_sofa          0.027765       -0.085926   \n",
       "apsiii_strata:charlson_comorbidity_index:std_sofa   0.011826       -0.008940   \n",
       "gender:apsiii_strata:charlson_comorbidity_index...  0.018329       -0.023392   \n",
       "\n",
       "                                                    coef upper 95%  \\\n",
       "covariate                                                            \n",
       "gender                                                    0.630494   \n",
       "apsiii_strata                                             1.604805   \n",
       "charlson_comorbidity_index                                0.257914   \n",
       "std_sofa                                                  0.650315   \n",
       "gender:apsiii_strata                                      0.428284   \n",
       "gender:charlson_comorbidity_index                         0.132215   \n",
       "apsiii_strata:charlson_comorbidity_index                 -0.030687   \n",
       "gender:std_sofa                                           0.587760   \n",
       "apsiii_strata:std_sofa                                   -0.018006   \n",
       "charlson_comorbidity_index:std_sofa                       0.023586   \n",
       "gender:apsiii_strata:charlson_comorbidity_index           0.072173   \n",
       "gender:apsiii_strata:std_sofa                             0.194858   \n",
       "gender:charlson_comorbidity_index:std_sofa                0.022910   \n",
       "apsiii_strata:charlson_comorbidity_index:std_sofa         0.037418   \n",
       "gender:apsiii_strata:charlson_comorbidity_index...        0.048459   \n",
       "\n",
       "                                                    exp(coef) lower 95%  \\\n",
       "covariate                                                                 \n",
       "gender                                                         0.458304   \n",
       "apsiii_strata                                                  2.408792   \n",
       "charlson_comorbidity_index                                     1.137895   \n",
       "std_sofa                                                       1.149539   \n",
       "gender:apsiii_strata                                           0.525160   \n",
       "gender:charlson_comorbidity_index                              0.933158   \n",
       "apsiii_strata:charlson_comorbidity_index                       0.879421   \n",
       "gender:std_sofa                                                0.854559   \n",
       "apsiii_strata:std_sofa                                         0.701597   \n",
       "charlson_comorbidity_index:std_sofa                            0.954671   \n",
       "gender:apsiii_strata:charlson_comorbidity_index                0.923295   \n",
       "gender:apsiii_strata:std_sofa                                  0.741966   \n",
       "gender:charlson_comorbidity_index:std_sofa                     0.917662   \n",
       "apsiii_strata:charlson_comorbidity_index:std_sofa              0.991100   \n",
       "gender:apsiii_strata:charlson_comorbidity_index...             0.976880   \n",
       "\n",
       "                                                    exp(coef) upper 95%  \\\n",
       "covariate                                                                 \n",
       "gender                                                         1.878538   \n",
       "apsiii_strata                                                  4.976887   \n",
       "charlson_comorbidity_index                                     1.294228   \n",
       "std_sofa                                                       1.916145   \n",
       "gender:apsiii_strata                                           1.534622   \n",
       "gender:charlson_comorbidity_index                              1.141354   \n",
       "apsiii_strata:charlson_comorbidity_index                       0.969779   \n",
       "gender:std_sofa                                                1.799953   \n",
       "apsiii_strata:std_sofa                                         0.982155   \n",
       "charlson_comorbidity_index:std_sofa                            1.023867   \n",
       "gender:apsiii_strata:charlson_comorbidity_index                1.074842   \n",
       "gender:apsiii_strata:std_sofa                                  1.215138   \n",
       "gender:charlson_comorbidity_index:std_sofa                     1.023174   \n",
       "apsiii_strata:charlson_comorbidity_index:std_sofa              1.038127   \n",
       "gender:apsiii_strata:charlson_comorbidity_index...             1.049652   \n",
       "\n",
       "                                                    cmp to         z  \\\n",
       "covariate                                                              \n",
       "gender                                                 0.0 -0.208025   \n",
       "apsiii_strata                                          0.0  6.708769   \n",
       "charlson_comorbidity_index                             0.0  5.893469   \n",
       "std_sofa                                               0.0  3.029113   \n",
       "gender:apsiii_strata                                   0.0 -0.394370   \n",
       "gender:charlson_comorbidity_index                      0.0  0.613448   \n",
       "apsiii_strata:charlson_comorbidity_index               0.0 -3.189907   \n",
       "gender:std_sofa                                        0.0  1.132917   \n",
       "apsiii_strata:std_sofa                                 0.0 -2.169785   \n",
       "charlson_comorbidity_index:std_sofa                    0.0 -0.638676   \n",
       "gender:apsiii_strata:charlson_comorbidity_index        0.0 -0.098441   \n",
       "gender:apsiii_strata:std_sofa                          0.0 -0.411591   \n",
       "gender:charlson_comorbidity_index:std_sofa             0.0 -1.134820   \n",
       "apsiii_strata:charlson_comorbidity_index:std_sofa      0.0  1.204042   \n",
       "gender:apsiii_strata:charlson_comorbidity_index...     0.0  0.683792   \n",
       "\n",
       "                                                               p   -log2(p)  \n",
       "covariate                                                                    \n",
       "gender                                              8.352097e-01   0.259790  \n",
       "apsiii_strata                                       1.962726e-11  35.568351  \n",
       "charlson_comorbidity_index                          3.781702e-09  27.978317  \n",
       "std_sofa                                            2.452727e-03   8.671398  \n",
       "gender:apsiii_strata                                6.933078e-01   0.528432  \n",
       "gender:charlson_comorbidity_index                   5.395801e-01   0.890091  \n",
       "apsiii_strata:charlson_comorbidity_index            1.423188e-03   9.456658  \n",
       "gender:std_sofa                                     2.572492e-01   1.958761  \n",
       "apsiii_strata:std_sofa                              3.002311e-02   5.057783  \n",
       "charlson_comorbidity_index:std_sofa                 5.230339e-01   0.935024  \n",
       "gender:apsiii_strata:charlson_comorbidity_index     9.215819e-01   0.117816  \n",
       "gender:apsiii_strata:std_sofa                       6.806391e-01   0.555038  \n",
       "gender:charlson_comorbidity_index:std_sofa          2.564509e-01   1.963245  \n",
       "apsiii_strata:charlson_comorbidity_index:std_sofa   2.285732e-01   2.129272  \n",
       "gender:apsiii_strata:charlson_comorbidity_index...  4.941067e-01   1.017105  "
      ]
     },
     "execution_count": 152,
     "metadata": {},
     "output_type": "execute_result"
    }
   ],
   "source": [
    "cph_aj = CoxPHFitter()\n",
    "\n",
    "cph_aj.fit(\n",
    "    merged_copy[['gender', 'charlson_comorbidity_index', 'apsiii_strata', 'std_sofa', 'endpoint_28', 'censored_28']],\n",
    "    duration_col='endpoint_28',\n",
    "    event_col='censored_28',\n",
    "    formula=\"gender* apsiii_strata * charlson_comorbidity_index * std_sofa\"\n",
    ")\n",
    "cph_aj.summary"
   ]
  },
  {
   "cell_type": "code",
   "execution_count": 153,
   "id": "9f24d639-e20e-45b8-8b94-d5301a9e1bee",
   "metadata": {
    "tags": []
   },
   "outputs": [
    {
     "data": {
      "text/plain": [
       "covariate\n",
       "gender                                                      0.927869\n",
       "apsiii_strata                                               3.462411\n",
       "charlson_comorbidity_index                                  1.213546\n",
       "std_sofa                                                    1.484144\n",
       "gender:apsiii_strata                                        0.897732\n",
       "gender:charlson_comorbidity_index                           1.032019\n",
       "apsiii_strata:charlson_comorbidity_index                    0.923496\n",
       "gender:std_sofa                                             1.240228\n",
       "apsiii_strata:std_sofa                                      0.830107\n",
       "charlson_comorbidity_index:std_sofa                         0.988664\n",
       "gender:apsiii_strata:charlson_comorbidity_index             0.996191\n",
       "gender:apsiii_strata:std_sofa                               0.949521\n",
       "gender:charlson_comorbidity_index:std_sofa                  0.968983\n",
       "apsiii_strata:charlson_comorbidity_index:std_sofa           1.014341\n",
       "gender:apsiii_strata:charlson_comorbidity_index:std_sofa    1.012612\n",
       "Name: exp(coef), dtype: float64"
      ]
     },
     "execution_count": 153,
     "metadata": {},
     "output_type": "execute_result"
    }
   ],
   "source": [
    "cph_aj.hazard_ratios_"
   ]
  },
  {
   "cell_type": "code",
   "execution_count": 154,
   "id": "c5e9d8f8-8f8f-4fce-8187-5c720184f018",
   "metadata": {
    "tags": []
   },
   "outputs": [
    {
     "data": {
      "text/plain": [
       "baseline cumulative hazard    0.426041\n",
       "Name: 28.0, dtype: float64"
      ]
     },
     "execution_count": 154,
     "metadata": {},
     "output_type": "execute_result"
    }
   ],
   "source": [
    "cph_aj.baseline_cumulative_hazard_.iloc[-1,:]"
   ]
  },
  {
   "cell_type": "markdown",
   "id": "c5ad370f-bcfc-43af-88c3-42f26d45fdb5",
   "metadata": {
    "tags": []
   },
   "source": [
    "**This regression, although didn't pass the assumptions, showed relatively proportional trends in survival rate among men and women.**"
   ]
  },
  {
   "cell_type": "code",
   "execution_count": 155,
   "id": "5b55986c-293f-4ed9-a5e8-c1dbf56ac217",
   "metadata": {
    "tags": []
   },
   "outputs": [
    {
     "name": "stdout",
     "output_type": "stream",
     "text": [
      "The ``p_value_threshold`` is set at 0.05. Even under the null hypothesis of no violations, some\n",
      "covariates will be below the threshold by chance. This is compounded when there are many covariates.\n",
      "Similarly, when there are lots of observations, even minor deviances from the proportional hazard\n",
      "assumption will be flagged.\n",
      "\n",
      "With that in mind, it's best to use a combination of statistical tests and visual tests to determine\n",
      "the most serious violations. Produce visual plots using ``check_assumptions(..., show_plots=True)``\n",
      "and looking for non-constant lines. See link [A] below for a full example.\n",
      "\n"
     ]
    },
    {
     "data": {
      "text/html": [
       "<div>\n",
       "<style scoped>\n",
       "    .dataframe tbody tr th:only-of-type {\n",
       "        vertical-align: middle;\n",
       "    }\n",
       "\n",
       "    .dataframe tbody tr th {\n",
       "        vertical-align: top;\n",
       "    }\n",
       "\n",
       "    .dataframe thead th {\n",
       "        text-align: right;\n",
       "    }\n",
       "</style>\n",
       "<table border=\"1\" class=\"dataframe\">\n",
       "  <tbody>\n",
       "    <tr>\n",
       "      <th>null_distribution</th>\n",
       "      <td>chi squared</td>\n",
       "    </tr>\n",
       "    <tr>\n",
       "      <th>degrees_of_freedom</th>\n",
       "      <td>1</td>\n",
       "    </tr>\n",
       "    <tr>\n",
       "      <th>model</th>\n",
       "      <td>&lt;lifelines.CoxPHFitter: fitted with 8178 total...</td>\n",
       "    </tr>\n",
       "    <tr>\n",
       "      <th>test_name</th>\n",
       "      <td>proportional_hazard_test</td>\n",
       "    </tr>\n",
       "  </tbody>\n",
       "</table>\n",
       "</div><table border=\"1\" class=\"dataframe\">\n",
       "  <thead>\n",
       "    <tr style=\"text-align: right;\">\n",
       "      <th></th>\n",
       "      <th></th>\n",
       "      <th>test_statistic</th>\n",
       "      <th>p</th>\n",
       "      <th>-log2(p)</th>\n",
       "    </tr>\n",
       "  </thead>\n",
       "  <tbody>\n",
       "    <tr>\n",
       "      <th rowspan=\"2\" valign=\"top\">apsiii_strata</th>\n",
       "      <th>km</th>\n",
       "      <td>0.78</td>\n",
       "      <td>0.38</td>\n",
       "      <td>1.40</td>\n",
       "    </tr>\n",
       "    <tr>\n",
       "      <th>rank</th>\n",
       "      <td>0.85</td>\n",
       "      <td>0.36</td>\n",
       "      <td>1.49</td>\n",
       "    </tr>\n",
       "    <tr>\n",
       "      <th rowspan=\"2\" valign=\"top\">apsiii_strata:charlson_comorbidity_index</th>\n",
       "      <th>km</th>\n",
       "      <td>0.93</td>\n",
       "      <td>0.33</td>\n",
       "      <td>1.58</td>\n",
       "    </tr>\n",
       "    <tr>\n",
       "      <th>rank</th>\n",
       "      <td>0.97</td>\n",
       "      <td>0.32</td>\n",
       "      <td>1.62</td>\n",
       "    </tr>\n",
       "    <tr>\n",
       "      <th rowspan=\"2\" valign=\"top\">apsiii_strata:charlson_comorbidity_index:std_sofa</th>\n",
       "      <th>km</th>\n",
       "      <td>0.61</td>\n",
       "      <td>0.43</td>\n",
       "      <td>1.21</td>\n",
       "    </tr>\n",
       "    <tr>\n",
       "      <th>rank</th>\n",
       "      <td>0.69</td>\n",
       "      <td>0.41</td>\n",
       "      <td>1.30</td>\n",
       "    </tr>\n",
       "    <tr>\n",
       "      <th rowspan=\"2\" valign=\"top\">apsiii_strata:std_sofa</th>\n",
       "      <th>km</th>\n",
       "      <td>2.01</td>\n",
       "      <td>0.16</td>\n",
       "      <td>2.68</td>\n",
       "    </tr>\n",
       "    <tr>\n",
       "      <th>rank</th>\n",
       "      <td>2.17</td>\n",
       "      <td>0.14</td>\n",
       "      <td>2.82</td>\n",
       "    </tr>\n",
       "    <tr>\n",
       "      <th rowspan=\"2\" valign=\"top\">charlson_comorbidity_index</th>\n",
       "      <th>km</th>\n",
       "      <td>6.96</td>\n",
       "      <td>0.01</td>\n",
       "      <td>6.91</td>\n",
       "    </tr>\n",
       "    <tr>\n",
       "      <th>rank</th>\n",
       "      <td>7.25</td>\n",
       "      <td>0.01</td>\n",
       "      <td>7.14</td>\n",
       "    </tr>\n",
       "    <tr>\n",
       "      <th rowspan=\"2\" valign=\"top\">charlson_comorbidity_index:std_sofa</th>\n",
       "      <th>km</th>\n",
       "      <td>1.09</td>\n",
       "      <td>0.30</td>\n",
       "      <td>1.76</td>\n",
       "    </tr>\n",
       "    <tr>\n",
       "      <th>rank</th>\n",
       "      <td>1.22</td>\n",
       "      <td>0.27</td>\n",
       "      <td>1.90</td>\n",
       "    </tr>\n",
       "    <tr>\n",
       "      <th rowspan=\"2\" valign=\"top\">gender</th>\n",
       "      <th>km</th>\n",
       "      <td>0.49</td>\n",
       "      <td>0.48</td>\n",
       "      <td>1.05</td>\n",
       "    </tr>\n",
       "    <tr>\n",
       "      <th>rank</th>\n",
       "      <td>0.51</td>\n",
       "      <td>0.48</td>\n",
       "      <td>1.07</td>\n",
       "    </tr>\n",
       "    <tr>\n",
       "      <th rowspan=\"2\" valign=\"top\">gender:apsiii_strata</th>\n",
       "      <th>km</th>\n",
       "      <td>3.65</td>\n",
       "      <td>0.06</td>\n",
       "      <td>4.15</td>\n",
       "    </tr>\n",
       "    <tr>\n",
       "      <th>rank</th>\n",
       "      <td>3.73</td>\n",
       "      <td>0.05</td>\n",
       "      <td>4.23</td>\n",
       "    </tr>\n",
       "    <tr>\n",
       "      <th rowspan=\"2\" valign=\"top\">gender:apsiii_strata:charlson_comorbidity_index</th>\n",
       "      <th>km</th>\n",
       "      <td>4.45</td>\n",
       "      <td>0.03</td>\n",
       "      <td>4.84</td>\n",
       "    </tr>\n",
       "    <tr>\n",
       "      <th>rank</th>\n",
       "      <td>4.63</td>\n",
       "      <td>0.03</td>\n",
       "      <td>5.00</td>\n",
       "    </tr>\n",
       "    <tr>\n",
       "      <th rowspan=\"2\" valign=\"top\">gender:apsiii_strata:charlson_comorbidity_index:std_sofa</th>\n",
       "      <th>km</th>\n",
       "      <td>2.69</td>\n",
       "      <td>0.10</td>\n",
       "      <td>3.31</td>\n",
       "    </tr>\n",
       "    <tr>\n",
       "      <th>rank</th>\n",
       "      <td>2.86</td>\n",
       "      <td>0.09</td>\n",
       "      <td>3.46</td>\n",
       "    </tr>\n",
       "    <tr>\n",
       "      <th rowspan=\"2\" valign=\"top\">gender:apsiii_strata:std_sofa</th>\n",
       "      <th>km</th>\n",
       "      <td>2.54</td>\n",
       "      <td>0.11</td>\n",
       "      <td>3.17</td>\n",
       "    </tr>\n",
       "    <tr>\n",
       "      <th>rank</th>\n",
       "      <td>2.61</td>\n",
       "      <td>0.11</td>\n",
       "      <td>3.24</td>\n",
       "    </tr>\n",
       "    <tr>\n",
       "      <th rowspan=\"2\" valign=\"top\">gender:charlson_comorbidity_index</th>\n",
       "      <th>km</th>\n",
       "      <td>2.32</td>\n",
       "      <td>0.13</td>\n",
       "      <td>2.97</td>\n",
       "    </tr>\n",
       "    <tr>\n",
       "      <th>rank</th>\n",
       "      <td>2.45</td>\n",
       "      <td>0.12</td>\n",
       "      <td>3.09</td>\n",
       "    </tr>\n",
       "    <tr>\n",
       "      <th rowspan=\"2\" valign=\"top\">gender:charlson_comorbidity_index:std_sofa</th>\n",
       "      <th>km</th>\n",
       "      <td>1.30</td>\n",
       "      <td>0.25</td>\n",
       "      <td>1.98</td>\n",
       "    </tr>\n",
       "    <tr>\n",
       "      <th>rank</th>\n",
       "      <td>1.45</td>\n",
       "      <td>0.23</td>\n",
       "      <td>2.13</td>\n",
       "    </tr>\n",
       "    <tr>\n",
       "      <th rowspan=\"2\" valign=\"top\">gender:std_sofa</th>\n",
       "      <th>km</th>\n",
       "      <td>0.41</td>\n",
       "      <td>0.52</td>\n",
       "      <td>0.94</td>\n",
       "    </tr>\n",
       "    <tr>\n",
       "      <th>rank</th>\n",
       "      <td>0.44</td>\n",
       "      <td>0.51</td>\n",
       "      <td>0.98</td>\n",
       "    </tr>\n",
       "    <tr>\n",
       "      <th rowspan=\"2\" valign=\"top\">std_sofa</th>\n",
       "      <th>km</th>\n",
       "      <td>3.45</td>\n",
       "      <td>0.06</td>\n",
       "      <td>3.98</td>\n",
       "    </tr>\n",
       "    <tr>\n",
       "      <th>rank</th>\n",
       "      <td>3.57</td>\n",
       "      <td>0.06</td>\n",
       "      <td>4.09</td>\n",
       "    </tr>\n",
       "  </tbody>\n",
       "</table>"
      ],
      "text/latex": [
       "\\begin{tabular}{llrrr}\n",
       " &  & test_statistic & p & -log2(p) \\\\\n",
       "\\multirow[c]{2}{*}{apsiii_strata} & km & 0.78 & 0.38 & 1.40 \\\\\n",
       " & rank & 0.85 & 0.36 & 1.49 \\\\\n",
       "\\multirow[c]{2}{*}{apsiii_strata:charlson_comorbidity_index} & km & 0.93 & 0.33 & 1.58 \\\\\n",
       " & rank & 0.97 & 0.32 & 1.62 \\\\\n",
       "\\multirow[c]{2}{*}{apsiii_strata:charlson_comorbidity_index:std_sofa} & km & 0.61 & 0.43 & 1.21 \\\\\n",
       " & rank & 0.69 & 0.41 & 1.30 \\\\\n",
       "\\multirow[c]{2}{*}{apsiii_strata:std_sofa} & km & 2.01 & 0.16 & 2.68 \\\\\n",
       " & rank & 2.17 & 0.14 & 2.82 \\\\\n",
       "\\multirow[c]{2}{*}{charlson_comorbidity_index} & km & 6.96 & 0.01 & 6.91 \\\\\n",
       " & rank & 7.25 & 0.01 & 7.14 \\\\\n",
       "\\multirow[c]{2}{*}{charlson_comorbidity_index:std_sofa} & km & 1.09 & 0.30 & 1.76 \\\\\n",
       " & rank & 1.22 & 0.27 & 1.90 \\\\\n",
       "\\multirow[c]{2}{*}{gender} & km & 0.49 & 0.48 & 1.05 \\\\\n",
       " & rank & 0.51 & 0.48 & 1.07 \\\\\n",
       "\\multirow[c]{2}{*}{gender:apsiii_strata} & km & 3.65 & 0.06 & 4.15 \\\\\n",
       " & rank & 3.73 & 0.05 & 4.23 \\\\\n",
       "\\multirow[c]{2}{*}{gender:apsiii_strata:charlson_comorbidity_index} & km & 4.45 & 0.03 & 4.84 \\\\\n",
       " & rank & 4.63 & 0.03 & 5.00 \\\\\n",
       "\\multirow[c]{2}{*}{gender:apsiii_strata:charlson_comorbidity_index:std_sofa} & km & 2.69 & 0.10 & 3.31 \\\\\n",
       " & rank & 2.86 & 0.09 & 3.46 \\\\\n",
       "\\multirow[c]{2}{*}{gender:apsiii_strata:std_sofa} & km & 2.54 & 0.11 & 3.17 \\\\\n",
       " & rank & 2.61 & 0.11 & 3.24 \\\\\n",
       "\\multirow[c]{2}{*}{gender:charlson_comorbidity_index} & km & 2.32 & 0.13 & 2.97 \\\\\n",
       " & rank & 2.45 & 0.12 & 3.09 \\\\\n",
       "\\multirow[c]{2}{*}{gender:charlson_comorbidity_index:std_sofa} & km & 1.30 & 0.25 & 1.98 \\\\\n",
       " & rank & 1.45 & 0.23 & 2.13 \\\\\n",
       "\\multirow[c]{2}{*}{gender:std_sofa} & km & 0.41 & 0.52 & 0.94 \\\\\n",
       " & rank & 0.44 & 0.51 & 0.98 \\\\\n",
       "\\multirow[c]{2}{*}{std_sofa} & km & 3.45 & 0.06 & 3.98 \\\\\n",
       " & rank & 3.57 & 0.06 & 4.09 \\\\\n",
       "\\end{tabular}\n"
      ],
      "text/plain": [
       "<lifelines.StatisticalResult: proportional_hazard_test>\n",
       " null_distribution = chi squared\n",
       "degrees_of_freedom = 1\n",
       "             model = <lifelines.CoxPHFitter: fitted with 8178 total observations, 4963 right-censored observations>\n",
       "         test_name = proportional_hazard_test\n",
       "\n",
       "---\n",
       "                                                               test_statistic    p  -log2(p)\n",
       "apsiii_strata                                            km              0.78 0.38      1.40\n",
       "                                                         rank            0.85 0.36      1.49\n",
       "apsiii_strata:charlson_comorbidity_index                 km              0.93 0.33      1.58\n",
       "                                                         rank            0.97 0.32      1.62\n",
       "apsiii_strata:charlson_comorbidity_index:std_sofa        km              0.61 0.43      1.21\n",
       "                                                         rank            0.69 0.41      1.30\n",
       "apsiii_strata:std_sofa                                   km              2.01 0.16      2.68\n",
       "                                                         rank            2.17 0.14      2.82\n",
       "charlson_comorbidity_index                               km              6.96 0.01      6.91\n",
       "                                                         rank            7.25 0.01      7.14\n",
       "charlson_comorbidity_index:std_sofa                      km              1.09 0.30      1.76\n",
       "                                                         rank            1.22 0.27      1.90\n",
       "gender                                                   km              0.49 0.48      1.05\n",
       "                                                         rank            0.51 0.48      1.07\n",
       "gender:apsiii_strata                                     km              3.65 0.06      4.15\n",
       "                                                         rank            3.73 0.05      4.23\n",
       "gender:apsiii_strata:charlson_comorbidity_index          km              4.45 0.03      4.84\n",
       "                                                         rank            4.63 0.03      5.00\n",
       "gender:apsiii_strata:charlson_comorbidity_index:std_sofa km              2.69 0.10      3.31\n",
       "                                                         rank            2.86 0.09      3.46\n",
       "gender:apsiii_strata:std_sofa                            km              2.54 0.11      3.17\n",
       "                                                         rank            2.61 0.11      3.24\n",
       "gender:charlson_comorbidity_index                        km              2.32 0.13      2.97\n",
       "                                                         rank            2.45 0.12      3.09\n",
       "gender:charlson_comorbidity_index:std_sofa               km              1.30 0.25      1.98\n",
       "                                                         rank            1.45 0.23      2.13\n",
       "gender:std_sofa                                          km              0.41 0.52      0.94\n",
       "                                                         rank            0.44 0.51      0.98\n",
       "std_sofa                                                 km              3.45 0.06      3.98\n",
       "                                                         rank            3.57 0.06      4.09"
      ]
     },
     "metadata": {},
     "output_type": "display_data"
    },
    {
     "name": "stdout",
     "output_type": "stream",
     "text": [
      "\n",
      "\n",
      "1. Variable 'charlson_comorbidity_index' failed the non-proportional test: p-value is 0.0071.\n",
      "\n",
      "   Advice 1: the functional form of the variable 'charlson_comorbidity_index' might be incorrect.\n",
      "That is, there may be non-linear terms missing. The proportional hazard test used is very sensitive\n",
      "to incorrect functional forms. See documentation in link [D] below on how to specify a functional\n",
      "form.\n",
      "\n",
      "   Advice 2: try binning the variable 'charlson_comorbidity_index' using pd.cut, and then specify it\n",
      "in `strata=['charlson_comorbidity_index', ...]` in the call in `.fit`. See documentation in link [B]\n",
      "below.\n",
      "\n",
      "   Advice 3: try adding an interaction term with your time variable. See documentation in link [C]\n",
      "below.\n",
      "\n",
      "\n",
      "2. Variable 'gender:apsiii_strata' failed the non-proportional test: p-value is 0.0533.\n",
      "\n",
      "   Advice: with so few unique values (only 3), you can include `strata=['gender:apsiii_strata',\n",
      "...]` in the call in `.fit`. See documentation in link [E] below.\n",
      "\n",
      "3. Variable 'gender:apsiii_strata:charlson_comorbidity_index' failed the non-proportional test: p-value is 0.0314.\n",
      "\n",
      "   Advice 1: the functional form of the variable 'gender:apsiii_strata:charlson_comorbidity_index'\n",
      "might be incorrect. That is, there may be non-linear terms missing. The proportional hazard test\n",
      "used is very sensitive to incorrect functional forms. See documentation in link [D] below on how to\n",
      "specify a functional form.\n",
      "\n",
      "   Advice 2: try binning the variable 'gender:apsiii_strata:charlson_comorbidity_index' using\n",
      "pd.cut, and then specify it in `strata=['gender:apsiii_strata:charlson_comorbidity_index', ...]` in\n",
      "the call in `.fit`. See documentation in link [B] below.\n",
      "\n",
      "   Advice 3: try adding an interaction term with your time variable. See documentation in link [C]\n",
      "below.\n",
      "\n",
      "\n",
      "---\n",
      "[A]  https://lifelines.readthedocs.io/en/latest/jupyter_notebooks/Proportional%20hazard%20assumption.html\n",
      "[B]  https://lifelines.readthedocs.io/en/latest/jupyter_notebooks/Proportional%20hazard%20assumption.html#Bin-variable-and-stratify-on-it\n",
      "[C]  https://lifelines.readthedocs.io/en/latest/jupyter_notebooks/Proportional%20hazard%20assumption.html#Introduce-time-varying-covariates\n",
      "[D]  https://lifelines.readthedocs.io/en/latest/jupyter_notebooks/Proportional%20hazard%20assumption.html#Modify-the-functional-form\n",
      "[E]  https://lifelines.readthedocs.io/en/latest/jupyter_notebooks/Proportional%20hazard%20assumption.html#Stratification\n",
      "\n"
     ]
    },
    {
     "data": {
      "text/plain": [
       "[]"
      ]
     },
     "execution_count": 155,
     "metadata": {},
     "output_type": "execute_result"
    }
   ],
   "source": [
    "cph_aj.check_assumptions(merged_copy[['gender', 'charlson_comorbidity_index', 'apsiii_strata', 'std_sofa', 'endpoint_28', 'censored_28']]\n",
    "                      ,p_value_threshold=0.05)"
   ]
  },
  {
   "cell_type": "code",
   "execution_count": 157,
   "id": "ff139c29-ca21-477c-9276-a80688cebc76",
   "metadata": {
    "tags": []
   },
   "outputs": [
    {
     "data": {
      "image/png": "[encoded data removed]",
      "text/plain": [
       "<Figure size 640x480 with 1 Axes>"
      ]
     },
     "metadata": {},
     "output_type": "display_data"
    }
   ],
   "source": [
    "cph_aj.plot_partial_effects_on_outcome(covariates='gender', values=[0, 1], cmap='coolwarm')\n",
    "plt.title('Survival Curves by Gender')\n",
    "plt.xlim(0,28)\n",
    "plt.ylim(0,1)\n",
    "plt.legend(['Male (0)', 'Female (1)'], title=\"Gender\")\n",
    "plt.show()"
   ]
  },
  {
   "cell_type": "markdown",
   "id": "98c89b77-5e51-4fc4-964e-c44d03eb3442",
   "metadata": {},
   "source": [
    "## 28-days Cox Proportional Hazard Propensity - Score Matching "
   ]
  },
  {
   "cell_type": "markdown",
   "id": "ff9bd5af-5aa7-4e81-b45b-39c99f09d456",
   "metadata": {},
   "source": [
    "#### Method#1: Propensity Cohort Creation"
   ]
  },
  {
   "cell_type": "code",
   "execution_count": 159,
   "id": "fc37069f-6958-4f03-b7a8-5e46f567537b",
   "metadata": {
    "tags": []
   },
   "outputs": [
    {
     "data": {
      "text/html": [
       "<div>\n",
       "<style scoped>\n",
       "    .dataframe tbody tr th:only-of-type {\n",
       "        vertical-align: middle;\n",
       "    }\n",
       "\n",
       "    .dataframe tbody tr th {\n",
       "        vertical-align: top;\n",
       "    }\n",
       "\n",
       "    .dataframe thead th {\n",
       "        text-align: right;\n",
       "    }\n",
       "</style>\n",
       "<table border=\"1\" class=\"dataframe\">\n",
       "  <thead>\n",
       "    <tr style=\"text-align: right;\">\n",
       "      <th></th>\n",
       "      <th>coef</th>\n",
       "      <th>exp(coef)</th>\n",
       "      <th>se(coef)</th>\n",
       "      <th>coef lower 95%</th>\n",
       "      <th>coef upper 95%</th>\n",
       "      <th>exp(coef) lower 95%</th>\n",
       "      <th>exp(coef) upper 95%</th>\n",
       "      <th>cmp to</th>\n",
       "      <th>z</th>\n",
       "      <th>p</th>\n",
       "      <th>-log2(p)</th>\n",
       "    </tr>\n",
       "    <tr>\n",
       "      <th>covariate</th>\n",
       "      <th></th>\n",
       "      <th></th>\n",
       "      <th></th>\n",
       "      <th></th>\n",
       "      <th></th>\n",
       "      <th></th>\n",
       "      <th></th>\n",
       "      <th></th>\n",
       "      <th></th>\n",
       "      <th></th>\n",
       "      <th></th>\n",
       "    </tr>\n",
       "  </thead>\n",
       "  <tbody>\n",
       "    <tr>\n",
       "      <th>gender</th>\n",
       "      <td>0.072563</td>\n",
       "      <td>1.07526</td>\n",
       "      <td>0.037044</td>\n",
       "      <td>-0.000042</td>\n",
       "      <td>0.145167</td>\n",
       "      <td>0.999958</td>\n",
       "      <td>1.156233</td>\n",
       "      <td>0.0</td>\n",
       "      <td>1.958837</td>\n",
       "      <td>0.050132</td>\n",
       "      <td>4.318128</td>\n",
       "    </tr>\n",
       "  </tbody>\n",
       "</table>\n",
       "</div>"
      ],
      "text/plain": [
       "               coef  exp(coef)  se(coef)  coef lower 95%  coef upper 95%  \\\n",
       "covariate                                                                  \n",
       "gender     0.072563    1.07526  0.037044       -0.000042        0.145167   \n",
       "\n",
       "           exp(coef) lower 95%  exp(coef) upper 95%  cmp to         z  \\\n",
       "covariate                                                               \n",
       "gender                0.999958             1.156233     0.0  1.958837   \n",
       "\n",
       "                  p  -log2(p)  \n",
       "covariate                      \n",
       "gender     0.050132  4.318128  "
      ]
     },
     "execution_count": 159,
     "metadata": {},
     "output_type": "execute_result"
    }
   ],
   "source": [
    "cph_pm = CoxPHFitter()\n",
    "cph_pm.fit(matched_df[['gender','censored_28', 'endpoint_28']]\n",
    "           , duration_col='endpoint_28'\n",
    "           , event_col='censored_28')\n",
    "\n",
    "cph_pm.summary"
   ]
  },
  {
   "cell_type": "code",
   "execution_count": 160,
   "id": "479035e6-4b3b-4717-88e0-4efd1bf415e7",
   "metadata": {
    "tags": []
   },
   "outputs": [
    {
     "data": {
      "text/plain": [
       "covariate\n",
       "gender    1.07526\n",
       "Name: exp(coef), dtype: float64"
      ]
     },
     "execution_count": 160,
     "metadata": {},
     "output_type": "execute_result"
    }
   ],
   "source": [
    "cph_pm.hazard_ratios_"
   ]
  },
  {
   "cell_type": "code",
   "execution_count": 161,
   "id": "3e1255e2-2463-4804-b06f-ae3ae605c93d",
   "metadata": {
    "tags": []
   },
   "outputs": [
    {
     "data": {
      "text/plain": [
       "baseline cumulative hazard    0.483603\n",
       "Name: 28.0, dtype: float64"
      ]
     },
     "execution_count": 161,
     "metadata": {},
     "output_type": "execute_result"
    }
   ],
   "source": [
    "cph_pm.baseline_cumulative_hazard_.iloc[-1,:]"
   ]
  },
  {
   "cell_type": "markdown",
   "id": "3b7eebce-d256-4bc6-9e0f-90a447350fe6",
   "metadata": {
    "tags": []
   },
   "source": [
    "**This regression, although didn't pass the assumptions, showed relatively proportional trends in survival rate among men and women.**"
   ]
  },
  {
   "cell_type": "code",
   "execution_count": 165,
   "id": "89048e9c-5856-4c2c-bbbe-170d79406d3c",
   "metadata": {
    "tags": []
   },
   "outputs": [
    {
     "name": "stdout",
     "output_type": "stream",
     "text": [
      "The ``p_value_threshold`` is set at 0.05. Even under the null hypothesis of no violations, some\n",
      "covariates will be below the threshold by chance. This is compounded when there are many covariates.\n",
      "Similarly, when there are lots of observations, even minor deviances from the proportional hazard\n",
      "assumption will be flagged.\n",
      "\n",
      "With that in mind, it's best to use a combination of statistical tests and visual tests to determine\n",
      "the most serious violations. Produce visual plots using ``check_assumptions(..., show_plots=True)``\n",
      "and looking for non-constant lines. See link [A] below for a full example.\n",
      "\n"
     ]
    },
    {
     "data": {
      "text/html": [
       "<div>\n",
       "<style scoped>\n",
       "    .dataframe tbody tr th:only-of-type {\n",
       "        vertical-align: middle;\n",
       "    }\n",
       "\n",
       "    .dataframe tbody tr th {\n",
       "        vertical-align: top;\n",
       "    }\n",
       "\n",
       "    .dataframe thead th {\n",
       "        text-align: right;\n",
       "    }\n",
       "</style>\n",
       "<table border=\"1\" class=\"dataframe\">\n",
       "  <tbody>\n",
       "    <tr>\n",
       "      <th>null_distribution</th>\n",
       "      <td>chi squared</td>\n",
       "    </tr>\n",
       "    <tr>\n",
       "      <th>degrees_of_freedom</th>\n",
       "      <td>1</td>\n",
       "    </tr>\n",
       "    <tr>\n",
       "      <th>model</th>\n",
       "      <td>&lt;lifelines.CoxPHFitter: fitted with 7534 total...</td>\n",
       "    </tr>\n",
       "    <tr>\n",
       "      <th>test_name</th>\n",
       "      <td>proportional_hazard_test</td>\n",
       "    </tr>\n",
       "  </tbody>\n",
       "</table>\n",
       "</div><table border=\"1\" class=\"dataframe\">\n",
       "  <thead>\n",
       "    <tr style=\"text-align: right;\">\n",
       "      <th></th>\n",
       "      <th></th>\n",
       "      <th>test_statistic</th>\n",
       "      <th>p</th>\n",
       "      <th>-log2(p)</th>\n",
       "    </tr>\n",
       "  </thead>\n",
       "  <tbody>\n",
       "    <tr>\n",
       "      <th rowspan=\"2\" valign=\"top\">gender</th>\n",
       "      <th>km</th>\n",
       "      <td>1.19</td>\n",
       "      <td>0.27</td>\n",
       "      <td>1.86</td>\n",
       "    </tr>\n",
       "    <tr>\n",
       "      <th>rank</th>\n",
       "      <td>13.48</td>\n",
       "      <td>&lt;0.005</td>\n",
       "      <td>12.02</td>\n",
       "    </tr>\n",
       "  </tbody>\n",
       "</table>"
      ],
      "text/latex": [
       "\\begin{tabular}{llrrr}\n",
       " &  & test_statistic & p & -log2(p) \\\\\n",
       "\\multirow[c]{2}{*}{gender} & km & 1.19 & 0.27 & 1.86 \\\\\n",
       " & rank & 13.48 & 0.00 & 12.02 \\\\\n",
       "\\end{tabular}\n"
      ],
      "text/plain": [
       "<lifelines.StatisticalResult: proportional_hazard_test>\n",
       " null_distribution = chi squared\n",
       "degrees_of_freedom = 1\n",
       "             model = <lifelines.CoxPHFitter: fitted with 7534 total observations, 4617 right-censored observations>\n",
       "         test_name = proportional_hazard_test\n",
       "\n",
       "---\n",
       "             test_statistic      p  -log2(p)\n",
       "gender km              1.19   0.27      1.86\n",
       "       rank           13.48 <0.005     12.02"
      ]
     },
     "metadata": {},
     "output_type": "display_data"
    },
    {
     "name": "stdout",
     "output_type": "stream",
     "text": [
      "\n",
      "\n",
      "1. Variable 'gender' failed the non-proportional test: p-value is 0.0002.\n",
      "\n",
      "   Advice: with so few unique values (only 2), you can include `strata=['gender', ...]` in the call\n",
      "in `.fit`. See documentation in link [E] below.\n",
      "\n",
      "---\n",
      "[A]  https://lifelines.readthedocs.io/en/latest/jupyter_notebooks/Proportional%20hazard%20assumption.html\n",
      "[B]  https://lifelines.readthedocs.io/en/latest/jupyter_notebooks/Proportional%20hazard%20assumption.html#Bin-variable-and-stratify-on-it\n",
      "[C]  https://lifelines.readthedocs.io/en/latest/jupyter_notebooks/Proportional%20hazard%20assumption.html#Introduce-time-varying-covariates\n",
      "[D]  https://lifelines.readthedocs.io/en/latest/jupyter_notebooks/Proportional%20hazard%20assumption.html#Modify-the-functional-form\n",
      "[E]  https://lifelines.readthedocs.io/en/latest/jupyter_notebooks/Proportional%20hazard%20assumption.html#Stratification\n",
      "\n"
     ]
    },
    {
     "data": {
      "text/plain": [
       "[]"
      ]
     },
     "execution_count": 165,
     "metadata": {},
     "output_type": "execute_result"
    }
   ],
   "source": [
    "cph_pm.check_assumptions(matched_df[['gender','censored_28', 'endpoint_28']]\n",
    "                          ,p_value_threshold=0.05)"
   ]
  },
  {
   "cell_type": "code",
   "execution_count": 163,
   "id": "af19bff9-86d9-42da-a796-82682c58c782",
   "metadata": {
    "tags": []
   },
   "outputs": [
    {
     "data": {
      "image/png": "[encoded data removed]",
      "text/plain": [
       "<Figure size 640x480 with 1 Axes>"
      ]
     },
     "metadata": {},
     "output_type": "display_data"
    }
   ],
   "source": [
    "cph_pm.plot_partial_effects_on_outcome(covariates='gender', values=[0, 1], cmap='coolwarm')\n",
    "plt.title('Survival Curves by Gender')\n",
    "plt.xlim(0,28)\n",
    "plt.ylim(0,1)\n",
    "plt.legend(['Male (0)', 'Female (1)'], title=\"Gender\")\n",
    "plt.show()"
   ]
  },
  {
   "cell_type": "markdown",
   "id": "786023b1-d59b-447f-bf4e-f77fcd458ee3",
   "metadata": {},
   "source": [
    "#### Method#2: Propensity Score Creation"
   ]
  },
  {
   "cell_type": "code",
   "execution_count": 166,
   "id": "08f8d266-e191-4273-8d11-005423992f82",
   "metadata": {
    "tags": []
   },
   "outputs": [
    {
     "data": {
      "text/html": [
       "<div>\n",
       "<style scoped>\n",
       "    .dataframe tbody tr th:only-of-type {\n",
       "        vertical-align: middle;\n",
       "    }\n",
       "\n",
       "    .dataframe tbody tr th {\n",
       "        vertical-align: top;\n",
       "    }\n",
       "\n",
       "    .dataframe thead th {\n",
       "        text-align: right;\n",
       "    }\n",
       "</style>\n",
       "<table border=\"1\" class=\"dataframe\">\n",
       "  <thead>\n",
       "    <tr style=\"text-align: right;\">\n",
       "      <th></th>\n",
       "      <th>coef</th>\n",
       "      <th>exp(coef)</th>\n",
       "      <th>se(coef)</th>\n",
       "      <th>coef lower 95%</th>\n",
       "      <th>coef upper 95%</th>\n",
       "      <th>exp(coef) lower 95%</th>\n",
       "      <th>exp(coef) upper 95%</th>\n",
       "      <th>cmp to</th>\n",
       "      <th>z</th>\n",
       "      <th>p</th>\n",
       "      <th>-log2(p)</th>\n",
       "    </tr>\n",
       "    <tr>\n",
       "      <th>covariate</th>\n",
       "      <th></th>\n",
       "      <th></th>\n",
       "      <th></th>\n",
       "      <th></th>\n",
       "      <th></th>\n",
       "      <th></th>\n",
       "      <th></th>\n",
       "      <th></th>\n",
       "      <th></th>\n",
       "      <th></th>\n",
       "      <th></th>\n",
       "    </tr>\n",
       "  </thead>\n",
       "  <tbody>\n",
       "    <tr>\n",
       "      <th>gender</th>\n",
       "      <td>0.084126</td>\n",
       "      <td>1.087766</td>\n",
       "      <td>0.035704</td>\n",
       "      <td>0.014147</td>\n",
       "      <td>0.154104</td>\n",
       "      <td>1.014247</td>\n",
       "      <td>1.166613</td>\n",
       "      <td>0.0</td>\n",
       "      <td>2.356188</td>\n",
       "      <td>1.846358e-02</td>\n",
       "      <td>5.759174</td>\n",
       "    </tr>\n",
       "    <tr>\n",
       "      <th>propensity_score</th>\n",
       "      <td>-2.503025</td>\n",
       "      <td>0.081837</td>\n",
       "      <td>0.240921</td>\n",
       "      <td>-2.975222</td>\n",
       "      <td>-2.030828</td>\n",
       "      <td>0.051036</td>\n",
       "      <td>0.131227</td>\n",
       "      <td>0.0</td>\n",
       "      <td>-10.389386</td>\n",
       "      <td>2.771318e-25</td>\n",
       "      <td>81.577630</td>\n",
       "    </tr>\n",
       "  </tbody>\n",
       "</table>\n",
       "</div>"
      ],
      "text/plain": [
       "                      coef  exp(coef)  se(coef)  coef lower 95%  \\\n",
       "covariate                                                         \n",
       "gender            0.084126   1.087766  0.035704        0.014147   \n",
       "propensity_score -2.503025   0.081837  0.240921       -2.975222   \n",
       "\n",
       "                  coef upper 95%  exp(coef) lower 95%  exp(coef) upper 95%  \\\n",
       "covariate                                                                    \n",
       "gender                  0.154104             1.014247             1.166613   \n",
       "propensity_score       -2.030828             0.051036             0.131227   \n",
       "\n",
       "                  cmp to          z             p   -log2(p)  \n",
       "covariate                                                     \n",
       "gender               0.0   2.356188  1.846358e-02   5.759174  \n",
       "propensity_score     0.0 -10.389386  2.771318e-25  81.577630  "
      ]
     },
     "execution_count": 166,
     "metadata": {},
     "output_type": "execute_result"
    }
   ],
   "source": [
    "cph_pm1 = CoxPHFitter()\n",
    "cph_pm1.fit(\n",
    "    matched_pairs[['gender', 'propensity_score', 'endpoint_28', 'censored_28']],\n",
    "    duration_col='endpoint_28',\n",
    "    event_col='censored_28'\n",
    ")\n",
    "\n",
    "# Display the summary of the model\n",
    "cph_pm1.summary"
   ]
  },
  {
   "cell_type": "code",
   "execution_count": 167,
   "id": "38bb9f96-11ec-4ae5-a774-f794be75171c",
   "metadata": {
    "tags": []
   },
   "outputs": [
    {
     "data": {
      "text/plain": [
       "covariate\n",
       "gender              1.087766\n",
       "propensity_score    0.081837\n",
       "Name: exp(coef), dtype: float64"
      ]
     },
     "execution_count": 167,
     "metadata": {},
     "output_type": "execute_result"
    }
   ],
   "source": [
    "cph_pm1.hazard_ratios_"
   ]
  },
  {
   "cell_type": "code",
   "execution_count": 168,
   "id": "158e924c-c590-43af-96d0-88161e2f83be",
   "metadata": {
    "tags": []
   },
   "outputs": [
    {
     "data": {
      "text/plain": [
       "baseline cumulative hazard    0.489277\n",
       "Name: 28.0, dtype: float64"
      ]
     },
     "execution_count": 168,
     "metadata": {},
     "output_type": "execute_result"
    }
   ],
   "source": [
    "cph_pm1.baseline_cumulative_hazard_.iloc[-1,:]"
   ]
  },
  {
   "cell_type": "code",
   "execution_count": 169,
   "id": "cbfb3d3d-6082-45a5-88bb-20d54ed8c95b",
   "metadata": {
    "tags": []
   },
   "outputs": [
    {
     "name": "stdout",
     "output_type": "stream",
     "text": [
      "Proportional hazard assumption looks okay.\n"
     ]
    },
    {
     "data": {
      "text/plain": [
       "[]"
      ]
     },
     "execution_count": 169,
     "metadata": {},
     "output_type": "execute_result"
    }
   ],
   "source": [
    "cph_pm1.check_assumptions(matched_pairs[['gender','propensity_score','censored_28', 'endpoint_28']]\n",
    "                          ,p_value_threshold=0.05)"
   ]
  },
  {
   "cell_type": "markdown",
   "id": "d506407e-9626-42be-8d3b-176f2f1ce4e5",
   "metadata": {},
   "source": [
    "# Subgroup Analysis"
   ]
  },
  {
   "cell_type": "markdown",
   "id": "a4f72099-bbdd-46da-a8fb-2c0c29054f99",
   "metadata": {},
   "source": [
    "### Subgroup One: age"
   ]
  },
  {
   "cell_type": "code",
   "execution_count": 172,
   "id": "c8ce16ba-253b-4f48-ab70-1a47a3dfd5c8",
   "metadata": {},
   "outputs": [
    {
     "data": {
      "text/plain": [
       "69.0"
      ]
     },
     "execution_count": 172,
     "metadata": {},
     "output_type": "execute_result"
    }
   ],
   "source": [
    "merged_df['age'].median()"
   ]
  },
  {
   "cell_type": "code",
   "execution_count": 173,
   "id": "9529f132-5310-47f2-b238-72e7d409df1d",
   "metadata": {
    "tags": []
   },
   "outputs": [],
   "source": [
    "merged_copy['subgroup_69plus'] = (merged_copy['age'] > 69).astype(int)\n",
    "older_subgroup = merged_copy[merged_copy['subgroup_69plus'] == 1]\n",
    "younger_subgroup = merged_copy[merged_copy['subgroup_69plus'] == 0]"
   ]
  },
  {
   "cell_type": "markdown",
   "id": "3d79a3a2-5a5c-4028-92f6-0fa8897bc011",
   "metadata": {},
   "source": [
    "#### Subgroup One | One Year Endpoint"
   ]
  },
  {
   "cell_type": "code",
   "execution_count": 174,
   "id": "0f679e69-3422-4ec3-ae14-a448e7371e4d",
   "metadata": {
    "tags": []
   },
   "outputs": [
    {
     "data": {
      "text/plain": [
       "covariate\n",
       "gender    1.060633\n",
       "Name: exp(coef), dtype: float64"
      ]
     },
     "execution_count": 174,
     "metadata": {},
     "output_type": "execute_result"
    }
   ],
   "source": [
    "cph_sg1_o = CoxPHFitter()\n",
    "cph_sg1_o.fit(\n",
    "    older_subgroup[['gender','endpoint_365', 'censored_365']],\n",
    "    duration_col='endpoint_365',\n",
    "    event_col='censored_365',\n",
    ")\n",
    "cph_sg1_o.hazard_ratios_"
   ]
  },
  {
   "cell_type": "code",
   "execution_count": 175,
   "id": "32b45199-36c5-40ea-96ff-fa094e30bd44",
   "metadata": {
    "tags": []
   },
   "outputs": [
    {
     "data": {
      "text/html": [
       "<div>\n",
       "<style scoped>\n",
       "    .dataframe tbody tr th:only-of-type {\n",
       "        vertical-align: middle;\n",
       "    }\n",
       "\n",
       "    .dataframe tbody tr th {\n",
       "        vertical-align: top;\n",
       "    }\n",
       "\n",
       "    .dataframe thead th {\n",
       "        text-align: right;\n",
       "    }\n",
       "</style>\n",
       "<table border=\"1\" class=\"dataframe\">\n",
       "  <thead>\n",
       "    <tr style=\"text-align: right;\">\n",
       "      <th></th>\n",
       "      <th>coef</th>\n",
       "      <th>exp(coef)</th>\n",
       "      <th>se(coef)</th>\n",
       "      <th>coef lower 95%</th>\n",
       "      <th>coef upper 95%</th>\n",
       "      <th>exp(coef) lower 95%</th>\n",
       "      <th>exp(coef) upper 95%</th>\n",
       "      <th>cmp to</th>\n",
       "      <th>z</th>\n",
       "      <th>p</th>\n",
       "      <th>-log2(p)</th>\n",
       "    </tr>\n",
       "    <tr>\n",
       "      <th>covariate</th>\n",
       "      <th></th>\n",
       "      <th></th>\n",
       "      <th></th>\n",
       "      <th></th>\n",
       "      <th></th>\n",
       "      <th></th>\n",
       "      <th></th>\n",
       "      <th></th>\n",
       "      <th></th>\n",
       "      <th></th>\n",
       "      <th></th>\n",
       "    </tr>\n",
       "  </thead>\n",
       "  <tbody>\n",
       "    <tr>\n",
       "      <th>gender</th>\n",
       "      <td>0.058866</td>\n",
       "      <td>1.060633</td>\n",
       "      <td>0.039521</td>\n",
       "      <td>-0.018593</td>\n",
       "      <td>0.136325</td>\n",
       "      <td>0.981578</td>\n",
       "      <td>1.146054</td>\n",
       "      <td>0.0</td>\n",
       "      <td>1.489494</td>\n",
       "      <td>0.136357</td>\n",
       "      <td>2.874535</td>\n",
       "    </tr>\n",
       "  </tbody>\n",
       "</table>\n",
       "</div>"
      ],
      "text/plain": [
       "               coef  exp(coef)  se(coef)  coef lower 95%  coef upper 95%  \\\n",
       "covariate                                                                  \n",
       "gender     0.058866   1.060633  0.039521       -0.018593        0.136325   \n",
       "\n",
       "           exp(coef) lower 95%  exp(coef) upper 95%  cmp to         z  \\\n",
       "covariate                                                               \n",
       "gender                0.981578             1.146054     0.0  1.489494   \n",
       "\n",
       "                  p  -log2(p)  \n",
       "covariate                      \n",
       "gender     0.136357  2.874535  "
      ]
     },
     "execution_count": 175,
     "metadata": {},
     "output_type": "execute_result"
    }
   ],
   "source": [
    "cph_sg1_o.summary"
   ]
  },
  {
   "cell_type": "code",
   "execution_count": 176,
   "id": "ed7bf88a-11b7-47a8-b945-cc0bf317bf61",
   "metadata": {
    "tags": []
   },
   "outputs": [
    {
     "data": {
      "text/plain": [
       "baseline cumulative hazard    0.98355\n",
       "Name: 365.0, dtype: float64"
      ]
     },
     "execution_count": 176,
     "metadata": {},
     "output_type": "execute_result"
    }
   ],
   "source": [
    "cph_sg1_o.baseline_cumulative_hazard_.iloc[-1,:]"
   ]
  },
  {
   "cell_type": "code",
   "execution_count": 177,
   "id": "0431e364-baef-4297-a46f-58c724916c74",
   "metadata": {
    "tags": []
   },
   "outputs": [
    {
     "name": "stdout",
     "output_type": "stream",
     "text": [
      "Proportional hazard assumption looks okay.\n"
     ]
    },
    {
     "data": {
      "text/plain": [
       "[]"
      ]
     },
     "execution_count": 177,
     "metadata": {},
     "output_type": "execute_result"
    }
   ],
   "source": [
    "cph_sg1_o.check_assumptions(older_subgroup[['gender','censored_365', 'endpoint_365']]\n",
    "                          ,p_value_threshold=0.05)"
   ]
  },
  {
   "cell_type": "code",
   "execution_count": 178,
   "id": "4ef3e146-26f1-4a12-8d3a-f98170b95c8b",
   "metadata": {
    "tags": []
   },
   "outputs": [
    {
     "data": {
      "text/plain": [
       "covariate\n",
       "gender    0.930705\n",
       "Name: exp(coef), dtype: float64"
      ]
     },
     "execution_count": 178,
     "metadata": {},
     "output_type": "execute_result"
    }
   ],
   "source": [
    "cph_sg1_y = CoxPHFitter()\n",
    "cph_sg1_y.fit(\n",
    "    younger_subgroup[['gender','endpoint_365', 'censored_365']],\n",
    "    duration_col='endpoint_365',\n",
    "    event_col='censored_365',\n",
    ")\n",
    "cph_sg1_y.hazard_ratios_"
   ]
  },
  {
   "cell_type": "code",
   "execution_count": 179,
   "id": "286ca410-dc7f-44c5-bc84-608f4d484686",
   "metadata": {
    "tags": []
   },
   "outputs": [
    {
     "data": {
      "text/html": [
       "<div>\n",
       "<style scoped>\n",
       "    .dataframe tbody tr th:only-of-type {\n",
       "        vertical-align: middle;\n",
       "    }\n",
       "\n",
       "    .dataframe tbody tr th {\n",
       "        vertical-align: top;\n",
       "    }\n",
       "\n",
       "    .dataframe thead th {\n",
       "        text-align: right;\n",
       "    }\n",
       "</style>\n",
       "<table border=\"1\" class=\"dataframe\">\n",
       "  <thead>\n",
       "    <tr style=\"text-align: right;\">\n",
       "      <th></th>\n",
       "      <th>coef</th>\n",
       "      <th>exp(coef)</th>\n",
       "      <th>se(coef)</th>\n",
       "      <th>coef lower 95%</th>\n",
       "      <th>coef upper 95%</th>\n",
       "      <th>exp(coef) lower 95%</th>\n",
       "      <th>exp(coef) upper 95%</th>\n",
       "      <th>cmp to</th>\n",
       "      <th>z</th>\n",
       "      <th>p</th>\n",
       "      <th>-log2(p)</th>\n",
       "    </tr>\n",
       "    <tr>\n",
       "      <th>covariate</th>\n",
       "      <th></th>\n",
       "      <th></th>\n",
       "      <th></th>\n",
       "      <th></th>\n",
       "      <th></th>\n",
       "      <th></th>\n",
       "      <th></th>\n",
       "      <th></th>\n",
       "      <th></th>\n",
       "      <th></th>\n",
       "      <th></th>\n",
       "    </tr>\n",
       "  </thead>\n",
       "  <tbody>\n",
       "    <tr>\n",
       "      <th>gender</th>\n",
       "      <td>-0.071813</td>\n",
       "      <td>0.930705</td>\n",
       "      <td>0.046419</td>\n",
       "      <td>-0.162792</td>\n",
       "      <td>0.019167</td>\n",
       "      <td>0.849768</td>\n",
       "      <td>1.019351</td>\n",
       "      <td>0.0</td>\n",
       "      <td>-1.547059</td>\n",
       "      <td>0.121849</td>\n",
       "      <td>3.036834</td>\n",
       "    </tr>\n",
       "  </tbody>\n",
       "</table>\n",
       "</div>"
      ],
      "text/plain": [
       "               coef  exp(coef)  se(coef)  coef lower 95%  coef upper 95%  \\\n",
       "covariate                                                                  \n",
       "gender    -0.071813   0.930705  0.046419       -0.162792        0.019167   \n",
       "\n",
       "           exp(coef) lower 95%  exp(coef) upper 95%  cmp to         z  \\\n",
       "covariate                                                               \n",
       "gender                0.849768             1.019351     0.0 -1.547059   \n",
       "\n",
       "                  p  -log2(p)  \n",
       "covariate                      \n",
       "gender     0.121849  3.036834  "
      ]
     },
     "execution_count": 179,
     "metadata": {},
     "output_type": "execute_result"
    }
   ],
   "source": [
    "cph_sg1_y.summary"
   ]
  },
  {
   "cell_type": "code",
   "execution_count": 180,
   "id": "96bc81a3-81e6-401d-9dd5-b33f091a4021",
   "metadata": {
    "tags": []
   },
   "outputs": [
    {
     "data": {
      "text/plain": [
       "baseline cumulative hazard    0.61685\n",
       "Name: 365.0, dtype: float64"
      ]
     },
     "execution_count": 180,
     "metadata": {},
     "output_type": "execute_result"
    }
   ],
   "source": [
    "cph_sg1_y.baseline_cumulative_hazard_.iloc[-1,:]"
   ]
  },
  {
   "cell_type": "code",
   "execution_count": 181,
   "id": "c29420e8-74c1-4afd-9ebf-5c998c3f17e2",
   "metadata": {
    "tags": []
   },
   "outputs": [
    {
     "name": "stdout",
     "output_type": "stream",
     "text": [
      "Proportional hazard assumption looks okay.\n"
     ]
    },
    {
     "data": {
      "text/plain": [
       "[]"
      ]
     },
     "execution_count": 181,
     "metadata": {},
     "output_type": "execute_result"
    }
   ],
   "source": [
    "cph_sg1_y.check_assumptions(younger_subgroup[['gender','censored_365', 'endpoint_365']]\n",
    "                          ,p_value_threshold=0.05)"
   ]
  },
  {
   "cell_type": "markdown",
   "id": "6e3fb637-6bac-4e7c-8fbe-c95eac898d9a",
   "metadata": {},
   "source": [
    "#### Subgroup One | 28-days Endpoint"
   ]
  },
  {
   "cell_type": "code",
   "execution_count": 182,
   "id": "244851c5-b432-4967-91f5-e6341597e2a3",
   "metadata": {
    "tags": []
   },
   "outputs": [
    {
     "data": {
      "text/plain": [
       "covariate\n",
       "gender    1.061018\n",
       "Name: exp(coef), dtype: float64"
      ]
     },
     "execution_count": 182,
     "metadata": {},
     "output_type": "execute_result"
    }
   ],
   "source": [
    "cph_sg1_o.fit(\n",
    "    older_subgroup[['gender','endpoint_28', 'censored_28']],\n",
    "    duration_col='endpoint_28',\n",
    "    event_col='censored_28',\n",
    ")\n",
    "cph_sg1_o.hazard_ratios_"
   ]
  },
  {
   "cell_type": "code",
   "execution_count": 183,
   "id": "f1fcbf18-35dd-4ec6-bf60-094f8331b3bf",
   "metadata": {
    "tags": []
   },
   "outputs": [
    {
     "data": {
      "text/html": [
       "<div>\n",
       "<style scoped>\n",
       "    .dataframe tbody tr th:only-of-type {\n",
       "        vertical-align: middle;\n",
       "    }\n",
       "\n",
       "    .dataframe tbody tr th {\n",
       "        vertical-align: top;\n",
       "    }\n",
       "\n",
       "    .dataframe thead th {\n",
       "        text-align: right;\n",
       "    }\n",
       "</style>\n",
       "<table border=\"1\" class=\"dataframe\">\n",
       "  <thead>\n",
       "    <tr style=\"text-align: right;\">\n",
       "      <th></th>\n",
       "      <th>coef</th>\n",
       "      <th>exp(coef)</th>\n",
       "      <th>se(coef)</th>\n",
       "      <th>coef lower 95%</th>\n",
       "      <th>coef upper 95%</th>\n",
       "      <th>exp(coef) lower 95%</th>\n",
       "      <th>exp(coef) upper 95%</th>\n",
       "      <th>cmp to</th>\n",
       "      <th>z</th>\n",
       "      <th>p</th>\n",
       "      <th>-log2(p)</th>\n",
       "    </tr>\n",
       "    <tr>\n",
       "      <th>covariate</th>\n",
       "      <th></th>\n",
       "      <th></th>\n",
       "      <th></th>\n",
       "      <th></th>\n",
       "      <th></th>\n",
       "      <th></th>\n",
       "      <th></th>\n",
       "      <th></th>\n",
       "      <th></th>\n",
       "      <th></th>\n",
       "      <th></th>\n",
       "    </tr>\n",
       "  </thead>\n",
       "  <tbody>\n",
       "    <tr>\n",
       "      <th>gender</th>\n",
       "      <td>0.059229</td>\n",
       "      <td>1.061018</td>\n",
       "      <td>0.04647</td>\n",
       "      <td>-0.03185</td>\n",
       "      <td>0.150308</td>\n",
       "      <td>0.968652</td>\n",
       "      <td>1.162192</td>\n",
       "      <td>0.0</td>\n",
       "      <td>1.274565</td>\n",
       "      <td>0.202463</td>\n",
       "      <td>2.304268</td>\n",
       "    </tr>\n",
       "  </tbody>\n",
       "</table>\n",
       "</div>"
      ],
      "text/plain": [
       "               coef  exp(coef)  se(coef)  coef lower 95%  coef upper 95%  \\\n",
       "covariate                                                                  \n",
       "gender     0.059229   1.061018   0.04647        -0.03185        0.150308   \n",
       "\n",
       "           exp(coef) lower 95%  exp(coef) upper 95%  cmp to         z  \\\n",
       "covariate                                                               \n",
       "gender                0.968652             1.162192     0.0  1.274565   \n",
       "\n",
       "                  p  -log2(p)  \n",
       "covariate                      \n",
       "gender     0.202463  2.304268  "
      ]
     },
     "execution_count": 183,
     "metadata": {},
     "output_type": "execute_result"
    }
   ],
   "source": [
    "cph_sg1_o.summary"
   ]
  },
  {
   "cell_type": "code",
   "execution_count": 184,
   "id": "e9c4b277-d219-4feb-b804-7228c2618999",
   "metadata": {
    "tags": []
   },
   "outputs": [
    {
     "data": {
      "text/plain": [
       "baseline cumulative hazard    0.598633\n",
       "Name: 28.0, dtype: float64"
      ]
     },
     "execution_count": 184,
     "metadata": {},
     "output_type": "execute_result"
    }
   ],
   "source": [
    "cph_sg1_o.baseline_cumulative_hazard_.iloc[-1,:]"
   ]
  },
  {
   "cell_type": "markdown",
   "id": "cd759ecb-e1a0-4aea-b24a-ebf3af9549a0",
   "metadata": {},
   "source": [
    "**This regression, although didn't pass the assumptions, showed relatively proportional trends in survival rate among men and women.**"
   ]
  },
  {
   "cell_type": "code",
   "execution_count": 185,
   "id": "5a4a0141-65ce-4b27-96f2-eb44cbba9b10",
   "metadata": {
    "tags": []
   },
   "outputs": [
    {
     "name": "stdout",
     "output_type": "stream",
     "text": [
      "The ``p_value_threshold`` is set at 0.05. Even under the null hypothesis of no violations, some\n",
      "covariates will be below the threshold by chance. This is compounded when there are many covariates.\n",
      "Similarly, when there are lots of observations, even minor deviances from the proportional hazard\n",
      "assumption will be flagged.\n",
      "\n",
      "With that in mind, it's best to use a combination of statistical tests and visual tests to determine\n",
      "the most serious violations. Produce visual plots using ``check_assumptions(..., show_plots=True)``\n",
      "and looking for non-constant lines. See link [A] below for a full example.\n",
      "\n"
     ]
    },
    {
     "data": {
      "text/html": [
       "<div>\n",
       "<style scoped>\n",
       "    .dataframe tbody tr th:only-of-type {\n",
       "        vertical-align: middle;\n",
       "    }\n",
       "\n",
       "    .dataframe tbody tr th {\n",
       "        vertical-align: top;\n",
       "    }\n",
       "\n",
       "    .dataframe thead th {\n",
       "        text-align: right;\n",
       "    }\n",
       "</style>\n",
       "<table border=\"1\" class=\"dataframe\">\n",
       "  <tbody>\n",
       "    <tr>\n",
       "      <th>null_distribution</th>\n",
       "      <td>chi squared</td>\n",
       "    </tr>\n",
       "    <tr>\n",
       "      <th>degrees_of_freedom</th>\n",
       "      <td>1</td>\n",
       "    </tr>\n",
       "    <tr>\n",
       "      <th>model</th>\n",
       "      <td>&lt;lifelines.CoxPHFitter: fitted with 4070 total...</td>\n",
       "    </tr>\n",
       "    <tr>\n",
       "      <th>test_name</th>\n",
       "      <td>proportional_hazard_test</td>\n",
       "    </tr>\n",
       "  </tbody>\n",
       "</table>\n",
       "</div><table border=\"1\" class=\"dataframe\">\n",
       "  <thead>\n",
       "    <tr style=\"text-align: right;\">\n",
       "      <th></th>\n",
       "      <th></th>\n",
       "      <th>test_statistic</th>\n",
       "      <th>p</th>\n",
       "      <th>-log2(p)</th>\n",
       "    </tr>\n",
       "  </thead>\n",
       "  <tbody>\n",
       "    <tr>\n",
       "      <th rowspan=\"2\" valign=\"top\">gender</th>\n",
       "      <th>km</th>\n",
       "      <td>4.86</td>\n",
       "      <td>0.03</td>\n",
       "      <td>5.19</td>\n",
       "    </tr>\n",
       "    <tr>\n",
       "      <th>rank</th>\n",
       "      <td>4.45</td>\n",
       "      <td>0.03</td>\n",
       "      <td>4.84</td>\n",
       "    </tr>\n",
       "  </tbody>\n",
       "</table>"
      ],
      "text/latex": [
       "\\begin{tabular}{llrrr}\n",
       " &  & test_statistic & p & -log2(p) \\\\\n",
       "\\multirow[c]{2}{*}{gender} & km & 4.86 & 0.03 & 5.19 \\\\\n",
       " & rank & 4.45 & 0.03 & 4.84 \\\\\n",
       "\\end{tabular}\n"
      ],
      "text/plain": [
       "<lifelines.StatisticalResult: proportional_hazard_test>\n",
       " null_distribution = chi squared\n",
       "degrees_of_freedom = 1\n",
       "             model = <lifelines.CoxPHFitter: fitted with 4070 total observations, 2217 right-censored observations>\n",
       "         test_name = proportional_hazard_test\n",
       "\n",
       "---\n",
       "             test_statistic    p  -log2(p)\n",
       "gender km              4.86 0.03      5.19\n",
       "       rank            4.45 0.03      4.84"
      ]
     },
     "metadata": {},
     "output_type": "display_data"
    },
    {
     "name": "stdout",
     "output_type": "stream",
     "text": [
      "\n",
      "\n",
      "1. Variable 'gender' failed the non-proportional test: p-value is 0.0275.\n",
      "\n",
      "   Advice: with so few unique values (only 2), you can include `strata=['gender', ...]` in the call\n",
      "in `.fit`. See documentation in link [E] below.\n",
      "\n",
      "---\n",
      "[A]  https://lifelines.readthedocs.io/en/latest/jupyter_notebooks/Proportional%20hazard%20assumption.html\n",
      "[B]  https://lifelines.readthedocs.io/en/latest/jupyter_notebooks/Proportional%20hazard%20assumption.html#Bin-variable-and-stratify-on-it\n",
      "[C]  https://lifelines.readthedocs.io/en/latest/jupyter_notebooks/Proportional%20hazard%20assumption.html#Introduce-time-varying-covariates\n",
      "[D]  https://lifelines.readthedocs.io/en/latest/jupyter_notebooks/Proportional%20hazard%20assumption.html#Modify-the-functional-form\n",
      "[E]  https://lifelines.readthedocs.io/en/latest/jupyter_notebooks/Proportional%20hazard%20assumption.html#Stratification\n",
      "\n"
     ]
    },
    {
     "data": {
      "text/plain": [
       "[]"
      ]
     },
     "execution_count": 185,
     "metadata": {},
     "output_type": "execute_result"
    }
   ],
   "source": [
    "cph_sg1_o.check_assumptions(older_subgroup[['gender','censored_28', 'endpoint_28']]\n",
    "                          ,p_value_threshold=0.05)"
   ]
  },
  {
   "cell_type": "code",
   "execution_count": 186,
   "id": "36a0d6fc-81c0-4918-9017-e251c32564e6",
   "metadata": {
    "tags": []
   },
   "outputs": [
    {
     "data": {
      "image/png": "[encoded data removed]",
      "text/plain": [
       "<Figure size 640x480 with 1 Axes>"
      ]
     },
     "metadata": {},
     "output_type": "display_data"
    }
   ],
   "source": [
    "cph_sg1_o.plot_partial_effects_on_outcome(covariates='gender', values=[0, 1], cmap='coolwarm')\n",
    "plt.title('Survival Curves by Gender')\n",
    "plt.xlim(0,28)\n",
    "plt.ylim(0,1)\n",
    "plt.legend(['Male (0)', 'Female (1)'], title=\"Gender\")\n",
    "plt.show()"
   ]
  },
  {
   "cell_type": "code",
   "execution_count": 236,
   "id": "fd74c445-339c-47da-87e4-48007530c572",
   "metadata": {
    "tags": []
   },
   "outputs": [
    {
     "data": {
      "text/plain": [
       "covariate\n",
       "gender    0.963351\n",
       "Name: exp(coef), dtype: float64"
      ]
     },
     "execution_count": 236,
     "metadata": {},
     "output_type": "execute_result"
    }
   ],
   "source": [
    "cph_sg1_y.fit(\n",
    "    younger_subgroup[['gender','endpoint_28', 'censored_28']],\n",
    "    duration_col='endpoint_28',\n",
    "    event_col='censored_28',\n",
    ")\n",
    "cph_sg1_y.hazard_ratios_"
   ]
  },
  {
   "cell_type": "code",
   "execution_count": 237,
   "id": "95957036-a076-46c2-a395-1709fe5fbd46",
   "metadata": {
    "tags": []
   },
   "outputs": [
    {
     "data": {
      "text/html": [
       "<div>\n",
       "<style scoped>\n",
       "    .dataframe tbody tr th:only-of-type {\n",
       "        vertical-align: middle;\n",
       "    }\n",
       "\n",
       "    .dataframe tbody tr th {\n",
       "        vertical-align: top;\n",
       "    }\n",
       "\n",
       "    .dataframe thead th {\n",
       "        text-align: right;\n",
       "    }\n",
       "</style>\n",
       "<table border=\"1\" class=\"dataframe\">\n",
       "  <thead>\n",
       "    <tr style=\"text-align: right;\">\n",
       "      <th></th>\n",
       "      <th>coef</th>\n",
       "      <th>exp(coef)</th>\n",
       "      <th>se(coef)</th>\n",
       "      <th>coef lower 95%</th>\n",
       "      <th>coef upper 95%</th>\n",
       "      <th>exp(coef) lower 95%</th>\n",
       "      <th>exp(coef) upper 95%</th>\n",
       "      <th>cmp to</th>\n",
       "      <th>z</th>\n",
       "      <th>p</th>\n",
       "      <th>-log2(p)</th>\n",
       "    </tr>\n",
       "    <tr>\n",
       "      <th>covariate</th>\n",
       "      <th></th>\n",
       "      <th></th>\n",
       "      <th></th>\n",
       "      <th></th>\n",
       "      <th></th>\n",
       "      <th></th>\n",
       "      <th></th>\n",
       "      <th></th>\n",
       "      <th></th>\n",
       "      <th></th>\n",
       "      <th></th>\n",
       "    </tr>\n",
       "  </thead>\n",
       "  <tbody>\n",
       "    <tr>\n",
       "      <th>gender</th>\n",
       "      <td>-0.037338</td>\n",
       "      <td>0.963351</td>\n",
       "      <td>0.054728</td>\n",
       "      <td>-0.144603</td>\n",
       "      <td>0.069927</td>\n",
       "      <td>0.865366</td>\n",
       "      <td>1.07243</td>\n",
       "      <td>0.0</td>\n",
       "      <td>-0.682246</td>\n",
       "      <td>0.495084</td>\n",
       "      <td>1.014256</td>\n",
       "    </tr>\n",
       "  </tbody>\n",
       "</table>\n",
       "</div>"
      ],
      "text/plain": [
       "               coef  exp(coef)  se(coef)  coef lower 95%  coef upper 95%  \\\n",
       "covariate                                                                  \n",
       "gender    -0.037338   0.963351  0.054728       -0.144603        0.069927   \n",
       "\n",
       "           exp(coef) lower 95%  exp(coef) upper 95%  cmp to         z  \\\n",
       "covariate                                                               \n",
       "gender                0.865366              1.07243     0.0 -0.682246   \n",
       "\n",
       "                  p  -log2(p)  \n",
       "covariate                      \n",
       "gender     0.495084  1.014256  "
      ]
     },
     "execution_count": 237,
     "metadata": {},
     "output_type": "execute_result"
    }
   ],
   "source": [
    "cph_sg1_y.summary"
   ]
  },
  {
   "cell_type": "code",
   "execution_count": 238,
   "id": "1c89a508-45e3-4a1c-9713-96678e9c6364",
   "metadata": {
    "tags": []
   },
   "outputs": [
    {
     "data": {
      "text/plain": [
       "baseline cumulative hazard    0.39868\n",
       "Name: 28.0, dtype: float64"
      ]
     },
     "execution_count": 238,
     "metadata": {},
     "output_type": "execute_result"
    }
   ],
   "source": [
    "cph_sg1_y.baseline_cumulative_hazard_.iloc[-1,:]"
   ]
  },
  {
   "cell_type": "code",
   "execution_count": 240,
   "id": "65aea356-9352-4864-9162-f6569b0c2159",
   "metadata": {
    "tags": []
   },
   "outputs": [
    {
     "name": "stdout",
     "output_type": "stream",
     "text": [
      "Proportional hazard assumption looks okay.\n"
     ]
    },
    {
     "data": {
      "text/plain": [
       "[]"
      ]
     },
     "execution_count": 240,
     "metadata": {},
     "output_type": "execute_result"
    }
   ],
   "source": [
    "cph_sg1_y.check_assumptions(younger_subgroup[['gender','censored_28', 'endpoint_28']]\n",
    "                          ,p_value_threshold=0.05)"
   ]
  },
  {
   "cell_type": "markdown",
   "id": "eeef2f1d-cbaa-46b2-b9e5-29f040084b88",
   "metadata": {},
   "source": [
    "### Subgroup Two: Sepsis"
   ]
  },
  {
   "cell_type": "code",
   "execution_count": 241,
   "id": "fc63ebb4-b337-4180-b0ce-b5cf67f89147",
   "metadata": {},
   "outputs": [],
   "source": [
    "subgroup_sepsis_y = merged_copy[merged_copy['has_sepsis_at_admission']==1]\n",
    "subgroup_sepsis_n = merged_copy[merged_copy['has_sepsis_at_admission']==0]"
   ]
  },
  {
   "cell_type": "markdown",
   "id": "3eedd1a6-c8e0-451c-8091-13c33d224e93",
   "metadata": {},
   "source": [
    "#### Subgroup Two | One Year Endpoint"
   ]
  },
  {
   "cell_type": "code",
   "execution_count": 242,
   "id": "05443937-c3d8-4834-af57-3cfeebe78092",
   "metadata": {
    "tags": []
   },
   "outputs": [
    {
     "data": {
      "text/plain": [
       "covariate\n",
       "gender    1.029397\n",
       "Name: exp(coef), dtype: float64"
      ]
     },
     "execution_count": 242,
     "metadata": {},
     "output_type": "execute_result"
    }
   ],
   "source": [
    "cph_sg2_y = CoxPHFitter()\n",
    "cph_sg2_y.fit(\n",
    "    subgroup_sepsis_y[['gender','endpoint_365', 'censored_365']],\n",
    "    duration_col='endpoint_365',\n",
    "    event_col='censored_365',\n",
    ")\n",
    "cph_sg2_y.hazard_ratios_"
   ]
  },
  {
   "cell_type": "code",
   "execution_count": 243,
   "id": "bd7eb2d7-6c55-4186-a23b-1b3174cae915",
   "metadata": {
    "tags": []
   },
   "outputs": [
    {
     "data": {
      "text/html": [
       "<div>\n",
       "<style scoped>\n",
       "    .dataframe tbody tr th:only-of-type {\n",
       "        vertical-align: middle;\n",
       "    }\n",
       "\n",
       "    .dataframe tbody tr th {\n",
       "        vertical-align: top;\n",
       "    }\n",
       "\n",
       "    .dataframe thead th {\n",
       "        text-align: right;\n",
       "    }\n",
       "</style>\n",
       "<table border=\"1\" class=\"dataframe\">\n",
       "  <thead>\n",
       "    <tr style=\"text-align: right;\">\n",
       "      <th></th>\n",
       "      <th>coef</th>\n",
       "      <th>exp(coef)</th>\n",
       "      <th>se(coef)</th>\n",
       "      <th>coef lower 95%</th>\n",
       "      <th>coef upper 95%</th>\n",
       "      <th>exp(coef) lower 95%</th>\n",
       "      <th>exp(coef) upper 95%</th>\n",
       "      <th>cmp to</th>\n",
       "      <th>z</th>\n",
       "      <th>p</th>\n",
       "      <th>-log2(p)</th>\n",
       "    </tr>\n",
       "    <tr>\n",
       "      <th>covariate</th>\n",
       "      <th></th>\n",
       "      <th></th>\n",
       "      <th></th>\n",
       "      <th></th>\n",
       "      <th></th>\n",
       "      <th></th>\n",
       "      <th></th>\n",
       "      <th></th>\n",
       "      <th></th>\n",
       "      <th></th>\n",
       "      <th></th>\n",
       "    </tr>\n",
       "  </thead>\n",
       "  <tbody>\n",
       "    <tr>\n",
       "      <th>gender</th>\n",
       "      <td>0.028974</td>\n",
       "      <td>1.029397</td>\n",
       "      <td>0.093254</td>\n",
       "      <td>-0.153802</td>\n",
       "      <td>0.211749</td>\n",
       "      <td>0.857442</td>\n",
       "      <td>1.235837</td>\n",
       "      <td>0.0</td>\n",
       "      <td>0.310694</td>\n",
       "      <td>0.756033</td>\n",
       "      <td>0.403479</td>\n",
       "    </tr>\n",
       "  </tbody>\n",
       "</table>\n",
       "</div>"
      ],
      "text/plain": [
       "               coef  exp(coef)  se(coef)  coef lower 95%  coef upper 95%  \\\n",
       "covariate                                                                  \n",
       "gender     0.028974   1.029397  0.093254       -0.153802        0.211749   \n",
       "\n",
       "           exp(coef) lower 95%  exp(coef) upper 95%  cmp to         z  \\\n",
       "covariate                                                               \n",
       "gender                0.857442             1.235837     0.0  0.310694   \n",
       "\n",
       "                  p  -log2(p)  \n",
       "covariate                      \n",
       "gender     0.756033  0.403479  "
      ]
     },
     "execution_count": 243,
     "metadata": {},
     "output_type": "execute_result"
    }
   ],
   "source": [
    "cph_sg2_y.summary"
   ]
  },
  {
   "cell_type": "code",
   "execution_count": 244,
   "id": "0fdf24ea-1e5e-4710-81cb-ef7fa5d55eac",
   "metadata": {
    "tags": []
   },
   "outputs": [
    {
     "data": {
      "text/plain": [
       "baseline cumulative hazard    1.061986\n",
       "Name: 365.0, dtype: float64"
      ]
     },
     "execution_count": 244,
     "metadata": {},
     "output_type": "execute_result"
    }
   ],
   "source": [
    "cph_sg2_y.baseline_cumulative_hazard_.iloc[-1,:]"
   ]
  },
  {
   "cell_type": "code",
   "execution_count": 245,
   "id": "de68b268-a52c-4275-8ebf-56dd0c22874e",
   "metadata": {
    "tags": []
   },
   "outputs": [
    {
     "name": "stdout",
     "output_type": "stream",
     "text": [
      "Proportional hazard assumption looks okay.\n"
     ]
    },
    {
     "data": {
      "text/plain": [
       "[]"
      ]
     },
     "execution_count": 245,
     "metadata": {},
     "output_type": "execute_result"
    }
   ],
   "source": [
    "cph_sg2_y.check_assumptions(subgroup_sepsis_y[['gender','censored_365', 'endpoint_365']]\n",
    "                          ,p_value_threshold=0.05)"
   ]
  },
  {
   "cell_type": "markdown",
   "id": "f3ae4603-59b9-45f8-9aa0-52be64d36fff",
   "metadata": {
    "tags": []
   },
   "source": [
    "#### Subgroup Two | 28-days Endpoint"
   ]
  },
  {
   "cell_type": "code",
   "execution_count": 246,
   "id": "456d3436-f43c-4d48-9b65-e0f4966715a7",
   "metadata": {
    "tags": []
   },
   "outputs": [
    {
     "data": {
      "text/plain": [
       "covariate\n",
       "gender    1.040701\n",
       "Name: exp(coef), dtype: float64"
      ]
     },
     "execution_count": 246,
     "metadata": {},
     "output_type": "execute_result"
    }
   ],
   "source": [
    "cph_sg2_y = CoxPHFitter()\n",
    "cph_sg2_y.fit(\n",
    "    subgroup_sepsis_y[['gender','endpoint_28', 'censored_28']],\n",
    "    duration_col='endpoint_28',\n",
    "    event_col='censored_28',\n",
    ")\n",
    "cph_sg2_y.hazard_ratios_"
   ]
  },
  {
   "cell_type": "code",
   "execution_count": 247,
   "id": "5434800a-2584-4c24-9f92-d472de05f43d",
   "metadata": {
    "tags": []
   },
   "outputs": [
    {
     "data": {
      "text/plain": [
       "baseline cumulative hazard    0.667385\n",
       "Name: 28.0, dtype: float64"
      ]
     },
     "execution_count": 247,
     "metadata": {},
     "output_type": "execute_result"
    }
   ],
   "source": [
    "cph_sg2_y.baseline_cumulative_hazard_.iloc[-1,:]"
   ]
  },
  {
   "cell_type": "code",
   "execution_count": 248,
   "id": "871a2b22-56bd-4588-9ff3-5e95e42b9bbe",
   "metadata": {
    "tags": []
   },
   "outputs": [
    {
     "data": {
      "text/html": [
       "<div>\n",
       "<style scoped>\n",
       "    .dataframe tbody tr th:only-of-type {\n",
       "        vertical-align: middle;\n",
       "    }\n",
       "\n",
       "    .dataframe tbody tr th {\n",
       "        vertical-align: top;\n",
       "    }\n",
       "\n",
       "    .dataframe thead th {\n",
       "        text-align: right;\n",
       "    }\n",
       "</style>\n",
       "<table border=\"1\" class=\"dataframe\">\n",
       "  <thead>\n",
       "    <tr style=\"text-align: right;\">\n",
       "      <th></th>\n",
       "      <th>coef</th>\n",
       "      <th>exp(coef)</th>\n",
       "      <th>se(coef)</th>\n",
       "      <th>coef lower 95%</th>\n",
       "      <th>coef upper 95%</th>\n",
       "      <th>exp(coef) lower 95%</th>\n",
       "      <th>exp(coef) upper 95%</th>\n",
       "      <th>cmp to</th>\n",
       "      <th>z</th>\n",
       "      <th>p</th>\n",
       "      <th>-log2(p)</th>\n",
       "    </tr>\n",
       "    <tr>\n",
       "      <th>covariate</th>\n",
       "      <th></th>\n",
       "      <th></th>\n",
       "      <th></th>\n",
       "      <th></th>\n",
       "      <th></th>\n",
       "      <th></th>\n",
       "      <th></th>\n",
       "      <th></th>\n",
       "      <th></th>\n",
       "      <th></th>\n",
       "      <th></th>\n",
       "    </tr>\n",
       "  </thead>\n",
       "  <tbody>\n",
       "    <tr>\n",
       "      <th>gender</th>\n",
       "      <td>0.039894</td>\n",
       "      <td>1.040701</td>\n",
       "      <td>0.107786</td>\n",
       "      <td>-0.171362</td>\n",
       "      <td>0.251151</td>\n",
       "      <td>0.842516</td>\n",
       "      <td>1.285504</td>\n",
       "      <td>0.0</td>\n",
       "      <td>0.370126</td>\n",
       "      <td>0.711289</td>\n",
       "      <td>0.491492</td>\n",
       "    </tr>\n",
       "  </tbody>\n",
       "</table>\n",
       "</div>"
      ],
      "text/plain": [
       "               coef  exp(coef)  se(coef)  coef lower 95%  coef upper 95%  \\\n",
       "covariate                                                                  \n",
       "gender     0.039894   1.040701  0.107786       -0.171362        0.251151   \n",
       "\n",
       "           exp(coef) lower 95%  exp(coef) upper 95%  cmp to         z  \\\n",
       "covariate                                                               \n",
       "gender                0.842516             1.285504     0.0  0.370126   \n",
       "\n",
       "                  p  -log2(p)  \n",
       "covariate                      \n",
       "gender     0.711289  0.491492  "
      ]
     },
     "execution_count": 248,
     "metadata": {},
     "output_type": "execute_result"
    }
   ],
   "source": [
    "cph_sg2_y.summary"
   ]
  },
  {
   "cell_type": "code",
   "execution_count": 249,
   "id": "ef5adf23-9fe0-4ac0-bbee-02f70650359c",
   "metadata": {
    "tags": []
   },
   "outputs": [
    {
     "name": "stdout",
     "output_type": "stream",
     "text": [
      "Proportional hazard assumption looks okay.\n"
     ]
    },
    {
     "data": {
      "text/plain": [
       "[]"
      ]
     },
     "execution_count": 249,
     "metadata": {},
     "output_type": "execute_result"
    }
   ],
   "source": [
    "cph_sg2_y.check_assumptions(subgroup_sepsis_y[['gender','censored_28', 'endpoint_28']]\n",
    "                          ,p_value_threshold=0.05)"
   ]
  },
  {
   "cell_type": "markdown",
   "id": "dd233ed8-4ad5-455b-8211-dc37cbe23478",
   "metadata": {},
   "source": [
    "### Subgroup Three: Neurological Diseases"
   ]
  },
  {
   "cell_type": "code",
   "execution_count": 187,
   "id": "416e270b-440b-4846-ba92-3f586331152d",
   "metadata": {},
   "outputs": [],
   "source": [
    "subgroup_neuro_y = merged_copy[merged_copy['has_neurological_disease_at_admission']==1]\n",
    "subgroup_neuro_n = merged_copy[merged_copy['has_neurological_disease_at_admission']==0]"
   ]
  },
  {
   "cell_type": "markdown",
   "id": "1ce196af-6b17-457f-b88d-7efc677c1669",
   "metadata": {},
   "source": [
    "Subgroup Three | One Year Endpoint"
   ]
  },
  {
   "cell_type": "markdown",
   "id": "e8aeb7ba-909c-45ab-8a28-238561ecad18",
   "metadata": {
    "tags": []
   },
   "source": [
    "#### Subgroup Three | One Year Endpoint"
   ]
  },
  {
   "cell_type": "code",
   "execution_count": 251,
   "id": "c7bd22ed-a59b-4eb1-a587-81101c38bc20",
   "metadata": {
    "tags": []
   },
   "outputs": [
    {
     "data": {
      "text/plain": [
       "covariate\n",
       "gender    0.87289\n",
       "Name: exp(coef), dtype: float64"
      ]
     },
     "execution_count": 251,
     "metadata": {},
     "output_type": "execute_result"
    }
   ],
   "source": [
    "cph_sg3_y = CoxPHFitter()\n",
    "cph_sg3_y.fit(\n",
    "    subgroup_neuro_y[['gender','endpoint_365', 'censored_365']],\n",
    "    duration_col='endpoint_365',\n",
    "    event_col='censored_365',\n",
    ")\n",
    "cph_sg3_y.hazard_ratios_"
   ]
  },
  {
   "cell_type": "code",
   "execution_count": 252,
   "id": "f9f50e67-490e-4017-98e5-b0ff7294021f",
   "metadata": {
    "tags": []
   },
   "outputs": [
    {
     "data": {
      "text/html": [
       "<div>\n",
       "<style scoped>\n",
       "    .dataframe tbody tr th:only-of-type {\n",
       "        vertical-align: middle;\n",
       "    }\n",
       "\n",
       "    .dataframe tbody tr th {\n",
       "        vertical-align: top;\n",
       "    }\n",
       "\n",
       "    .dataframe thead th {\n",
       "        text-align: right;\n",
       "    }\n",
       "</style>\n",
       "<table border=\"1\" class=\"dataframe\">\n",
       "  <thead>\n",
       "    <tr style=\"text-align: right;\">\n",
       "      <th></th>\n",
       "      <th>coef</th>\n",
       "      <th>exp(coef)</th>\n",
       "      <th>se(coef)</th>\n",
       "      <th>coef lower 95%</th>\n",
       "      <th>coef upper 95%</th>\n",
       "      <th>exp(coef) lower 95%</th>\n",
       "      <th>exp(coef) upper 95%</th>\n",
       "      <th>cmp to</th>\n",
       "      <th>z</th>\n",
       "      <th>p</th>\n",
       "      <th>-log2(p)</th>\n",
       "    </tr>\n",
       "    <tr>\n",
       "      <th>covariate</th>\n",
       "      <th></th>\n",
       "      <th></th>\n",
       "      <th></th>\n",
       "      <th></th>\n",
       "      <th></th>\n",
       "      <th></th>\n",
       "      <th></th>\n",
       "      <th></th>\n",
       "      <th></th>\n",
       "      <th></th>\n",
       "      <th></th>\n",
       "    </tr>\n",
       "  </thead>\n",
       "  <tbody>\n",
       "    <tr>\n",
       "      <th>gender</th>\n",
       "      <td>-0.135945</td>\n",
       "      <td>0.87289</td>\n",
       "      <td>0.232784</td>\n",
       "      <td>-0.592194</td>\n",
       "      <td>0.320304</td>\n",
       "      <td>0.553112</td>\n",
       "      <td>1.377546</td>\n",
       "      <td>0.0</td>\n",
       "      <td>-0.583996</td>\n",
       "      <td>0.559223</td>\n",
       "      <td>0.838504</td>\n",
       "    </tr>\n",
       "  </tbody>\n",
       "</table>\n",
       "</div>"
      ],
      "text/plain": [
       "               coef  exp(coef)  se(coef)  coef lower 95%  coef upper 95%  \\\n",
       "covariate                                                                  \n",
       "gender    -0.135945    0.87289  0.232784       -0.592194        0.320304   \n",
       "\n",
       "           exp(coef) lower 95%  exp(coef) upper 95%  cmp to         z  \\\n",
       "covariate                                                               \n",
       "gender                0.553112             1.377546     0.0 -0.583996   \n",
       "\n",
       "                  p  -log2(p)  \n",
       "covariate                      \n",
       "gender     0.559223  0.838504  "
      ]
     },
     "execution_count": 252,
     "metadata": {},
     "output_type": "execute_result"
    }
   ],
   "source": [
    "cph_sg3_y.summary"
   ]
  },
  {
   "cell_type": "code",
   "execution_count": 253,
   "id": "3e31bbb0-f7ad-404a-9f23-b5ee3fcd72d1",
   "metadata": {
    "tags": []
   },
   "outputs": [
    {
     "name": "stdout",
     "output_type": "stream",
     "text": [
      "Proportional hazard assumption looks okay.\n"
     ]
    },
    {
     "data": {
      "text/plain": [
       "[]"
      ]
     },
     "execution_count": 253,
     "metadata": {},
     "output_type": "execute_result"
    }
   ],
   "source": [
    "cph_sg3_y.check_assumptions(subgroup_neuro_y[['gender','censored_365', 'endpoint_365']]\n",
    "                          ,p_value_threshold=0.05)"
   ]
  },
  {
   "cell_type": "markdown",
   "id": "b4b0ad7c-3a70-4d43-82c0-cd93605e119b",
   "metadata": {},
   "source": [
    "#### Subgroup Three | 28-days Endpoint"
   ]
  },
  {
   "cell_type": "code",
   "execution_count": 188,
   "id": "3df11142-ab83-49ef-bc79-05c1ba68d937",
   "metadata": {
    "tags": []
   },
   "outputs": [
    {
     "data": {
      "text/plain": [
       "covariate\n",
       "gender    1.032021\n",
       "Name: exp(coef), dtype: float64"
      ]
     },
     "execution_count": 188,
     "metadata": {},
     "output_type": "execute_result"
    }
   ],
   "source": [
    "cph_sg3_y = CoxPHFitter()\n",
    "cph_sg3_y.fit(\n",
    "    subgroup_neuro_y[['gender','endpoint_28', 'censored_28']],\n",
    "    duration_col='endpoint_28',\n",
    "    event_col='censored_28',\n",
    ")\n",
    "cph_sg3_y.hazard_ratios_"
   ]
  },
  {
   "cell_type": "code",
   "execution_count": 189,
   "id": "e4c06758-903e-48e6-9bef-fc7b6e59025e",
   "metadata": {
    "tags": []
   },
   "outputs": [
    {
     "data": {
      "text/html": [
       "<div>\n",
       "<style scoped>\n",
       "    .dataframe tbody tr th:only-of-type {\n",
       "        vertical-align: middle;\n",
       "    }\n",
       "\n",
       "    .dataframe tbody tr th {\n",
       "        vertical-align: top;\n",
       "    }\n",
       "\n",
       "    .dataframe thead th {\n",
       "        text-align: right;\n",
       "    }\n",
       "</style>\n",
       "<table border=\"1\" class=\"dataframe\">\n",
       "  <thead>\n",
       "    <tr style=\"text-align: right;\">\n",
       "      <th></th>\n",
       "      <th>coef</th>\n",
       "      <th>exp(coef)</th>\n",
       "      <th>se(coef)</th>\n",
       "      <th>coef lower 95%</th>\n",
       "      <th>coef upper 95%</th>\n",
       "      <th>exp(coef) lower 95%</th>\n",
       "      <th>exp(coef) upper 95%</th>\n",
       "      <th>cmp to</th>\n",
       "      <th>z</th>\n",
       "      <th>p</th>\n",
       "      <th>-log2(p)</th>\n",
       "    </tr>\n",
       "    <tr>\n",
       "      <th>covariate</th>\n",
       "      <th></th>\n",
       "      <th></th>\n",
       "      <th></th>\n",
       "      <th></th>\n",
       "      <th></th>\n",
       "      <th></th>\n",
       "      <th></th>\n",
       "      <th></th>\n",
       "      <th></th>\n",
       "      <th></th>\n",
       "      <th></th>\n",
       "    </tr>\n",
       "  </thead>\n",
       "  <tbody>\n",
       "    <tr>\n",
       "      <th>gender</th>\n",
       "      <td>0.031519</td>\n",
       "      <td>1.032021</td>\n",
       "      <td>0.29234</td>\n",
       "      <td>-0.541456</td>\n",
       "      <td>0.604495</td>\n",
       "      <td>0.5819</td>\n",
       "      <td>1.830327</td>\n",
       "      <td>0.0</td>\n",
       "      <td>0.107818</td>\n",
       "      <td>0.91414</td>\n",
       "      <td>0.129513</td>\n",
       "    </tr>\n",
       "  </tbody>\n",
       "</table>\n",
       "</div>"
      ],
      "text/plain": [
       "               coef  exp(coef)  se(coef)  coef lower 95%  coef upper 95%  \\\n",
       "covariate                                                                  \n",
       "gender     0.031519   1.032021   0.29234       -0.541456        0.604495   \n",
       "\n",
       "           exp(coef) lower 95%  exp(coef) upper 95%  cmp to         z  \\\n",
       "covariate                                                               \n",
       "gender                  0.5819             1.830327     0.0  0.107818   \n",
       "\n",
       "                 p  -log2(p)  \n",
       "covariate                     \n",
       "gender     0.91414  0.129513  "
      ]
     },
     "execution_count": 189,
     "metadata": {},
     "output_type": "execute_result"
    }
   ],
   "source": [
    "cph_sg3_y.summary"
   ]
  },
  {
   "cell_type": "markdown",
   "id": "c7555d13-a64c-44d9-bf28-ecd1e2c252d5",
   "metadata": {},
   "source": [
    "**This regression, although didn't pass the assumptions, showed relatively proportional trends in survival rate among men and women.**"
   ]
  },
  {
   "cell_type": "code",
   "execution_count": 190,
   "id": "d905bb52-9cb0-4b01-b5ea-02b6590b1291",
   "metadata": {
    "tags": []
   },
   "outputs": [
    {
     "name": "stdout",
     "output_type": "stream",
     "text": [
      "The ``p_value_threshold`` is set at 0.05. Even under the null hypothesis of no violations, some\n",
      "covariates will be below the threshold by chance. This is compounded when there are many covariates.\n",
      "Similarly, when there are lots of observations, even minor deviances from the proportional hazard\n",
      "assumption will be flagged.\n",
      "\n",
      "With that in mind, it's best to use a combination of statistical tests and visual tests to determine\n",
      "the most serious violations. Produce visual plots using ``check_assumptions(..., show_plots=True)``\n",
      "and looking for non-constant lines. See link [A] below for a full example.\n",
      "\n"
     ]
    },
    {
     "data": {
      "text/html": [
       "<div>\n",
       "<style scoped>\n",
       "    .dataframe tbody tr th:only-of-type {\n",
       "        vertical-align: middle;\n",
       "    }\n",
       "\n",
       "    .dataframe tbody tr th {\n",
       "        vertical-align: top;\n",
       "    }\n",
       "\n",
       "    .dataframe thead th {\n",
       "        text-align: right;\n",
       "    }\n",
       "</style>\n",
       "<table border=\"1\" class=\"dataframe\">\n",
       "  <tbody>\n",
       "    <tr>\n",
       "      <th>null_distribution</th>\n",
       "      <td>chi squared</td>\n",
       "    </tr>\n",
       "    <tr>\n",
       "      <th>degrees_of_freedom</th>\n",
       "      <td>1</td>\n",
       "    </tr>\n",
       "    <tr>\n",
       "      <th>model</th>\n",
       "      <td>&lt;lifelines.CoxPHFitter: fitted with 163 total ...</td>\n",
       "    </tr>\n",
       "    <tr>\n",
       "      <th>test_name</th>\n",
       "      <td>proportional_hazard_test</td>\n",
       "    </tr>\n",
       "  </tbody>\n",
       "</table>\n",
       "</div><table border=\"1\" class=\"dataframe\">\n",
       "  <thead>\n",
       "    <tr style=\"text-align: right;\">\n",
       "      <th></th>\n",
       "      <th></th>\n",
       "      <th>test_statistic</th>\n",
       "      <th>p</th>\n",
       "      <th>-log2(p)</th>\n",
       "    </tr>\n",
       "  </thead>\n",
       "  <tbody>\n",
       "    <tr>\n",
       "      <th rowspan=\"2\" valign=\"top\">gender</th>\n",
       "      <th>km</th>\n",
       "      <td>4.00</td>\n",
       "      <td>0.05</td>\n",
       "      <td>4.46</td>\n",
       "    </tr>\n",
       "    <tr>\n",
       "      <th>rank</th>\n",
       "      <td>3.42</td>\n",
       "      <td>0.06</td>\n",
       "      <td>3.95</td>\n",
       "    </tr>\n",
       "  </tbody>\n",
       "</table>"
      ],
      "text/latex": [
       "\\begin{tabular}{llrrr}\n",
       " &  & test_statistic & p & -log2(p) \\\\\n",
       "\\multirow[c]{2}{*}{gender} & km & 4.00 & 0.05 & 4.46 \\\\\n",
       " & rank & 3.42 & 0.06 & 3.95 \\\\\n",
       "\\end{tabular}\n"
      ],
      "text/plain": [
       "<lifelines.StatisticalResult: proportional_hazard_test>\n",
       " null_distribution = chi squared\n",
       "degrees_of_freedom = 1\n",
       "             model = <lifelines.CoxPHFitter: fitted with 163 total observations, 116 right-censored observations>\n",
       "         test_name = proportional_hazard_test\n",
       "\n",
       "---\n",
       "             test_statistic    p  -log2(p)\n",
       "gender km              4.00 0.05      4.46\n",
       "       rank            3.42 0.06      3.95"
      ]
     },
     "metadata": {},
     "output_type": "display_data"
    },
    {
     "name": "stdout",
     "output_type": "stream",
     "text": [
      "\n",
      "\n",
      "1. Variable 'gender' failed the non-proportional test: p-value is 0.0456.\n",
      "\n",
      "   Advice: with so few unique values (only 2), you can include `strata=['gender', ...]` in the call\n",
      "in `.fit`. See documentation in link [E] below.\n",
      "\n",
      "---\n",
      "[A]  https://lifelines.readthedocs.io/en/latest/jupyter_notebooks/Proportional%20hazard%20assumption.html\n",
      "[B]  https://lifelines.readthedocs.io/en/latest/jupyter_notebooks/Proportional%20hazard%20assumption.html#Bin-variable-and-stratify-on-it\n",
      "[C]  https://lifelines.readthedocs.io/en/latest/jupyter_notebooks/Proportional%20hazard%20assumption.html#Introduce-time-varying-covariates\n",
      "[D]  https://lifelines.readthedocs.io/en/latest/jupyter_notebooks/Proportional%20hazard%20assumption.html#Modify-the-functional-form\n",
      "[E]  https://lifelines.readthedocs.io/en/latest/jupyter_notebooks/Proportional%20hazard%20assumption.html#Stratification\n",
      "\n"
     ]
    },
    {
     "data": {
      "text/plain": [
       "[]"
      ]
     },
     "execution_count": 190,
     "metadata": {},
     "output_type": "execute_result"
    }
   ],
   "source": [
    "cph_sg3_y.check_assumptions(subgroup_neuro_y[['gender','censored_28', 'endpoint_28']]\n",
    "                          ,p_value_threshold=0.05)"
   ]
  },
  {
   "cell_type": "code",
   "execution_count": 194,
   "id": "c657340b-d4fc-4e34-9d40-9c60f9413ac7",
   "metadata": {
    "tags": []
   },
   "outputs": [
    {
     "data": {
      "image/png": "[encoded data removed]",
      "text/plain": [
       "<Figure size 640x480 with 1 Axes>"
      ]
     },
     "metadata": {},
     "output_type": "display_data"
    }
   ],
   "source": [
    "cph_sg3_y.plot_partial_effects_on_outcome(covariates='gender', values=[0, 1], cmap='coolwarm')\n",
    "plt.title('Survival Curves by Gender')\n",
    "plt.xlim(0,28)\n",
    "plt.ylim(0.5,1)\n",
    "plt.legend(['Male (0)', 'Female (1)'], title=\"Gender\")\n",
    "plt.show()"
   ]
  },
  {
   "cell_type": "markdown",
   "id": "b7a3d56e-f366-4d49-a758-0b59ce961731",
   "metadata": {
    "tags": []
   },
   "source": [
    "### Subgroup Four: Heart Failure"
   ]
  },
  {
   "cell_type": "code",
   "execution_count": 196,
   "id": "ef2350d3-225c-412f-8994-b6ec801643e7",
   "metadata": {
    "tags": []
   },
   "outputs": [],
   "source": [
    "subgroup_heartFailure_y = merged_copy[merged_copy['has_heart_failure']==1]\n",
    "subgroup_heartFailure_n = merged_copy[merged_copy['has_heart_failure']==0]"
   ]
  },
  {
   "cell_type": "code",
   "execution_count": 270,
   "id": "38a02ef5-58c3-4c25-8462-a7d5eea82da3",
   "metadata": {
    "tags": []
   },
   "outputs": [
    {
     "data": {
      "text/plain": [
       "(3496, 53)"
      ]
     },
     "execution_count": 270,
     "metadata": {},
     "output_type": "execute_result"
    }
   ],
   "source": [
    "subgroup_heartFailure_y.shape"
   ]
  },
  {
   "cell_type": "markdown",
   "id": "542c918b-8d42-48aa-9bec-40563b5afa6a",
   "metadata": {},
   "source": [
    "#### Subgroup Four | One Year Endpoint"
   ]
  },
  {
   "cell_type": "code",
   "execution_count": 258,
   "id": "ad79b0ba-4de6-4f0b-846c-25a030124d41",
   "metadata": {
    "tags": []
   },
   "outputs": [
    {
     "data": {
      "text/plain": [
       "covariate\n",
       "gender    1.01565\n",
       "Name: exp(coef), dtype: float64"
      ]
     },
     "execution_count": 258,
     "metadata": {},
     "output_type": "execute_result"
    }
   ],
   "source": [
    "cph_sg4_y = CoxPHFitter()\n",
    "cph_sg4_y.fit(\n",
    "    subgroup_heartFailure_y[['gender','endpoint_365', 'censored_365']],\n",
    "    duration_col='endpoint_365',\n",
    "    event_col='censored_365',\n",
    ")\n",
    "cph_sg4_y.hazard_ratios_"
   ]
  },
  {
   "cell_type": "code",
   "execution_count": 259,
   "id": "52ecffd3-d952-471d-bd82-1c9a9a9d1e1d",
   "metadata": {
    "tags": []
   },
   "outputs": [
    {
     "data": {
      "text/html": [
       "<div>\n",
       "<style scoped>\n",
       "    .dataframe tbody tr th:only-of-type {\n",
       "        vertical-align: middle;\n",
       "    }\n",
       "\n",
       "    .dataframe tbody tr th {\n",
       "        vertical-align: top;\n",
       "    }\n",
       "\n",
       "    .dataframe thead th {\n",
       "        text-align: right;\n",
       "    }\n",
       "</style>\n",
       "<table border=\"1\" class=\"dataframe\">\n",
       "  <thead>\n",
       "    <tr style=\"text-align: right;\">\n",
       "      <th></th>\n",
       "      <th>coef</th>\n",
       "      <th>exp(coef)</th>\n",
       "      <th>se(coef)</th>\n",
       "      <th>coef lower 95%</th>\n",
       "      <th>coef upper 95%</th>\n",
       "      <th>exp(coef) lower 95%</th>\n",
       "      <th>exp(coef) upper 95%</th>\n",
       "      <th>cmp to</th>\n",
       "      <th>z</th>\n",
       "      <th>p</th>\n",
       "      <th>-log2(p)</th>\n",
       "    </tr>\n",
       "    <tr>\n",
       "      <th>covariate</th>\n",
       "      <th></th>\n",
       "      <th></th>\n",
       "      <th></th>\n",
       "      <th></th>\n",
       "      <th></th>\n",
       "      <th></th>\n",
       "      <th></th>\n",
       "      <th></th>\n",
       "      <th></th>\n",
       "      <th></th>\n",
       "      <th></th>\n",
       "    </tr>\n",
       "  </thead>\n",
       "  <tbody>\n",
       "    <tr>\n",
       "      <th>gender</th>\n",
       "      <td>0.015529</td>\n",
       "      <td>1.01565</td>\n",
       "      <td>0.043536</td>\n",
       "      <td>-0.069799</td>\n",
       "      <td>0.100857</td>\n",
       "      <td>0.932581</td>\n",
       "      <td>1.106119</td>\n",
       "      <td>0.0</td>\n",
       "      <td>0.3567</td>\n",
       "      <td>0.721317</td>\n",
       "      <td>0.471296</td>\n",
       "    </tr>\n",
       "  </tbody>\n",
       "</table>\n",
       "</div>"
      ],
      "text/plain": [
       "               coef  exp(coef)  se(coef)  coef lower 95%  coef upper 95%  \\\n",
       "covariate                                                                  \n",
       "gender     0.015529    1.01565  0.043536       -0.069799        0.100857   \n",
       "\n",
       "           exp(coef) lower 95%  exp(coef) upper 95%  cmp to       z         p  \\\n",
       "covariate                                                                       \n",
       "gender                0.932581             1.106119     0.0  0.3567  0.721317   \n",
       "\n",
       "           -log2(p)  \n",
       "covariate            \n",
       "gender     0.471296  "
      ]
     },
     "execution_count": 259,
     "metadata": {},
     "output_type": "execute_result"
    }
   ],
   "source": [
    "cph_sg4_y.summary"
   ]
  },
  {
   "cell_type": "code",
   "execution_count": 260,
   "id": "97269613-89c7-4713-8b37-213afa06546e",
   "metadata": {
    "tags": []
   },
   "outputs": [
    {
     "name": "stdout",
     "output_type": "stream",
     "text": [
      "Proportional hazard assumption looks okay.\n"
     ]
    },
    {
     "data": {
      "text/plain": [
       "[]"
      ]
     },
     "execution_count": 260,
     "metadata": {},
     "output_type": "execute_result"
    }
   ],
   "source": [
    "cph_sg4_y.check_assumptions(subgroup_heartFailure_y[['gender','censored_365', 'endpoint_365']]\n",
    "                          ,p_value_threshold=0.05)"
   ]
  },
  {
   "cell_type": "markdown",
   "id": "13fefacc-e8de-439e-a5f0-39d54d6314ac",
   "metadata": {
    "tags": []
   },
   "source": [
    "#### Subgroup Four | 28-days Endpoint"
   ]
  },
  {
   "cell_type": "code",
   "execution_count": 197,
   "id": "76be19e8-03ff-4769-9ffb-0219a0785e5f",
   "metadata": {
    "tags": []
   },
   "outputs": [
    {
     "data": {
      "text/html": [
       "<div>\n",
       "<style scoped>\n",
       "    .dataframe tbody tr th:only-of-type {\n",
       "        vertical-align: middle;\n",
       "    }\n",
       "\n",
       "    .dataframe tbody tr th {\n",
       "        vertical-align: top;\n",
       "    }\n",
       "\n",
       "    .dataframe thead th {\n",
       "        text-align: right;\n",
       "    }\n",
       "</style>\n",
       "<table border=\"1\" class=\"dataframe\">\n",
       "  <thead>\n",
       "    <tr style=\"text-align: right;\">\n",
       "      <th></th>\n",
       "      <th>coef</th>\n",
       "      <th>exp(coef)</th>\n",
       "      <th>se(coef)</th>\n",
       "      <th>coef lower 95%</th>\n",
       "      <th>coef upper 95%</th>\n",
       "      <th>exp(coef) lower 95%</th>\n",
       "      <th>exp(coef) upper 95%</th>\n",
       "      <th>cmp to</th>\n",
       "      <th>z</th>\n",
       "      <th>p</th>\n",
       "      <th>-log2(p)</th>\n",
       "    </tr>\n",
       "    <tr>\n",
       "      <th>covariate</th>\n",
       "      <th></th>\n",
       "      <th></th>\n",
       "      <th></th>\n",
       "      <th></th>\n",
       "      <th></th>\n",
       "      <th></th>\n",
       "      <th></th>\n",
       "      <th></th>\n",
       "      <th></th>\n",
       "      <th></th>\n",
       "      <th></th>\n",
       "    </tr>\n",
       "  </thead>\n",
       "  <tbody>\n",
       "    <tr>\n",
       "      <th>gender</th>\n",
       "      <td>0.027238</td>\n",
       "      <td>1.027612</td>\n",
       "      <td>0.052194</td>\n",
       "      <td>-0.07506</td>\n",
       "      <td>0.129537</td>\n",
       "      <td>0.927687</td>\n",
       "      <td>1.138301</td>\n",
       "      <td>0.0</td>\n",
       "      <td>0.521861</td>\n",
       "      <td>0.601767</td>\n",
       "      <td>0.732723</td>\n",
       "    </tr>\n",
       "  </tbody>\n",
       "</table>\n",
       "</div>"
      ],
      "text/plain": [
       "               coef  exp(coef)  se(coef)  coef lower 95%  coef upper 95%  \\\n",
       "covariate                                                                  \n",
       "gender     0.027238   1.027612  0.052194        -0.07506        0.129537   \n",
       "\n",
       "           exp(coef) lower 95%  exp(coef) upper 95%  cmp to         z  \\\n",
       "covariate                                                               \n",
       "gender                0.927687             1.138301     0.0  0.521861   \n",
       "\n",
       "                  p  -log2(p)  \n",
       "covariate                      \n",
       "gender     0.601767  0.732723  "
      ]
     },
     "execution_count": 197,
     "metadata": {},
     "output_type": "execute_result"
    }
   ],
   "source": [
    "cph_sg4_y = CoxPHFitter()\n",
    "cph_sg4_y.fit(\n",
    "    subgroup_heartFailure_y[['gender','endpoint_28', 'censored_28']],\n",
    "    duration_col='endpoint_28',\n",
    "    event_col='censored_28',\n",
    ")\n",
    "cph_sg4_y.summary"
   ]
  },
  {
   "cell_type": "code",
   "execution_count": 198,
   "id": "9076e6e8-9a9e-49ae-8871-eee612813a1f",
   "metadata": {
    "tags": []
   },
   "outputs": [
    {
     "data": {
      "text/plain": [
       "covariate\n",
       "gender    1.027612\n",
       "Name: exp(coef), dtype: float64"
      ]
     },
     "execution_count": 198,
     "metadata": {},
     "output_type": "execute_result"
    }
   ],
   "source": [
    "cph_sg4_y.hazard_ratios_"
   ]
  },
  {
   "cell_type": "code",
   "execution_count": 199,
   "id": "35836566-90e6-45fc-a718-dff55152a58b",
   "metadata": {
    "tags": []
   },
   "outputs": [
    {
     "data": {
      "text/html": [
       "<div>\n",
       "<style scoped>\n",
       "    .dataframe tbody tr th:only-of-type {\n",
       "        vertical-align: middle;\n",
       "    }\n",
       "\n",
       "    .dataframe tbody tr th {\n",
       "        vertical-align: top;\n",
       "    }\n",
       "\n",
       "    .dataframe thead th {\n",
       "        text-align: right;\n",
       "    }\n",
       "</style>\n",
       "<table border=\"1\" class=\"dataframe\">\n",
       "  <thead>\n",
       "    <tr style=\"text-align: right;\">\n",
       "      <th></th>\n",
       "      <th>coef</th>\n",
       "      <th>exp(coef)</th>\n",
       "      <th>se(coef)</th>\n",
       "      <th>coef lower 95%</th>\n",
       "      <th>coef upper 95%</th>\n",
       "      <th>exp(coef) lower 95%</th>\n",
       "      <th>exp(coef) upper 95%</th>\n",
       "      <th>cmp to</th>\n",
       "      <th>z</th>\n",
       "      <th>p</th>\n",
       "      <th>-log2(p)</th>\n",
       "    </tr>\n",
       "    <tr>\n",
       "      <th>covariate</th>\n",
       "      <th></th>\n",
       "      <th></th>\n",
       "      <th></th>\n",
       "      <th></th>\n",
       "      <th></th>\n",
       "      <th></th>\n",
       "      <th></th>\n",
       "      <th></th>\n",
       "      <th></th>\n",
       "      <th></th>\n",
       "      <th></th>\n",
       "    </tr>\n",
       "  </thead>\n",
       "  <tbody>\n",
       "    <tr>\n",
       "      <th>gender</th>\n",
       "      <td>0.027238</td>\n",
       "      <td>1.027612</td>\n",
       "      <td>0.052194</td>\n",
       "      <td>-0.07506</td>\n",
       "      <td>0.129537</td>\n",
       "      <td>0.927687</td>\n",
       "      <td>1.138301</td>\n",
       "      <td>0.0</td>\n",
       "      <td>0.521861</td>\n",
       "      <td>0.601767</td>\n",
       "      <td>0.732723</td>\n",
       "    </tr>\n",
       "  </tbody>\n",
       "</table>\n",
       "</div>"
      ],
      "text/plain": [
       "               coef  exp(coef)  se(coef)  coef lower 95%  coef upper 95%  \\\n",
       "covariate                                                                  \n",
       "gender     0.027238   1.027612  0.052194        -0.07506        0.129537   \n",
       "\n",
       "           exp(coef) lower 95%  exp(coef) upper 95%  cmp to         z  \\\n",
       "covariate                                                               \n",
       "gender                0.927687             1.138301     0.0  0.521861   \n",
       "\n",
       "                  p  -log2(p)  \n",
       "covariate                      \n",
       "gender     0.601767  0.732723  "
      ]
     },
     "execution_count": 199,
     "metadata": {},
     "output_type": "execute_result"
    }
   ],
   "source": [
    "cph_sg4_y.summary"
   ]
  },
  {
   "cell_type": "code",
   "execution_count": 200,
   "id": "bf475331-8404-4a6d-a934-08fc03a6dc0b",
   "metadata": {
    "tags": []
   },
   "outputs": [
    {
     "name": "stdout",
     "output_type": "stream",
     "text": [
      "The ``p_value_threshold`` is set at 0.05. Even under the null hypothesis of no violations, some\n",
      "covariates will be below the threshold by chance. This is compounded when there are many covariates.\n",
      "Similarly, when there are lots of observations, even minor deviances from the proportional hazard\n",
      "assumption will be flagged.\n",
      "\n",
      "With that in mind, it's best to use a combination of statistical tests and visual tests to determine\n",
      "the most serious violations. Produce visual plots using ``check_assumptions(..., show_plots=True)``\n",
      "and looking for non-constant lines. See link [A] below for a full example.\n",
      "\n"
     ]
    },
    {
     "data": {
      "text/html": [
       "<div>\n",
       "<style scoped>\n",
       "    .dataframe tbody tr th:only-of-type {\n",
       "        vertical-align: middle;\n",
       "    }\n",
       "\n",
       "    .dataframe tbody tr th {\n",
       "        vertical-align: top;\n",
       "    }\n",
       "\n",
       "    .dataframe thead th {\n",
       "        text-align: right;\n",
       "    }\n",
       "</style>\n",
       "<table border=\"1\" class=\"dataframe\">\n",
       "  <tbody>\n",
       "    <tr>\n",
       "      <th>null_distribution</th>\n",
       "      <td>chi squared</td>\n",
       "    </tr>\n",
       "    <tr>\n",
       "      <th>degrees_of_freedom</th>\n",
       "      <td>1</td>\n",
       "    </tr>\n",
       "    <tr>\n",
       "      <th>model</th>\n",
       "      <td>&lt;lifelines.CoxPHFitter: fitted with 3496 total...</td>\n",
       "    </tr>\n",
       "    <tr>\n",
       "      <th>test_name</th>\n",
       "      <td>proportional_hazard_test</td>\n",
       "    </tr>\n",
       "  </tbody>\n",
       "</table>\n",
       "</div><table border=\"1\" class=\"dataframe\">\n",
       "  <thead>\n",
       "    <tr style=\"text-align: right;\">\n",
       "      <th></th>\n",
       "      <th></th>\n",
       "      <th>test_statistic</th>\n",
       "      <th>p</th>\n",
       "      <th>-log2(p)</th>\n",
       "    </tr>\n",
       "  </thead>\n",
       "  <tbody>\n",
       "    <tr>\n",
       "      <th rowspan=\"2\" valign=\"top\">gender</th>\n",
       "      <th>km</th>\n",
       "      <td>6.56</td>\n",
       "      <td>0.01</td>\n",
       "      <td>6.59</td>\n",
       "    </tr>\n",
       "    <tr>\n",
       "      <th>rank</th>\n",
       "      <td>6.22</td>\n",
       "      <td>0.01</td>\n",
       "      <td>6.31</td>\n",
       "    </tr>\n",
       "  </tbody>\n",
       "</table>"
      ],
      "text/latex": [
       "\\begin{tabular}{llrrr}\n",
       " &  & test_statistic & p & -log2(p) \\\\\n",
       "\\multirow[c]{2}{*}{gender} & km & 6.56 & 0.01 & 6.59 \\\\\n",
       " & rank & 6.22 & 0.01 & 6.31 \\\\\n",
       "\\end{tabular}\n"
      ],
      "text/plain": [
       "<lifelines.StatisticalResult: proportional_hazard_test>\n",
       " null_distribution = chi squared\n",
       "degrees_of_freedom = 1\n",
       "             model = <lifelines.CoxPHFitter: fitted with 3496 total observations, 2021 right-censored observations>\n",
       "         test_name = proportional_hazard_test\n",
       "\n",
       "---\n",
       "             test_statistic    p  -log2(p)\n",
       "gender km              6.56 0.01      6.59\n",
       "       rank            6.22 0.01      6.31"
      ]
     },
     "metadata": {},
     "output_type": "display_data"
    },
    {
     "name": "stdout",
     "output_type": "stream",
     "text": [
      "\n",
      "\n",
      "1. Variable 'gender' failed the non-proportional test: p-value is 0.0104.\n",
      "\n",
      "   Advice: with so few unique values (only 2), you can include `strata=['gender', ...]` in the call\n",
      "in `.fit`. See documentation in link [E] below.\n",
      "\n",
      "---\n",
      "[A]  https://lifelines.readthedocs.io/en/latest/jupyter_notebooks/Proportional%20hazard%20assumption.html\n",
      "[B]  https://lifelines.readthedocs.io/en/latest/jupyter_notebooks/Proportional%20hazard%20assumption.html#Bin-variable-and-stratify-on-it\n",
      "[C]  https://lifelines.readthedocs.io/en/latest/jupyter_notebooks/Proportional%20hazard%20assumption.html#Introduce-time-varying-covariates\n",
      "[D]  https://lifelines.readthedocs.io/en/latest/jupyter_notebooks/Proportional%20hazard%20assumption.html#Modify-the-functional-form\n",
      "[E]  https://lifelines.readthedocs.io/en/latest/jupyter_notebooks/Proportional%20hazard%20assumption.html#Stratification\n",
      "\n"
     ]
    },
    {
     "data": {
      "text/plain": [
       "[]"
      ]
     },
     "execution_count": 200,
     "metadata": {},
     "output_type": "execute_result"
    }
   ],
   "source": [
    "cph_sg4_y.check_assumptions(subgroup_heartFailure_y[['gender','censored_28', 'endpoint_28']]\n",
    "                          ,p_value_threshold=0.05)"
   ]
  },
  {
   "cell_type": "code",
   "execution_count": 201,
   "id": "28b9af12-c755-4de5-9235-f5682b08d5b8",
   "metadata": {
    "tags": []
   },
   "outputs": [
    {
     "data": {
      "image/png": "[encoded data removed]",
      "text/plain": [
       "<Figure size 640x480 with 1 Axes>"
      ]
     },
     "metadata": {},
     "output_type": "display_data"
    }
   ],
   "source": [
    "cph_sg4_y.plot_partial_effects_on_outcome(covariates='gender', values=[0, 1], cmap='coolwarm')\n",
    "plt.title('Survival Curves by Gender')\n",
    "plt.xlim(0,28)\n",
    "plt.ylim(0.5,1)\n",
    "plt.legend(['Male (0)', 'Female (1)'], title=\"Gender\")\n",
    "plt.show()"
   ]
  }
 ],
 "metadata": {
  "environment": {
   "kernel": "python3",
   "name": "common-cpu.m125",
   "type": "gcloud",
   "uri": "us-docker.pkg.dev/deeplearning-platform-release/gcr.io/base-cpu:m125"
  },
  "kernelspec": {
   "display_name": "Python 3 (Local)",
   "language": "python",
   "name": "python3"
  },
  "language_info": {
   "codemirror_mode": {
    "name": "ipython",
    "version": 3
   },
   "file_extension": ".py",
   "mimetype": "text/x-python",
   "name": "python",
   "nbconvert_exporter": "python",
   "pygments_lexer": "ipython3",
   "version": "3.10.15"
  },
  "toc-autonumbering": true,
  "toc-showmarkdowntxt": false
 },
 "nbformat": 4,
 "nbformat_minor": 5
}
